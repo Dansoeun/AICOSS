import requests
from bs4 import BeautifulSoup

# Headers for the request
headers = {
    'User-Agent': 'Mozilla/5.0 (Windows NT 10.0; Win64; x64) AppleWebKit/537.36 (KHTML, like Gecko) Chrome/73.0.3683.86 Safari/537.36'
}

# URL of the page to scrape
url = 'https://www.knu.ac.kr/wbbs/wbbs/user/yearSchedule/index.action?menu_idx=43'

# Sending a GET request to the URL
response = requests.get(url, headers=headers)

# Parsing the page content using BeautifulSoup
soup = BeautifulSoup(response.text, 'html.parser')

# Finding the calendar section
calendar = soup.find('div', id='calendar')

# Extracting the month and year
month_year = calendar.find('dt').get_text(strip=True)
print(f"Month and Year: {month_year}")

# Extracting the list of events
events = calendar.find_all('li')

# Printing each event with the corresponding day
for event in events:
    day = event.find('span', class_='day').get_text(strip=True)
    description = event.get_text(strip=True).replace(day, '').strip()
    print(f"{day}: {description}")
