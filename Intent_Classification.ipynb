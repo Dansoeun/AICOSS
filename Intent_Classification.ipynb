{
  "nbformat": 4,
  "nbformat_minor": 0,
  "metadata": {
    "colab": {
      "provenance": [],
      "collapsed_sections": [
        "DRxK-U6P3h-D",
        "z8vGgCe77ZeI"
      ],
      "mount_file_id": "1W1RAWFrCwQeDwp4pzLmD4MyrxWrNQ9pt",
      "authorship_tag": "ABX9TyP1oS9UIrbbN0Mpoybw7KId",
      "include_colab_link": true
    },
    "kernelspec": {
      "name": "python3",
      "display_name": "Python 3"
    },
    "language_info": {
      "name": "python"
    }
  },
  "cells": [
    {
      "cell_type": "markdown",
      "metadata": {
        "id": "view-in-github",
        "colab_type": "text"
      },
      "source": [
        "<a href=\"https://colab.research.google.com/github/Dansoeun/AICOSS/blob/ChatBot/Intent_Classification.ipynb\" target=\"_parent\"><img src=\"https://colab.research.google.com/assets/colab-badge.svg\" alt=\"Open In Colab\"/></a>"
      ]
    },
    {
      "cell_type": "markdown",
      "source": [
        "# Packages"
      ],
      "metadata": {
        "id": "jxqZOr-lKfRV"
      }
    },
    {
      "cell_type": "code",
      "execution_count": null,
      "metadata": {
        "colab": {
          "base_uri": "https://localhost:8080/"
        },
        "id": "hOppYKTaJCsp",
        "outputId": "5112d081-1796-4d94-9028-baa76989a702"
      },
      "outputs": [
        {
          "output_type": "execute_result",
          "data": {
            "text/plain": [
              "('test_label.npy', <http.client.HTTPMessage at 0x7a07eab58040>)"
            ]
          },
          "metadata": {},
          "execution_count": 1
        }
      ],
      "source": [
        "import os\n",
        "import pandas as pd\n",
        "import numpy as np\n",
        "import matplotlib.pyplot as plt\n",
        "%matplotlib inline\n",
        "\n",
        "from sklearn import preprocessing\n",
        "from tensorflow.keras.preprocessing.text import Tokenizer\n",
        "from tensorflow.keras.preprocessing.sequence import pad_sequences\n",
        "from tensorflow.keras.utils import to_categorical\n",
        "from tensorflow.keras.models import Model\n",
        "from tensorflow.keras.layers import Embedding, Dropout, Conv1D, GlobalMaxPooling1D, Dense, Input, Flatten, Concatenate\n",
        "from sklearn.metrics import classification_report\n",
        "import urllib.request\n",
        "\n",
        "urllib.request.urlretrieve(\"https://github.com/ajinkyaT/CNN_Intent_Classification/raw/master/data/train_text.npy\", filename=\"train_text.npy\")\n",
        "urllib.request.urlretrieve(\"https://github.com/ajinkyaT/CNN_Intent_Classification/raw/master/data/test_text.npy\", filename=\"test_text.npy\")\n",
        "urllib.request.urlretrieve(\"https://github.com/ajinkyaT/CNN_Intent_Classification/raw/master/data/train_label.npy\", filename=\"train_label.npy\")\n",
        "urllib.request.urlretrieve(\"https://github.com/ajinkyaT/CNN_Intent_Classification/raw/master/data/test_label.npy\", filename=\"test_label.npy\")"
      ]
    },
    {
      "cell_type": "markdown",
      "source": [
        "# Data Preprocessing"
      ],
      "metadata": {
        "id": "3sHjwY86Ktgy"
      }
    },
    {
      "cell_type": "code",
      "source": [
        "!ls"
      ],
      "metadata": {
        "colab": {
          "base_uri": "https://localhost:8080/"
        },
        "id": "Aq1RXHSuKbd_",
        "outputId": "89df012c-41ba-4f04-adb4-c0721f2865df"
      },
      "execution_count": null,
      "outputs": [
        {
          "output_type": "stream",
          "name": "stdout",
          "text": [
            "drive  sample_data  test_label.npy  test_text.npy  train_label.npy  train_text.npy\n"
          ]
        }
      ]
    },
    {
      "cell_type": "code",
      "source": [
        "old = np.load\n",
        "np.load = lambda *a, **k: old(*a, allow_pickle=True, **k)"
      ],
      "metadata": {
        "id": "tUfc-m6pKdl4"
      },
      "execution_count": null,
      "outputs": []
    },
    {
      "cell_type": "code",
      "source": [
        "import numpy as np\n",
        "\n",
        "intent_train = np.load(open('train_text.npy', 'rb')).tolist()\n",
        "label_train = np.load(open('train_label.npy', 'rb')).tolist()\n",
        "\n",
        "knowledge_train_path = '/content/drive/MyDrive/AICOSS/일반상식'\n",
        "\n",
        "try:\n",
        "    with open(knowledge_train_path, 'r', encoding='utf-8') as file:\n",
        "        knowledge_train = file.readlines()\n",
        "except Exception as e:\n",
        "    print(f\"파일을 불러오는 중 문제가 발생했습니다: {e}\")\n",
        "\n",
        "intent_test = np.load(open('test_text.npy', 'rb')).tolist()\n",
        "label_test = np.load(open('test_label.npy', 'rb')).tolist()"
      ],
      "metadata": {
        "id": "uw1zpPLlsPIA"
      },
      "execution_count": null,
      "outputs": []
    },
    {
      "cell_type": "code",
      "source": [
        "print('훈련용 문장의 수 :', len(intent_train))\n",
        "print('훈련용 레이블의 수 :', len(label_train))\n",
        "print('테스트용 문장의 수 :', len(intent_test))\n",
        "print('테스트용 레이블의 수 :', len(label_test))\n",
        "print('일반상식 문장의 수 :', len(knowledge_train))"
      ],
      "metadata": {
        "colab": {
          "base_uri": "https://localhost:8080/"
        },
        "id": "WQvaZqlHsSZ0",
        "outputId": "311d7b6e-e036-4f4c-a575-b46477de1d5e"
      },
      "execution_count": null,
      "outputs": [
        {
          "output_type": "stream",
          "name": "stdout",
          "text": [
            "훈련용 문장의 수 : 11784\n",
            "훈련용 레이블의 수 : 11784\n",
            "테스트용 문장의 수 : 600\n",
            "테스트용 레이블의 수 : 600\n",
            "일반상식 문장의 수 : 68539\n"
          ]
        }
      ]
    },
    {
      "cell_type": "code",
      "source": [
        "temp = pd.Series(label_train)\n",
        "temp.value_counts().plot(kind = 'bar',color='orange')"
      ],
      "metadata": {
        "colab": {
          "base_uri": "https://localhost:8080/",
          "height": 590
        },
        "id": "7SV_jUjEsWm9",
        "outputId": "226e6197-65b7-45a0-deab-346cda7909fa"
      },
      "execution_count": null,
      "outputs": [
        {
          "output_type": "execute_result",
          "data": {
            "text/plain": [
              "<Axes: >"
            ]
          },
          "metadata": {},
          "execution_count": 6
        },
        {
          "output_type": "display_data",
          "data": {
            "text/plain": [
              "<Figure size 640x480 with 1 Axes>"
            ],
            "image/png": "[encoded data removed]"
          },
          "metadata": {}
        }
      ]
    },
    {
      "cell_type": "code",
      "source": [
        "idx_encode = preprocessing.LabelEncoder()\n",
        "idx_encode.fit(label_train)"
      ],
      "metadata": {
        "colab": {
          "base_uri": "https://localhost:8080/",
          "height": 75
        },
        "id": "7hsoKbh-saIg",
        "outputId": "a83d78d7-058d-4e40-d432-8d8f5161c066"
      },
      "execution_count": null,
      "outputs": [
        {
          "output_type": "execute_result",
          "data": {
            "text/plain": [
              "LabelEncoder()"
            ],
            "text/html": [
              "<style>#sk-container-id-1 {color: black;}#sk-container-id-1 pre{padding: 0;}#sk-container-id-1 div.sk-toggleable {background-color: white;}#sk-container-id-1 label.sk-toggleable__label {cursor: pointer;display: block;width: 100%;margin-bottom: 0;padding: 0.3em;box-sizing: border-box;text-align: center;}#sk-container-id-1 label.sk-toggleable__label-arrow:before {content: \"▸\";float: left;margin-right: 0.25em;color: #696969;}#sk-container-id-1 label.sk-toggleable__label-arrow:hover:before {color: black;}#sk-container-id-1 div.sk-estimator:hover label.sk-toggleable__label-arrow:before {color: black;}#sk-container-id-1 div.sk-toggleable__content {max-height: 0;max-width: 0;overflow: hidden;text-align: left;background-color: #f0f8ff;}#sk-container-id-1 div.sk-toggleable__content pre {margin: 0.2em;color: black;border-radius: 0.25em;background-color: #f0f8ff;}#sk-container-id-1 input.sk-toggleable__control:checked~div.sk-toggleable__content {max-height: 200px;max-width: 100%;overflow: auto;}#sk-container-id-1 input.sk-toggleable__control:checked~label.sk-toggleable__label-arrow:before {content: \"▾\";}#sk-container-id-1 div.sk-estimator input.sk-toggleable__control:checked~label.sk-toggleable__label {background-color: #d4ebff;}#sk-container-id-1 div.sk-label input.sk-toggleable__control:checked~label.sk-toggleable__label {background-color: #d4ebff;}#sk-container-id-1 input.sk-hidden--visually {border: 0;clip: rect(1px 1px 1px 1px);clip: rect(1px, 1px, 1px, 1px);height: 1px;margin: -1px;overflow: hidden;padding: 0;position: absolute;width: 1px;}#sk-container-id-1 div.sk-estimator {font-family: monospace;background-color: #f0f8ff;border: 1px dotted black;border-radius: 0.25em;box-sizing: border-box;margin-bottom: 0.5em;}#sk-container-id-1 div.sk-estimator:hover {background-color: #d4ebff;}#sk-container-id-1 div.sk-parallel-item::after {content: \"\";width: 100%;border-bottom: 1px solid gray;flex-grow: 1;}#sk-container-id-1 div.sk-label:hover label.sk-toggleable__label {background-color: #d4ebff;}#sk-container-id-1 div.sk-serial::before {content: \"\";position: absolute;border-left: 1px solid gray;box-sizing: border-box;top: 0;bottom: 0;left: 50%;z-index: 0;}#sk-container-id-1 div.sk-serial {display: flex;flex-direction: column;align-items: center;background-color: white;padding-right: 0.2em;padding-left: 0.2em;position: relative;}#sk-container-id-1 div.sk-item {position: relative;z-index: 1;}#sk-container-id-1 div.sk-parallel {display: flex;align-items: stretch;justify-content: center;background-color: white;position: relative;}#sk-container-id-1 div.sk-item::before, #sk-container-id-1 div.sk-parallel-item::before {content: \"\";position: absolute;border-left: 1px solid gray;box-sizing: border-box;top: 0;bottom: 0;left: 50%;z-index: -1;}#sk-container-id-1 div.sk-parallel-item {display: flex;flex-direction: column;z-index: 1;position: relative;background-color: white;}#sk-container-id-1 div.sk-parallel-item:first-child::after {align-self: flex-end;width: 50%;}#sk-container-id-1 div.sk-parallel-item:last-child::after {align-self: flex-start;width: 50%;}#sk-container-id-1 div.sk-parallel-item:only-child::after {width: 0;}#sk-container-id-1 div.sk-dashed-wrapped {border: 1px dashed gray;margin: 0 0.4em 0.5em 0.4em;box-sizing: border-box;padding-bottom: 0.4em;background-color: white;}#sk-container-id-1 div.sk-label label {font-family: monospace;font-weight: bold;display: inline-block;line-height: 1.2em;}#sk-container-id-1 div.sk-label-container {text-align: center;}#sk-container-id-1 div.sk-container {/* jupyter's `normalize.less` sets `[hidden] { display: none; }` but bootstrap.min.css set `[hidden] { display: none !important; }` so we also need the `!important` here to be able to override the default hidden behavior on the sphinx rendered scikit-learn.org. See: https://github.com/scikit-learn/scikit-learn/issues/21755 */display: inline-block !important;position: relative;}#sk-container-id-1 div.sk-text-repr-fallback {display: none;}</style><div id=\"sk-container-id-1\" class=\"sk-top-container\"><div class=\"sk-text-repr-fallback\"><pre>LabelEncoder()</pre><b>In a Jupyter environment, please rerun this cell to show the HTML representation or trust the notebook. <br />On GitHub, the HTML representation is unable to render, please try loading this page with nbviewer.org.</b></div><div class=\"sk-container\" hidden><div class=\"sk-item\"><div class=\"sk-estimator sk-toggleable\"><input class=\"sk-toggleable__control sk-hidden--visually\" id=\"sk-estimator-id-1\" type=\"checkbox\" checked><label for=\"sk-estimator-id-1\" class=\"sk-toggleable__label sk-toggleable__label-arrow\">LabelEncoder</label><div class=\"sk-toggleable__content\"><pre>LabelEncoder()</pre></div></div></div></div></div>"
            ]
          },
          "metadata": {},
          "execution_count": 7
        }
      ]
    },
    {
      "cell_type": "code",
      "source": [
        "label_train = idx_encode.transform(label_train)\n",
        "label_test = idx_encode.transform(label_test)\n",
        "\n",
        "label_idx = dict(zip(list(idx_encode.classes_), idx_encode.transform(list(idx_encode.classes_))))\n",
        "print(label_idx)"
      ],
      "metadata": {
        "colab": {
          "base_uri": "https://localhost:8080/"
        },
        "id": "zk25fSMfscOe",
        "outputId": "c5d957c1-8c4a-40c5-817f-e097f5f39a68"
      },
      "execution_count": null,
      "outputs": [
        {
          "output_type": "stream",
          "name": "stdout",
          "text": [
            "{'AddToPlaylist': 0, 'BookRestaurant': 1, 'GetWeather': 2, 'RateBook': 3, 'SearchCreativeWork': 4, 'SearchScreeningEvent': 5}\n"
          ]
        }
      ]
    },
    {
      "cell_type": "code",
      "source": [
        "tokenizer = Tokenizer()\n",
        "tokenizer.fit_on_texts(intent_train)\n",
        "sequences = tokenizer.texts_to_sequences(intent_train)\n",
        "sequences[:5]"
      ],
      "metadata": {
        "colab": {
          "base_uri": "https://localhost:8080/"
        },
        "id": "-dlaOuifsfWl",
        "outputId": "a7e3640a-000a-4b7c-debb-ea4d94a49988"
      },
      "execution_count": null,
      "outputs": [
        {
          "output_type": "execute_result",
          "data": {
            "text/plain": [
              "[[11, 191, 61, 4, 1, 4013, 1141, 1572, 15],\n",
              " [11, 2624, 1573, 3, 14, 15, 939, 82, 256, 188, 548],\n",
              " [11, 187, 42, 2625, 4014, 4, 1968],\n",
              " [11, 2626, 22, 2627, 4, 14, 192, 27],\n",
              " [11, 92, 4, 14, 651, 520, 195]]"
            ]
          },
          "metadata": {},
          "execution_count": 9
        }
      ]
    },
    {
      "cell_type": "code",
      "source": [
        "word_index = tokenizer.word_index\n",
        "vocab_size = len(word_index) + 1\n",
        "print('단어 집합(Vocabulary)의 크기 :',vocab_size)"
      ],
      "metadata": {
        "colab": {
          "base_uri": "https://localhost:8080/"
        },
        "id": "86mwyk2BshV4",
        "outputId": "17b0b740-b525-41d1-814c-4d27406b7945"
      },
      "execution_count": null,
      "outputs": [
        {
          "output_type": "stream",
          "name": "stdout",
          "text": [
            "단어 집합(Vocabulary)의 크기 : 9870\n"
          ]
        }
      ]
    },
    {
      "cell_type": "code",
      "source": [
        "print('문장의 최대 길이 :',max(len(l) for l in sequences))\n",
        "print('문장의 평균 길이 :',sum(map(len, sequences))/len(sequences))\n",
        "plt.hist([len(s) for s in sequences], bins=50, color='orange')\n",
        "plt.xlabel('length of samples')\n",
        "plt.ylabel('number of samples')\n",
        "plt.show()"
      ],
      "metadata": {
        "colab": {
          "base_uri": "https://localhost:8080/",
          "height": 486
        },
        "id": "OcB40oabsj2S",
        "outputId": "de397945-0cbe-48f4-e065-6d776d12346d"
      },
      "execution_count": null,
      "outputs": [
        {
          "output_type": "stream",
          "name": "stdout",
          "text": [
            "문장의 최대 길이 : 35\n",
            "문장의 평균 길이 : 9.364392396469789\n"
          ]
        },
        {
          "output_type": "display_data",
          "data": {
            "text/plain": [
              "<Figure size 640x480 with 1 Axes>"
            ],
            "image/png": "[encoded data removed]"
          },
          "metadata": {}
        }
      ]
    },
    {
      "cell_type": "code",
      "source": [
        "max_len = 35\n",
        "intent_train = pad_sequences(sequences, maxlen = max_len)\n",
        "label_train = to_categorical(np.asarray(label_train))\n",
        "print('전체 데이터의 크기(shape):', intent_train.shape)\n",
        "print('레이블 데이터의 크기(shape):', label_train.shape)\n"
      ],
      "metadata": {
        "colab": {
          "base_uri": "https://localhost:8080/"
        },
        "id": "_E8-m97tsmhA",
        "outputId": "2f243414-d828-4005-fe5a-2ef4bfee4838"
      },
      "execution_count": null,
      "outputs": [
        {
          "output_type": "stream",
          "name": "stdout",
          "text": [
            "전체 데이터의 크기(shape): (11784, 35)\n",
            "레이블 데이터의 크기(shape): (11784, 6)\n"
          ]
        }
      ]
    },
    {
      "cell_type": "code",
      "source": [
        "print(intent_train[0])\n",
        "print(label_train[0])"
      ],
      "metadata": {
        "colab": {
          "base_uri": "https://localhost:8080/"
        },
        "id": "MLLXOtCEsoHW",
        "outputId": "a7dfdcb5-0f4a-473c-88dd-6a29eb00ed02"
      },
      "execution_count": null,
      "outputs": [
        {
          "output_type": "stream",
          "name": "stdout",
          "text": [
            "[   0    0    0    0    0    0    0    0    0    0    0    0    0    0\n",
            "    0    0    0    0    0    0    0    0    0    0    0    0   11  191\n",
            "   61    4    1 4013 1141 1572   15]\n",
            "[1. 0. 0. 0. 0. 0.]\n"
          ]
        }
      ]
    },
    {
      "cell_type": "code",
      "source": [
        "indices = np.arange(intent_train.shape[0])\n",
        "np.random.shuffle(indices)\n",
        "print(indices)"
      ],
      "metadata": {
        "colab": {
          "base_uri": "https://localhost:8080/"
        },
        "id": "ZsZZ2VFBsqFu",
        "outputId": "a5395d82-32f2-4184-9d30-c83807eeffbc"
      },
      "execution_count": null,
      "outputs": [
        {
          "output_type": "stream",
          "name": "stdout",
          "text": [
            "[  293  3539 11421 ...  5045  8900  4782]\n"
          ]
        }
      ]
    },
    {
      "cell_type": "code",
      "source": [
        "intent_train = intent_train[indices]\n",
        "label_train = label_train[indices]"
      ],
      "metadata": {
        "id": "9DOjNBmrsrjq"
      },
      "execution_count": null,
      "outputs": []
    },
    {
      "cell_type": "code",
      "source": [
        "n_of_val = int(0.1 * intent_train.shape[0])\n",
        "print(n_of_val)"
      ],
      "metadata": {
        "colab": {
          "base_uri": "https://localhost:8080/"
        },
        "id": "otwUOgdCstQW",
        "outputId": "43c671db-dd61-44e9-ebb8-fd4869800030"
      },
      "execution_count": null,
      "outputs": [
        {
          "output_type": "stream",
          "name": "stdout",
          "text": [
            "1178\n"
          ]
        }
      ]
    },
    {
      "cell_type": "code",
      "source": [
        "X_train = intent_train[:-n_of_val]\n",
        "y_train = label_train[:-n_of_val]\n",
        "X_val = intent_train[-n_of_val:]\n",
        "y_val = label_train[-n_of_val:]\n",
        "X_test = intent_test\n",
        "y_test = label_test\n",
        "print('훈련 데이터의 크기(shape):', X_train.shape)\n",
        "print('검증 데이터의 크기(shape):', X_val.shape)\n",
        "print('훈련 데이터 레이블의 개수(shape):', y_train.shape)\n",
        "print('검증 데이터 레이블의 개수(shape):', y_val.shape)\n",
        "print('테스트 데이터의 개수 :', len(X_test))\n",
        "print('테스트 데이터 레이블의 개수 :', len(y_test))"
      ],
      "metadata": {
        "colab": {
          "base_uri": "https://localhost:8080/"
        },
        "id": "fqB4AQqy0AZ0",
        "outputId": "4b57fc1d-2fb3-4e55-9abb-a744a32697cf"
      },
      "execution_count": null,
      "outputs": [
        {
          "output_type": "stream",
          "name": "stdout",
          "text": [
            "훈련 데이터의 크기(shape): (10606, 35)\n",
            "검증 데이터의 크기(shape): (1178, 35)\n",
            "훈련 데이터 레이블의 개수(shape): (10606, 6)\n",
            "검증 데이터 레이블의 개수(shape): (1178, 6)\n",
            "테스트 데이터의 개수 : 600\n",
            "테스트 데이터 레이블의 개수 : 600\n"
          ]
        }
      ]
    },
    {
      "cell_type": "code",
      "source": [
        "!wget http://nlp.stanford.edu/data/glove.6B.zip\n",
        "!unzip glove*.zip"
      ],
      "metadata": {
        "colab": {
          "base_uri": "https://localhost:8080/"
        },
        "id": "dF_pwO3-0HrD",
        "outputId": "fe4c8eda-0f1f-4519-f39c-a8bcf5bbff1b"
      },
      "execution_count": null,
      "outputs": [
        {
          "output_type": "stream",
          "name": "stdout",
          "text": [
            "--2024-08-29 14:16:22--  http://nlp.stanford.edu/data/glove.6B.zip\n",
            "Resolving nlp.stanford.edu (nlp.stanford.edu)... 171.64.67.140\n",
            "Connecting to nlp.stanford.edu (nlp.stanford.edu)|171.64.67.140|:80... connected.\n",
            "HTTP request sent, awaiting response... 302 Found\n",
            "Location: https://nlp.stanford.edu/data/glove.6B.zip [following]\n",
            "--2024-08-29 14:16:22--  https://nlp.stanford.edu/data/glove.6B.zip\n",
            "Connecting to nlp.stanford.edu (nlp.stanford.edu)|171.64.67.140|:443... connected.\n",
            "HTTP request sent, awaiting response... 301 Moved Permanently\n",
            "Location: https://downloads.cs.stanford.edu/nlp/data/glove.6B.zip [following]\n",
            "--2024-08-29 14:16:22--  https://downloads.cs.stanford.edu/nlp/data/glove.6B.zip\n",
            "Resolving downloads.cs.stanford.edu (downloads.cs.stanford.edu)... 171.64.64.22\n",
            "Connecting to downloads.cs.stanford.edu (downloads.cs.stanford.edu)|171.64.64.22|:443... connected.\n",
            "HTTP request sent, awaiting response... 200 OK\n",
            "Length: 862182613 (822M) [application/zip]\n",
            "Saving to: ‘glove.6B.zip’\n",
            "\n",
            "glove.6B.zip        100%[===================>] 822.24M  5.02MB/s    in 2m 38s  \n",
            "\n",
            "2024-08-29 14:19:01 (5.19 MB/s) - ‘glove.6B.zip’ saved [862182613/862182613]\n",
            "\n",
            "Archive:  glove.6B.zip\n",
            "  inflating: glove.6B.50d.txt        \n",
            "  inflating: glove.6B.100d.txt       \n",
            "  inflating: glove.6B.200d.txt       \n",
            "  inflating: glove.6B.300d.txt       \n"
          ]
        }
      ]
    },
    {
      "cell_type": "code",
      "source": [
        "embedding_dict = dict()\n",
        "f = open(os.path.join('glove.6B.100d.txt'), encoding='utf-8')\n",
        "for line in f:\n",
        "    word_vector = line.split()\n",
        "    word = word_vector[0]\n",
        "    word_vector_arr = np.asarray(word_vector[1:], dtype='float32') # 100개의 값을 가지는 array로 변환\n",
        "    embedding_dict[word] = word_vector_arr\n",
        "f.close()\n",
        "\n",
        "print('%s개의 Embedding vector가 있습니다.' % len(embedding_dict))"
      ],
      "metadata": {
        "colab": {
          "base_uri": "https://localhost:8080/"
        },
        "id": "YTSyPW6n08pl",
        "outputId": "c3138cc5-02dd-4d24-ffa4-edef0da6a46f"
      },
      "execution_count": null,
      "outputs": [
        {
          "output_type": "stream",
          "name": "stdout",
          "text": [
            "400000개의 Embedding vector가 있습니다.\n"
          ]
        }
      ]
    },
    {
      "cell_type": "code",
      "source": [
        "print(embedding_dict['playlist'])\n",
        "print(len(embedding_dict['playlist']))"
      ],
      "metadata": {
        "colab": {
          "base_uri": "https://localhost:8080/"
        },
        "id": "l629k6px1AWL",
        "outputId": "bf7c8dc0-85bc-4266-f968-4139994f801a"
      },
      "execution_count": null,
      "outputs": [
        {
          "output_type": "stream",
          "name": "stdout",
          "text": [
            "[-0.6528   -0.087126  0.069655 -0.5048    0.79019   0.65051   0.37976\n",
            "  0.20751   0.10412   0.95853   0.32161   0.36098  -0.21461  -0.59657\n",
            "  0.362    -0.3951   -0.58838   0.324     1.0287    0.4569   -0.24372\n",
            " -0.26496   0.1975   -0.78302   0.17163  -0.076737  0.83705   0.58432\n",
            "  0.71843   0.57522   0.11688   0.011023 -0.53676   0.73441   0.09844\n",
            "  0.8927   -0.211     0.015395 -0.2928   -1.3875    1.0756    0.13387\n",
            "  0.20341   0.86427  -0.096482 -0.06536  -0.52669  -0.36076   0.76218\n",
            "  0.3854   -0.39054   0.014445  0.20772   0.41165  -0.16024  -0.66007\n",
            "  0.13666  -0.34246   0.4382    0.49848   0.31481  -0.13102  -0.17373\n",
            "  0.061581  1.1336   -0.25673  -0.20472  -0.72834   0.38054  -0.35237\n",
            "  0.033096  0.43066  -0.36101  -0.096088 -0.15556  -0.028297  0.32882\n",
            "  0.019752  0.5847   -0.12215  -0.53096  -0.53096   0.25334  -0.13078\n",
            " -0.058533  0.40602  -0.23493   0.048578 -0.34938   1.0172   -0.44\n",
            "  1.2431   -0.32026  -0.22517  -0.079004 -0.3919    0.18961  -0.42287\n",
            " -0.028161  0.92989 ]\n",
            "100\n"
          ]
        }
      ]
    },
    {
      "cell_type": "code",
      "source": [
        "embedding_dim = 100\n",
        "embedding_matrix = np.zeros((vocab_size, embedding_dim))"
      ],
      "metadata": {
        "id": "SzArrQtX1Cfb"
      },
      "execution_count": null,
      "outputs": []
    },
    {
      "cell_type": "code",
      "source": [
        "np.shape(embedding_matrix)"
      ],
      "metadata": {
        "colab": {
          "base_uri": "https://localhost:8080/"
        },
        "id": "S-4geR041D5h",
        "outputId": "d4d1557b-ffff-45f4-9937-c61812a6be3e"
      },
      "execution_count": null,
      "outputs": [
        {
          "output_type": "execute_result",
          "data": {
            "text/plain": [
              "(9870, 100)"
            ]
          },
          "metadata": {},
          "execution_count": 22
        }
      ]
    },
    {
      "cell_type": "code",
      "source": [
        "for word, i in word_index.items():\n",
        "    embedding_vector = embedding_dict.get(word)\n",
        "    if embedding_vector is not None:\n",
        "        embedding_matrix[i] = embedding_vector"
      ],
      "metadata": {
        "id": "vUDNQwUL1Gtx"
      },
      "execution_count": null,
      "outputs": []
    },
    {
      "cell_type": "code",
      "source": [
        "from tensorflow.keras.models import Model\n",
        "from tensorflow.keras.layers import Embedding, Dropout, Conv1D, GlobalMaxPooling1D, Dense, Input, Flatten, Concatenate"
      ],
      "metadata": {
        "id": "lQ62ETUE1I0p"
      },
      "execution_count": null,
      "outputs": []
    },
    {
      "cell_type": "code",
      "source": [
        "filter_sizes = [2,3,5]\n",
        "num_filters = 512\n",
        "drop = 0.5"
      ],
      "metadata": {
        "id": "egpP7QWt1Kng"
      },
      "execution_count": null,
      "outputs": []
    },
    {
      "cell_type": "code",
      "source": [
        "model_input = Input(shape = (max_len,))\n",
        "z = Embedding(vocab_size, embedding_dim, weights=[embedding_matrix],\n",
        "                      input_length=max_len, trainable=False)(model_input)\n",
        "\n",
        "conv_blocks = []\n",
        "\n",
        "for sz in filter_sizes:\n",
        "    conv = Conv1D(filters = num_filters,\n",
        "                         kernel_size = sz,\n",
        "                         padding = \"valid\",\n",
        "                         activation = \"relu\",\n",
        "                         strides = 1)(z)\n",
        "    conv = GlobalMaxPooling1D()(conv)\n",
        "    conv = Flatten()(conv)\n",
        "    conv_blocks.append(conv)\n",
        "\n",
        "z = Concatenate()(conv_blocks) if len(conv_blocks) > 1 else conv_blocks[0]\n",
        "z = Dropout(drop)(z)\n",
        "model_output = Dense(len(label_idx), activation='softmax')(z)\n",
        "\n",
        "model = Model(model_input, model_output)\n",
        "\n",
        "model.compile(loss='categorical_crossentropy',\n",
        "              optimizer='adam',\n",
        "              metrics=['acc'])"
      ],
      "metadata": {
        "colab": {
          "base_uri": "https://localhost:8080/"
        },
        "id": "jiNQ47Jo1OLi",
        "outputId": "afe8074f-b9ea-403f-ab2a-2d8808f3e466"
      },
      "execution_count": null,
      "outputs": [
        {
          "output_type": "stream",
          "name": "stderr",
          "text": [
            "/usr/local/lib/python3.10/dist-packages/keras/src/layers/core/embedding.py:90: UserWarning: Argument `input_length` is deprecated. Just remove it.\n",
            "  warnings.warn(\n"
          ]
        }
      ]
    },
    {
      "cell_type": "code",
      "source": [
        "model.summary()"
      ],
      "metadata": {
        "colab": {
          "base_uri": "https://localhost:8080/",
          "height": 697
        },
        "id": "MHKxwHwL1RjB",
        "outputId": "eb3f57bb-3501-426b-dc44-1e07abbaa304"
      },
      "execution_count": null,
      "outputs": [
        {
          "output_type": "display_data",
          "data": {
            "text/plain": [
              "\u001b[1mModel: \"functional\"\u001b[0m\n"
            ],
            "text/html": [
              "<pre style=\"white-space:pre;overflow-x:auto;line-height:normal;font-family:Menlo,'DejaVu Sans Mono',consolas,'Courier New',monospace\"><span style=\"font-weight: bold\">Model: \"functional\"</span>\n",
              "</pre>\n"
            ]
          },
          "metadata": {}
        },
        {
          "output_type": "display_data",
          "data": {
            "text/plain": [
              "┏━━━━━━━━━━━━━━━━━━━━━━━━━━━┳━━━━━━━━━━━━━━━━━━━━━━━━┳━━━━━━━━━━━━━━━━┳━━━━━━━━━━━━━━━━━━━━━━━━┓\n",
              "┃\u001b[1m \u001b[0m\u001b[1mLayer (type)             \u001b[0m\u001b[1m \u001b[0m┃\u001b[1m \u001b[0m\u001b[1mOutput Shape          \u001b[0m\u001b[1m \u001b[0m┃\u001b[1m \u001b[0m\u001b[1m       Param #\u001b[0m\u001b[1m \u001b[0m┃\u001b[1m \u001b[0m\u001b[1mConnected to          \u001b[0m\u001b[1m \u001b[0m┃\n",
              "┡━━━━━━━━━━━━━━━━━━━━━━━━━━━╇━━━━━━━━━━━━━━━━━━━━━━━━╇━━━━━━━━━━━━━━━━╇━━━━━━━━━━━━━━━━━━━━━━━━┩\n",
              "│ input_layer (\u001b[38;5;33mInputLayer\u001b[0m)  │ (\u001b[38;5;45mNone\u001b[0m, \u001b[38;5;34m35\u001b[0m)             │              \u001b[38;5;34m0\u001b[0m │ -                      │\n",
              "├───────────────────────────┼────────────────────────┼────────────────┼────────────────────────┤\n",
              "│ embedding (\u001b[38;5;33mEmbedding\u001b[0m)     │ (\u001b[38;5;45mNone\u001b[0m, \u001b[38;5;34m35\u001b[0m, \u001b[38;5;34m100\u001b[0m)        │        \u001b[38;5;34m987,000\u001b[0m │ input_layer[\u001b[38;5;34m0\u001b[0m][\u001b[38;5;34m0\u001b[0m]      │\n",
              "├───────────────────────────┼────────────────────────┼────────────────┼────────────────────────┤\n",
              "│ conv1d (\u001b[38;5;33mConv1D\u001b[0m)           │ (\u001b[38;5;45mNone\u001b[0m, \u001b[38;5;34m34\u001b[0m, \u001b[38;5;34m512\u001b[0m)        │        \u001b[38;5;34m102,912\u001b[0m │ embedding[\u001b[38;5;34m0\u001b[0m][\u001b[38;5;34m0\u001b[0m]        │\n",
              "├───────────────────────────┼────────────────────────┼────────────────┼────────────────────────┤\n",
              "│ conv1d_1 (\u001b[38;5;33mConv1D\u001b[0m)         │ (\u001b[38;5;45mNone\u001b[0m, \u001b[38;5;34m33\u001b[0m, \u001b[38;5;34m512\u001b[0m)        │        \u001b[38;5;34m154,112\u001b[0m │ embedding[\u001b[38;5;34m0\u001b[0m][\u001b[38;5;34m0\u001b[0m]        │\n",
              "├───────────────────────────┼────────────────────────┼────────────────┼────────────────────────┤\n",
              "│ conv1d_2 (\u001b[38;5;33mConv1D\u001b[0m)         │ (\u001b[38;5;45mNone\u001b[0m, \u001b[38;5;34m31\u001b[0m, \u001b[38;5;34m512\u001b[0m)        │        \u001b[38;5;34m256,512\u001b[0m │ embedding[\u001b[38;5;34m0\u001b[0m][\u001b[38;5;34m0\u001b[0m]        │\n",
              "├───────────────────────────┼────────────────────────┼────────────────┼────────────────────────┤\n",
              "│ global_max_pooling1d      │ (\u001b[38;5;45mNone\u001b[0m, \u001b[38;5;34m512\u001b[0m)            │              \u001b[38;5;34m0\u001b[0m │ conv1d[\u001b[38;5;34m0\u001b[0m][\u001b[38;5;34m0\u001b[0m]           │\n",
              "│ (\u001b[38;5;33mGlobalMaxPooling1D\u001b[0m)      │                        │                │                        │\n",
              "├───────────────────────────┼────────────────────────┼────────────────┼────────────────────────┤\n",
              "│ global_max_pooling1d_1    │ (\u001b[38;5;45mNone\u001b[0m, \u001b[38;5;34m512\u001b[0m)            │              \u001b[38;5;34m0\u001b[0m │ conv1d_1[\u001b[38;5;34m0\u001b[0m][\u001b[38;5;34m0\u001b[0m]         │\n",
              "│ (\u001b[38;5;33mGlobalMaxPooling1D\u001b[0m)      │                        │                │                        │\n",
              "├───────────────────────────┼────────────────────────┼────────────────┼────────────────────────┤\n",
              "│ global_max_pooling1d_2    │ (\u001b[38;5;45mNone\u001b[0m, \u001b[38;5;34m512\u001b[0m)            │              \u001b[38;5;34m0\u001b[0m │ conv1d_2[\u001b[38;5;34m0\u001b[0m][\u001b[38;5;34m0\u001b[0m]         │\n",
              "│ (\u001b[38;5;33mGlobalMaxPooling1D\u001b[0m)      │                        │                │                        │\n",
              "├───────────────────────────┼────────────────────────┼────────────────┼────────────────────────┤\n",
              "│ flatten (\u001b[38;5;33mFlatten\u001b[0m)         │ (\u001b[38;5;45mNone\u001b[0m, \u001b[38;5;34m512\u001b[0m)            │              \u001b[38;5;34m0\u001b[0m │ global_max_pooling1d[\u001b[38;5;34m…\u001b[0m │\n",
              "├───────────────────────────┼────────────────────────┼────────────────┼────────────────────────┤\n",
              "│ flatten_1 (\u001b[38;5;33mFlatten\u001b[0m)       │ (\u001b[38;5;45mNone\u001b[0m, \u001b[38;5;34m512\u001b[0m)            │              \u001b[38;5;34m0\u001b[0m │ global_max_pooling1d_… │\n",
              "├───────────────────────────┼────────────────────────┼────────────────┼────────────────────────┤\n",
              "│ flatten_2 (\u001b[38;5;33mFlatten\u001b[0m)       │ (\u001b[38;5;45mNone\u001b[0m, \u001b[38;5;34m512\u001b[0m)            │              \u001b[38;5;34m0\u001b[0m │ global_max_pooling1d_… │\n",
              "├───────────────────────────┼────────────────────────┼────────────────┼────────────────────────┤\n",
              "│ concatenate (\u001b[38;5;33mConcatenate\u001b[0m) │ (\u001b[38;5;45mNone\u001b[0m, \u001b[38;5;34m1536\u001b[0m)           │              \u001b[38;5;34m0\u001b[0m │ flatten[\u001b[38;5;34m0\u001b[0m][\u001b[38;5;34m0\u001b[0m],         │\n",
              "│                           │                        │                │ flatten_1[\u001b[38;5;34m0\u001b[0m][\u001b[38;5;34m0\u001b[0m],       │\n",
              "│                           │                        │                │ flatten_2[\u001b[38;5;34m0\u001b[0m][\u001b[38;5;34m0\u001b[0m]        │\n",
              "├───────────────────────────┼────────────────────────┼────────────────┼────────────────────────┤\n",
              "│ dropout (\u001b[38;5;33mDropout\u001b[0m)         │ (\u001b[38;5;45mNone\u001b[0m, \u001b[38;5;34m1536\u001b[0m)           │              \u001b[38;5;34m0\u001b[0m │ concatenate[\u001b[38;5;34m0\u001b[0m][\u001b[38;5;34m0\u001b[0m]      │\n",
              "├───────────────────────────┼────────────────────────┼────────────────┼────────────────────────┤\n",
              "│ dense (\u001b[38;5;33mDense\u001b[0m)             │ (\u001b[38;5;45mNone\u001b[0m, \u001b[38;5;34m6\u001b[0m)              │          \u001b[38;5;34m9,222\u001b[0m │ dropout[\u001b[38;5;34m0\u001b[0m][\u001b[38;5;34m0\u001b[0m]          │\n",
              "└───────────────────────────┴────────────────────────┴────────────────┴────────────────────────┘\n"
            ],
            "text/html": [
              "<pre style=\"white-space:pre;overflow-x:auto;line-height:normal;font-family:Menlo,'DejaVu Sans Mono',consolas,'Courier New',monospace\">┏━━━━━━━━━━━━━━━━━━━━━━━━━━━┳━━━━━━━━━━━━━━━━━━━━━━━━┳━━━━━━━━━━━━━━━━┳━━━━━━━━━━━━━━━━━━━━━━━━┓\n",
              "┃<span style=\"font-weight: bold\"> Layer (type)              </span>┃<span style=\"font-weight: bold\"> Output Shape           </span>┃<span style=\"font-weight: bold\">        Param # </span>┃<span style=\"font-weight: bold\"> Connected to           </span>┃\n",
              "┡━━━━━━━━━━━━━━━━━━━━━━━━━━━╇━━━━━━━━━━━━━━━━━━━━━━━━╇━━━━━━━━━━━━━━━━╇━━━━━━━━━━━━━━━━━━━━━━━━┩\n",
              "│ input_layer (<span style=\"color: #0087ff; text-decoration-color: #0087ff\">InputLayer</span>)  │ (<span style=\"color: #00d7ff; text-decoration-color: #00d7ff\">None</span>, <span style=\"color: #00af00; text-decoration-color: #00af00\">35</span>)             │              <span style=\"color: #00af00; text-decoration-color: #00af00\">0</span> │ -                      │\n",
              "├───────────────────────────┼────────────────────────┼────────────────┼────────────────────────┤\n",
              "│ embedding (<span style=\"color: #0087ff; text-decoration-color: #0087ff\">Embedding</span>)     │ (<span style=\"color: #00d7ff; text-decoration-color: #00d7ff\">None</span>, <span style=\"color: #00af00; text-decoration-color: #00af00\">35</span>, <span style=\"color: #00af00; text-decoration-color: #00af00\">100</span>)        │        <span style=\"color: #00af00; text-decoration-color: #00af00\">987,000</span> │ input_layer[<span style=\"color: #00af00; text-decoration-color: #00af00\">0</span>][<span style=\"color: #00af00; text-decoration-color: #00af00\">0</span>]      │\n",
              "├───────────────────────────┼────────────────────────┼────────────────┼────────────────────────┤\n",
              "│ conv1d (<span style=\"color: #0087ff; text-decoration-color: #0087ff\">Conv1D</span>)           │ (<span style=\"color: #00d7ff; text-decoration-color: #00d7ff\">None</span>, <span style=\"color: #00af00; text-decoration-color: #00af00\">34</span>, <span style=\"color: #00af00; text-decoration-color: #00af00\">512</span>)        │        <span style=\"color: #00af00; text-decoration-color: #00af00\">102,912</span> │ embedding[<span style=\"color: #00af00; text-decoration-color: #00af00\">0</span>][<span style=\"color: #00af00; text-decoration-color: #00af00\">0</span>]        │\n",
              "├───────────────────────────┼────────────────────────┼────────────────┼────────────────────────┤\n",
              "│ conv1d_1 (<span style=\"color: #0087ff; text-decoration-color: #0087ff\">Conv1D</span>)         │ (<span style=\"color: #00d7ff; text-decoration-color: #00d7ff\">None</span>, <span style=\"color: #00af00; text-decoration-color: #00af00\">33</span>, <span style=\"color: #00af00; text-decoration-color: #00af00\">512</span>)        │        <span style=\"color: #00af00; text-decoration-color: #00af00\">154,112</span> │ embedding[<span style=\"color: #00af00; text-decoration-color: #00af00\">0</span>][<span style=\"color: #00af00; text-decoration-color: #00af00\">0</span>]        │\n",
              "├───────────────────────────┼────────────────────────┼────────────────┼────────────────────────┤\n",
              "│ conv1d_2 (<span style=\"color: #0087ff; text-decoration-color: #0087ff\">Conv1D</span>)         │ (<span style=\"color: #00d7ff; text-decoration-color: #00d7ff\">None</span>, <span style=\"color: #00af00; text-decoration-color: #00af00\">31</span>, <span style=\"color: #00af00; text-decoration-color: #00af00\">512</span>)        │        <span style=\"color: #00af00; text-decoration-color: #00af00\">256,512</span> │ embedding[<span style=\"color: #00af00; text-decoration-color: #00af00\">0</span>][<span style=\"color: #00af00; text-decoration-color: #00af00\">0</span>]        │\n",
              "├───────────────────────────┼────────────────────────┼────────────────┼────────────────────────┤\n",
              "│ global_max_pooling1d      │ (<span style=\"color: #00d7ff; text-decoration-color: #00d7ff\">None</span>, <span style=\"color: #00af00; text-decoration-color: #00af00\">512</span>)            │              <span style=\"color: #00af00; text-decoration-color: #00af00\">0</span> │ conv1d[<span style=\"color: #00af00; text-decoration-color: #00af00\">0</span>][<span style=\"color: #00af00; text-decoration-color: #00af00\">0</span>]           │\n",
              "│ (<span style=\"color: #0087ff; text-decoration-color: #0087ff\">GlobalMaxPooling1D</span>)      │                        │                │                        │\n",
              "├───────────────────────────┼────────────────────────┼────────────────┼────────────────────────┤\n",
              "│ global_max_pooling1d_1    │ (<span style=\"color: #00d7ff; text-decoration-color: #00d7ff\">None</span>, <span style=\"color: #00af00; text-decoration-color: #00af00\">512</span>)            │              <span style=\"color: #00af00; text-decoration-color: #00af00\">0</span> │ conv1d_1[<span style=\"color: #00af00; text-decoration-color: #00af00\">0</span>][<span style=\"color: #00af00; text-decoration-color: #00af00\">0</span>]         │\n",
              "│ (<span style=\"color: #0087ff; text-decoration-color: #0087ff\">GlobalMaxPooling1D</span>)      │                        │                │                        │\n",
              "├───────────────────────────┼────────────────────────┼────────────────┼────────────────────────┤\n",
              "│ global_max_pooling1d_2    │ (<span style=\"color: #00d7ff; text-decoration-color: #00d7ff\">None</span>, <span style=\"color: #00af00; text-decoration-color: #00af00\">512</span>)            │              <span style=\"color: #00af00; text-decoration-color: #00af00\">0</span> │ conv1d_2[<span style=\"color: #00af00; text-decoration-color: #00af00\">0</span>][<span style=\"color: #00af00; text-decoration-color: #00af00\">0</span>]         │\n",
              "│ (<span style=\"color: #0087ff; text-decoration-color: #0087ff\">GlobalMaxPooling1D</span>)      │                        │                │                        │\n",
              "├───────────────────────────┼────────────────────────┼────────────────┼────────────────────────┤\n",
              "│ flatten (<span style=\"color: #0087ff; text-decoration-color: #0087ff\">Flatten</span>)         │ (<span style=\"color: #00d7ff; text-decoration-color: #00d7ff\">None</span>, <span style=\"color: #00af00; text-decoration-color: #00af00\">512</span>)            │              <span style=\"color: #00af00; text-decoration-color: #00af00\">0</span> │ global_max_pooling1d[<span style=\"color: #00af00; text-decoration-color: #00af00\">…</span> │\n",
              "├───────────────────────────┼────────────────────────┼────────────────┼────────────────────────┤\n",
              "│ flatten_1 (<span style=\"color: #0087ff; text-decoration-color: #0087ff\">Flatten</span>)       │ (<span style=\"color: #00d7ff; text-decoration-color: #00d7ff\">None</span>, <span style=\"color: #00af00; text-decoration-color: #00af00\">512</span>)            │              <span style=\"color: #00af00; text-decoration-color: #00af00\">0</span> │ global_max_pooling1d_… │\n",
              "├───────────────────────────┼────────────────────────┼────────────────┼────────────────────────┤\n",
              "│ flatten_2 (<span style=\"color: #0087ff; text-decoration-color: #0087ff\">Flatten</span>)       │ (<span style=\"color: #00d7ff; text-decoration-color: #00d7ff\">None</span>, <span style=\"color: #00af00; text-decoration-color: #00af00\">512</span>)            │              <span style=\"color: #00af00; text-decoration-color: #00af00\">0</span> │ global_max_pooling1d_… │\n",
              "├───────────────────────────┼────────────────────────┼────────────────┼────────────────────────┤\n",
              "│ concatenate (<span style=\"color: #0087ff; text-decoration-color: #0087ff\">Concatenate</span>) │ (<span style=\"color: #00d7ff; text-decoration-color: #00d7ff\">None</span>, <span style=\"color: #00af00; text-decoration-color: #00af00\">1536</span>)           │              <span style=\"color: #00af00; text-decoration-color: #00af00\">0</span> │ flatten[<span style=\"color: #00af00; text-decoration-color: #00af00\">0</span>][<span style=\"color: #00af00; text-decoration-color: #00af00\">0</span>],         │\n",
              "│                           │                        │                │ flatten_1[<span style=\"color: #00af00; text-decoration-color: #00af00\">0</span>][<span style=\"color: #00af00; text-decoration-color: #00af00\">0</span>],       │\n",
              "│                           │                        │                │ flatten_2[<span style=\"color: #00af00; text-decoration-color: #00af00\">0</span>][<span style=\"color: #00af00; text-decoration-color: #00af00\">0</span>]        │\n",
              "├───────────────────────────┼────────────────────────┼────────────────┼────────────────────────┤\n",
              "│ dropout (<span style=\"color: #0087ff; text-decoration-color: #0087ff\">Dropout</span>)         │ (<span style=\"color: #00d7ff; text-decoration-color: #00d7ff\">None</span>, <span style=\"color: #00af00; text-decoration-color: #00af00\">1536</span>)           │              <span style=\"color: #00af00; text-decoration-color: #00af00\">0</span> │ concatenate[<span style=\"color: #00af00; text-decoration-color: #00af00\">0</span>][<span style=\"color: #00af00; text-decoration-color: #00af00\">0</span>]      │\n",
              "├───────────────────────────┼────────────────────────┼────────────────┼────────────────────────┤\n",
              "│ dense (<span style=\"color: #0087ff; text-decoration-color: #0087ff\">Dense</span>)             │ (<span style=\"color: #00d7ff; text-decoration-color: #00d7ff\">None</span>, <span style=\"color: #00af00; text-decoration-color: #00af00\">6</span>)              │          <span style=\"color: #00af00; text-decoration-color: #00af00\">9,222</span> │ dropout[<span style=\"color: #00af00; text-decoration-color: #00af00\">0</span>][<span style=\"color: #00af00; text-decoration-color: #00af00\">0</span>]          │\n",
              "└───────────────────────────┴────────────────────────┴────────────────┴────────────────────────┘\n",
              "</pre>\n"
            ]
          },
          "metadata": {}
        },
        {
          "output_type": "display_data",
          "data": {
            "text/plain": [
              "\u001b[1m Total params: \u001b[0m\u001b[38;5;34m1,509,758\u001b[0m (5.76 MB)\n"
            ],
            "text/html": [
              "<pre style=\"white-space:pre;overflow-x:auto;line-height:normal;font-family:Menlo,'DejaVu Sans Mono',consolas,'Courier New',monospace\"><span style=\"font-weight: bold\"> Total params: </span><span style=\"color: #00af00; text-decoration-color: #00af00\">1,509,758</span> (5.76 MB)\n",
              "</pre>\n"
            ]
          },
          "metadata": {}
        },
        {
          "output_type": "display_data",
          "data": {
            "text/plain": [
              "\u001b[1m Trainable params: \u001b[0m\u001b[38;5;34m522,758\u001b[0m (1.99 MB)\n"
            ],
            "text/html": [
              "<pre style=\"white-space:pre;overflow-x:auto;line-height:normal;font-family:Menlo,'DejaVu Sans Mono',consolas,'Courier New',monospace\"><span style=\"font-weight: bold\"> Trainable params: </span><span style=\"color: #00af00; text-decoration-color: #00af00\">522,758</span> (1.99 MB)\n",
              "</pre>\n"
            ]
          },
          "metadata": {}
        },
        {
          "output_type": "display_data",
          "data": {
            "text/plain": [
              "\u001b[1m Non-trainable params: \u001b[0m\u001b[38;5;34m987,000\u001b[0m (3.77 MB)\n"
            ],
            "text/html": [
              "<pre style=\"white-space:pre;overflow-x:auto;line-height:normal;font-family:Menlo,'DejaVu Sans Mono',consolas,'Courier New',monospace\"><span style=\"font-weight: bold\"> Non-trainable params: </span><span style=\"color: #00af00; text-decoration-color: #00af00\">987,000</span> (3.77 MB)\n",
              "</pre>\n"
            ]
          },
          "metadata": {}
        }
      ]
    },
    {
      "cell_type": "code",
      "source": [
        "history = model.fit(X_train, y_train,\n",
        "          batch_size=64,\n",
        "          epochs=10,\n",
        "          validation_data = (X_val, y_val))"
      ],
      "metadata": {
        "colab": {
          "base_uri": "https://localhost:8080/"
        },
        "id": "OOV3j8es1VNy",
        "outputId": "120f526e-c85c-4770-e2a5-f7c1f06dbc94"
      },
      "execution_count": null,
      "outputs": [
        {
          "output_type": "stream",
          "name": "stdout",
          "text": [
            "Epoch 1/10\n",
            "\u001b[1m166/166\u001b[0m \u001b[32m━━━━━━━━━━━━━━━━━━━━\u001b[0m\u001b[37m\u001b[0m \u001b[1m25s\u001b[0m 133ms/step - acc: 0.8512 - loss: 0.4292 - val_acc: 0.9796 - val_loss: 0.0756\n",
            "Epoch 2/10\n",
            "\u001b[1m166/166\u001b[0m \u001b[32m━━━━━━━━━━━━━━━━━━━━\u001b[0m\u001b[37m\u001b[0m \u001b[1m43s\u001b[0m 145ms/step - acc: 0.9836 - loss: 0.0551 - val_acc: 0.9830 - val_loss: 0.0579\n",
            "Epoch 3/10\n",
            "\u001b[1m166/166\u001b[0m \u001b[32m━━━━━━━━━━━━━━━━━━━━\u001b[0m\u001b[37m\u001b[0m \u001b[1m40s\u001b[0m 137ms/step - acc: 0.9916 - loss: 0.0285 - val_acc: 0.9839 - val_loss: 0.0552\n",
            "Epoch 4/10\n",
            "\u001b[1m166/166\u001b[0m \u001b[32m━━━━━━━━━━━━━━━━━━━━\u001b[0m\u001b[37m\u001b[0m \u001b[1m40s\u001b[0m 134ms/step - acc: 0.9951 - loss: 0.0184 - val_acc: 0.9864 - val_loss: 0.0521\n",
            "Epoch 5/10\n",
            "\u001b[1m166/166\u001b[0m \u001b[32m━━━━━━━━━━━━━━━━━━━━\u001b[0m\u001b[37m\u001b[0m \u001b[1m42s\u001b[0m 141ms/step - acc: 0.9976 - loss: 0.0122 - val_acc: 0.9830 - val_loss: 0.0573\n",
            "Epoch 6/10\n",
            "\u001b[1m166/166\u001b[0m \u001b[32m━━━━━━━━━━━━━━━━━━━━\u001b[0m\u001b[37m\u001b[0m \u001b[1m39s\u001b[0m 129ms/step - acc: 0.9969 - loss: 0.0093 - val_acc: 0.9830 - val_loss: 0.0557\n",
            "Epoch 7/10\n",
            "\u001b[1m166/166\u001b[0m \u001b[32m━━━━━━━━━━━━━━━━━━━━\u001b[0m\u001b[37m\u001b[0m \u001b[1m44s\u001b[0m 146ms/step - acc: 0.9990 - loss: 0.0058 - val_acc: 0.9847 - val_loss: 0.0569\n",
            "Epoch 8/10\n",
            "\u001b[1m166/166\u001b[0m \u001b[32m━━━━━━━━━━━━━━━━━━━━\u001b[0m\u001b[37m\u001b[0m \u001b[1m38s\u001b[0m 126ms/step - acc: 0.9989 - loss: 0.0052 - val_acc: 0.9856 - val_loss: 0.0600\n",
            "Epoch 9/10\n",
            "\u001b[1m166/166\u001b[0m \u001b[32m━━━━━━━━━━━━━━━━━━━━\u001b[0m\u001b[37m\u001b[0m \u001b[1m22s\u001b[0m 134ms/step - acc: 0.9995 - loss: 0.0030 - val_acc: 0.9864 - val_loss: 0.0604\n",
            "Epoch 10/10\n",
            "\u001b[1m166/166\u001b[0m \u001b[32m━━━━━━━━━━━━━━━━━━━━\u001b[0m\u001b[37m\u001b[0m \u001b[1m42s\u001b[0m 139ms/step - acc: 0.9987 - loss: 0.0047 - val_acc: 0.9822 - val_loss: 0.0702\n"
          ]
        }
      ]
    },
    {
      "cell_type": "code",
      "source": [
        "epochs = range(1, len(history.history['acc']) + 1)\n",
        "plt.plot(epochs, history.history['acc'])\n",
        "plt.plot(epochs, history.history['val_acc'])\n",
        "plt.title('model accuracy')\n",
        "plt.ylabel('accuracy')\n",
        "plt.xlabel('epochs')\n",
        "plt.legend(['train', 'test'], loc='lower right')\n",
        "plt.show()\n",
        "\n",
        "epochs = range(1, len(history.history['loss']) + 1)\n",
        "plt.plot(epochs, history.history['loss'])\n",
        "plt.plot(epochs, history.history['val_loss'])\n",
        "plt.title('model loss')\n",
        "plt.ylabel('loss')\n",
        "plt.xlabel('epochs')\n",
        "plt.legend(['train', 'test'], loc='upper right')\n",
        "plt.show()"
      ],
      "metadata": {
        "colab": {
          "base_uri": "https://localhost:8080/",
          "height": 927
        },
        "id": "KQ_9Q6Ox1XVv",
        "outputId": "6af5b65a-2339-4086-e36c-96f85a35696c"
      },
      "execution_count": null,
      "outputs": [
        {
          "output_type": "display_data",
          "data": {
            "text/plain": [
              "<Figure size 640x480 with 1 Axes>"
            ],
            "image/png": "[encoded data removed]"
          },
          "metadata": {}
        },
        {
          "output_type": "display_data",
          "data": {
            "text/plain": [
              "<Figure size 640x480 with 1 Axes>"
            ],
            "image/png": "[encoded data removed]"
          },
          "metadata": {}
        }
      ]
    },
    {
      "cell_type": "code",
      "source": [
        "X_test = tokenizer.texts_to_sequences(X_test)\n",
        "X_test = pad_sequences(X_test, maxlen=max_len)"
      ],
      "metadata": {
        "id": "iGkFjoP31cAC"
      },
      "execution_count": null,
      "outputs": []
    },
    {
      "cell_type": "code",
      "source": [
        "y_predicted = model.predict(X_test)\n",
        "y_predicted = y_predicted.argmax(axis=-1) # 예측된 정수 시퀀스로 변환"
      ],
      "metadata": {
        "colab": {
          "base_uri": "https://localhost:8080/"
        },
        "id": "JP9jzAyN1dRm",
        "outputId": "eb09ec00-1600-4384-c02e-08c5939b91c7"
      },
      "execution_count": null,
      "outputs": [
        {
          "output_type": "stream",
          "name": "stdout",
          "text": [
            "\u001b[1m19/19\u001b[0m \u001b[32m━━━━━━━━━━━━━━━━━━━━\u001b[0m\u001b[37m\u001b[0m \u001b[1m1s\u001b[0m 47ms/step\n"
          ]
        }
      ]
    },
    {
      "cell_type": "code",
      "source": [
        "y_predicted = idx_encode.inverse_transform(y_predicted)\n",
        "y_test = idx_encode.inverse_transform(y_test)"
      ],
      "metadata": {
        "id": "uFLiT3ef1fq7"
      },
      "execution_count": null,
      "outputs": []
    },
    {
      "cell_type": "code",
      "source": [
        "print('accuracy: ', sum(y_predicted == y_test) / len(y_test))\n",
        "print(\"Precision, Recall and F1-Score:\\n\\n\", classification_report(y_test, y_predicted))"
      ],
      "metadata": {
        "colab": {
          "base_uri": "https://localhost:8080/"
        },
        "id": "xFBDqOJt1h-i",
        "outputId": "489e1fe5-21f8-458f-ca44-011aed2a1e6d"
      },
      "execution_count": null,
      "outputs": [
        {
          "output_type": "stream",
          "name": "stdout",
          "text": [
            "accuracy:  0.98\n",
            "Precision, Recall and F1-Score:\n",
            "\n",
            "                       precision    recall  f1-score   support\n",
            "\n",
            "       AddToPlaylist       1.00      1.00      1.00       100\n",
            "      BookRestaurant       1.00      0.98      0.99       100\n",
            "          GetWeather       0.99      0.99      0.99       100\n",
            "            RateBook       1.00      1.00      1.00       100\n",
            "  SearchCreativeWork       0.91      1.00      0.95       100\n",
            "SearchScreeningEvent       0.99      0.91      0.95       100\n",
            "\n",
            "            accuracy                           0.98       600\n",
            "           macro avg       0.98      0.98      0.98       600\n",
            "        weighted avg       0.98      0.98      0.98       600\n",
            "\n"
          ]
        }
      ]
    },
    {
      "cell_type": "markdown",
      "source": [
        "# Text Preprocessing"
      ],
      "metadata": {
        "id": "SdLDf6KH289I"
      }
    },
    {
      "cell_type": "code",
      "source": [
        "import os\n",
        "import json\n",
        "import pandas as pd"
      ],
      "metadata": {
        "id": "VVhjqD2P2_Sz"
      },
      "execution_count": null,
      "outputs": []
    },
    {
      "cell_type": "code",
      "source": [
        "def counting(path):\n",
        "    cnt = 0\n",
        "    data_dir = path\n",
        "\n",
        "    for path in os.listdir(data_dir):\n",
        "        if os.path.isfile(os.path.join(data_dir, path)):\n",
        "            cnt += 1\n",
        "\n",
        "    print(f'데이터 개수 = {cnt}')\n",
        "    return cnt"
      ],
      "metadata": {
        "id": "8Q7lzVYo3Drs"
      },
      "execution_count": null,
      "outputs": []
    },
    {
      "cell_type": "code",
      "source": [
        "target_path = pd.read_csv(\"/content/drive/MyDrive/AICOSS/knu_dataset_csv.csv\", encoding = \"UTF-8\")"
      ],
      "metadata": {
        "id": "Oty87br83F1_"
      },
      "execution_count": null,
      "outputs": []
    },
    {
      "cell_type": "code",
      "source": [
        "target_path"
      ],
      "metadata": {
        "colab": {
          "base_uri": "https://localhost:8080/",
          "height": 424
        },
        "id": "7Exd0nTZ3HQ5",
        "outputId": "e62e56da-c3dc-4baf-dfcf-ffc14b8f94f1"
      },
      "execution_count": null,
      "outputs": [
        {
          "output_type": "execute_result",
          "data": {
            "text/plain": [
              "                       Question  \\\n",
              "0          치대 학생인데, 장학금을 받고싶어.    \n",
              "1                 의학과 교육과정을 알려줘   \n",
              "2                   컴학 공지사항 알려줘   \n",
              "3    AIcoss 학생인데 gpu 서버 사용하고 싶어   \n",
              "4                   인컴 교육과정 알려줘   \n",
              "..                          ...   \n",
              "190         봉사활동을 가고 싶은데 어캐해야할까   \n",
              "191                 수강 신청 하고 싶어   \n",
              "192                비교과 사이트가 궁금해   \n",
              "193                예대에 대해 알고 싶어   \n",
              "194                 컴학 홍보단이 뭐야?   \n",
              "\n",
              "                                                Answer  \n",
              "0                              https://dent.knu.ac.kr/  \n",
              "1    https://med.knu.ac.kr/pages/sub.htm?nav_code=k...  \n",
              "2    https://cse.knu.ac.kr/bbs/board.php?bo_table=s...  \n",
              "3                 https://aicoss.knu.ac.kr/gpu/list.do  \n",
              "4                   https://cse.knu.ac.kr/sub3_3_b.php  \n",
              "..                                                 ...  \n",
              "190                       https://volunteer.knu.ac.kr/  \n",
              "191                 https://sugang.knu.ac.kr/login.knu  \n",
              "192        https://knucube.knu.ac.kr/knucube_index.jsp  \n",
              "193                          https://mvarts.knu.ac.kr/  \n",
              "194                   https://cse.knu.ac.kr/sub6_2.php  \n",
              "\n",
              "[195 rows x 2 columns]"
            ],
            "text/html": [
              "\n",
              "  <div id=\"df-bf5c3aff-8159-4b5a-9152-6f5733e84704\" class=\"colab-df-container\">\n",
              "    <div>\n",
              "<style scoped>\n",
              "    .dataframe tbody tr th:only-of-type {\n",
              "        vertical-align: middle;\n",
              "    }\n",
              "\n",
              "    .dataframe tbody tr th {\n",
              "        vertical-align: top;\n",
              "    }\n",
              "\n",
              "    .dataframe thead th {\n",
              "        text-align: right;\n",
              "    }\n",
              "</style>\n",
              "<table border=\"1\" class=\"dataframe\">\n",
              "  <thead>\n",
              "    <tr style=\"text-align: right;\">\n",
              "      <th></th>\n",
              "      <th>Question</th>\n",
              "      <th>Answer</th>\n",
              "    </tr>\n",
              "  </thead>\n",
              "  <tbody>\n",
              "    <tr>\n",
              "      <th>0</th>\n",
              "      <td>치대 학생인데, 장학금을 받고싶어.</td>\n",
              "      <td>https://dent.knu.ac.kr/</td>\n",
              "    </tr>\n",
              "    <tr>\n",
              "      <th>1</th>\n",
              "      <td>의학과 교육과정을 알려줘</td>\n",
              "      <td>https://med.knu.ac.kr/pages/sub.htm?nav_code=k...</td>\n",
              "    </tr>\n",
              "    <tr>\n",
              "      <th>2</th>\n",
              "      <td>컴학 공지사항 알려줘</td>\n",
              "      <td>https://cse.knu.ac.kr/bbs/board.php?bo_table=s...</td>\n",
              "    </tr>\n",
              "    <tr>\n",
              "      <th>3</th>\n",
              "      <td>AIcoss 학생인데 gpu 서버 사용하고 싶어</td>\n",
              "      <td>https://aicoss.knu.ac.kr/gpu/list.do</td>\n",
              "    </tr>\n",
              "    <tr>\n",
              "      <th>4</th>\n",
              "      <td>인컴 교육과정 알려줘</td>\n",
              "      <td>https://cse.knu.ac.kr/sub3_3_b.php</td>\n",
              "    </tr>\n",
              "    <tr>\n",
              "      <th>...</th>\n",
              "      <td>...</td>\n",
              "      <td>...</td>\n",
              "    </tr>\n",
              "    <tr>\n",
              "      <th>190</th>\n",
              "      <td>봉사활동을 가고 싶은데 어캐해야할까</td>\n",
              "      <td>https://volunteer.knu.ac.kr/</td>\n",
              "    </tr>\n",
              "    <tr>\n",
              "      <th>191</th>\n",
              "      <td>수강 신청 하고 싶어</td>\n",
              "      <td>https://sugang.knu.ac.kr/login.knu</td>\n",
              "    </tr>\n",
              "    <tr>\n",
              "      <th>192</th>\n",
              "      <td>비교과 사이트가 궁금해</td>\n",
              "      <td>https://knucube.knu.ac.kr/knucube_index.jsp</td>\n",
              "    </tr>\n",
              "    <tr>\n",
              "      <th>193</th>\n",
              "      <td>예대에 대해 알고 싶어</td>\n",
              "      <td>https://mvarts.knu.ac.kr/</td>\n",
              "    </tr>\n",
              "    <tr>\n",
              "      <th>194</th>\n",
              "      <td>컴학 홍보단이 뭐야?</td>\n",
              "      <td>https://cse.knu.ac.kr/sub6_2.php</td>\n",
              "    </tr>\n",
              "  </tbody>\n",
              "</table>\n",
              "<p>195 rows × 2 columns</p>\n",
              "</div>\n",
              "    <div class=\"colab-df-buttons\">\n",
              "\n",
              "  <div class=\"colab-df-container\">\n",
              "    <button class=\"colab-df-convert\" onclick=\"convertToInteractive('df-bf5c3aff-8159-4b5a-9152-6f5733e84704')\"\n",
              "            title=\"Convert this dataframe to an interactive table.\"\n",
              "            style=\"display:none;\">\n",
              "\n",
              "  <svg xmlns=\"http://www.w3.org/2000/svg\" height=\"24px\" viewBox=\"0 -960 960 960\">\n",
              "    <path d=\"M120-120v-720h720v720H120Zm60-500h600v-160H180v160Zm220 220h160v-160H400v160Zm0 220h160v-160H400v160ZM180-400h160v-160H180v160Zm440 0h160v-160H620v160ZM180-180h160v-160H180v160Zm440 0h160v-160H620v160Z\"/>\n",
              "  </svg>\n",
              "    </button>\n",
              "\n",
              "  <style>\n",
              "    .colab-df-container {\n",
              "      display:flex;\n",
              "      gap: 12px;\n",
              "    }\n",
              "\n",
              "    .colab-df-convert {\n",
              "      background-color: #E8F0FE;\n",
              "      border: none;\n",
              "      border-radius: 50%;\n",
              "      cursor: pointer;\n",
              "      display: none;\n",
              "      fill: #1967D2;\n",
              "      height: 32px;\n",
              "      padding: 0 0 0 0;\n",
              "      width: 32px;\n",
              "    }\n",
              "\n",
              "    .colab-df-convert:hover {\n",
              "      background-color: #E2EBFA;\n",
              "      box-shadow: 0px 1px 2px rgba(60, 64, 67, 0.3), 0px 1px 3px 1px rgba(60, 64, 67, 0.15);\n",
              "      fill: #174EA6;\n",
              "    }\n",
              "\n",
              "    .colab-df-buttons div {\n",
              "      margin-bottom: 4px;\n",
              "    }\n",
              "\n",
              "    [theme=dark] .colab-df-convert {\n",
              "      background-color: #3B4455;\n",
              "      fill: #D2E3FC;\n",
              "    }\n",
              "\n",
              "    [theme=dark] .colab-df-convert:hover {\n",
              "      background-color: #434B5C;\n",
              "      box-shadow: 0px 1px 3px 1px rgba(0, 0, 0, 0.15);\n",
              "      filter: drop-shadow(0px 1px 2px rgba(0, 0, 0, 0.3));\n",
              "      fill: #FFFFFF;\n",
              "    }\n",
              "  </style>\n",
              "\n",
              "    <script>\n",
              "      const buttonEl =\n",
              "        document.querySelector('#df-bf5c3aff-8159-4b5a-9152-6f5733e84704 button.colab-df-convert');\n",
              "      buttonEl.style.display =\n",
              "        google.colab.kernel.accessAllowed ? 'block' : 'none';\n",
              "\n",
              "      async function convertToInteractive(key) {\n",
              "        const element = document.querySelector('#df-bf5c3aff-8159-4b5a-9152-6f5733e84704');\n",
              "        const dataTable =\n",
              "          await google.colab.kernel.invokeFunction('convertToInteractive',\n",
              "                                                    [key], {});\n",
              "        if (!dataTable) return;\n",
              "\n",
              "        const docLinkHtml = 'Like what you see? Visit the ' +\n",
              "          '<a target=\"_blank\" href=https://colab.research.google.com/notebooks/data_table.ipynb>data table notebook</a>'\n",
              "          + ' to learn more about interactive tables.';\n",
              "        element.innerHTML = '';\n",
              "        dataTable['output_type'] = 'display_data';\n",
              "        await google.colab.output.renderOutput(dataTable, element);\n",
              "        const docLink = document.createElement('div');\n",
              "        docLink.innerHTML = docLinkHtml;\n",
              "        element.appendChild(docLink);\n",
              "      }\n",
              "    </script>\n",
              "  </div>\n",
              "\n",
              "\n",
              "<div id=\"df-023bd755-949f-4171-8f0b-01aa9aeed125\">\n",
              "  <button class=\"colab-df-quickchart\" onclick=\"quickchart('df-023bd755-949f-4171-8f0b-01aa9aeed125')\"\n",
              "            title=\"Suggest charts\"\n",
              "            style=\"display:none;\">\n",
              "\n",
              "<svg xmlns=\"http://www.w3.org/2000/svg\" height=\"24px\"viewBox=\"0 0 24 24\"\n",
              "     width=\"24px\">\n",
              "    <g>\n",
              "        <path d=\"M19 3H5c-1.1 0-2 .9-2 2v14c0 1.1.9 2 2 2h14c1.1 0 2-.9 2-2V5c0-1.1-.9-2-2-2zM9 17H7v-7h2v7zm4 0h-2V7h2v10zm4 0h-2v-4h2v4z\"/>\n",
              "    </g>\n",
              "</svg>\n",
              "  </button>\n",
              "\n",
              "<style>\n",
              "  .colab-df-quickchart {\n",
              "      --bg-color: #E8F0FE;\n",
              "      --fill-color: #1967D2;\n",
              "      --hover-bg-color: #E2EBFA;\n",
              "      --hover-fill-color: #174EA6;\n",
              "      --disabled-fill-color: #AAA;\n",
              "      --disabled-bg-color: #DDD;\n",
              "  }\n",
              "\n",
              "  [theme=dark] .colab-df-quickchart {\n",
              "      --bg-color: #3B4455;\n",
              "      --fill-color: #D2E3FC;\n",
              "      --hover-bg-color: #434B5C;\n",
              "      --hover-fill-color: #FFFFFF;\n",
              "      --disabled-bg-color: #3B4455;\n",
              "      --disabled-fill-color: #666;\n",
              "  }\n",
              "\n",
              "  .colab-df-quickchart {\n",
              "    background-color: var(--bg-color);\n",
              "    border: none;\n",
              "    border-radius: 50%;\n",
              "    cursor: pointer;\n",
              "    display: none;\n",
              "    fill: var(--fill-color);\n",
              "    height: 32px;\n",
              "    padding: 0;\n",
              "    width: 32px;\n",
              "  }\n",
              "\n",
              "  .colab-df-quickchart:hover {\n",
              "    background-color: var(--hover-bg-color);\n",
              "    box-shadow: 0 1px 2px rgba(60, 64, 67, 0.3), 0 1px 3px 1px rgba(60, 64, 67, 0.15);\n",
              "    fill: var(--button-hover-fill-color);\n",
              "  }\n",
              "\n",
              "  .colab-df-quickchart-complete:disabled,\n",
              "  .colab-df-quickchart-complete:disabled:hover {\n",
              "    background-color: var(--disabled-bg-color);\n",
              "    fill: var(--disabled-fill-color);\n",
              "    box-shadow: none;\n",
              "  }\n",
              "\n",
              "  .colab-df-spinner {\n",
              "    border: 2px solid var(--fill-color);\n",
              "    border-color: transparent;\n",
              "    border-bottom-color: var(--fill-color);\n",
              "    animation:\n",
              "      spin 1s steps(1) infinite;\n",
              "  }\n",
              "\n",
              "  @keyframes spin {\n",
              "    0% {\n",
              "      border-color: transparent;\n",
              "      border-bottom-color: var(--fill-color);\n",
              "      border-left-color: var(--fill-color);\n",
              "    }\n",
              "    20% {\n",
              "      border-color: transparent;\n",
              "      border-left-color: var(--fill-color);\n",
              "      border-top-color: var(--fill-color);\n",
              "    }\n",
              "    30% {\n",
              "      border-color: transparent;\n",
              "      border-left-color: var(--fill-color);\n",
              "      border-top-color: var(--fill-color);\n",
              "      border-right-color: var(--fill-color);\n",
              "    }\n",
              "    40% {\n",
              "      border-color: transparent;\n",
              "      border-right-color: var(--fill-color);\n",
              "      border-top-color: var(--fill-color);\n",
              "    }\n",
              "    60% {\n",
              "      border-color: transparent;\n",
              "      border-right-color: var(--fill-color);\n",
              "    }\n",
              "    80% {\n",
              "      border-color: transparent;\n",
              "      border-right-color: var(--fill-color);\n",
              "      border-bottom-color: var(--fill-color);\n",
              "    }\n",
              "    90% {\n",
              "      border-color: transparent;\n",
              "      border-bottom-color: var(--fill-color);\n",
              "    }\n",
              "  }\n",
              "</style>\n",
              "\n",
              "  <script>\n",
              "    async function quickchart(key) {\n",
              "      const quickchartButtonEl =\n",
              "        document.querySelector('#' + key + ' button');\n",
              "      quickchartButtonEl.disabled = true;  // To prevent multiple clicks.\n",
              "      quickchartButtonEl.classList.add('colab-df-spinner');\n",
              "      try {\n",
              "        const charts = await google.colab.kernel.invokeFunction(\n",
              "            'suggestCharts', [key], {});\n",
              "      } catch (error) {\n",
              "        console.error('Error during call to suggestCharts:', error);\n",
              "      }\n",
              "      quickchartButtonEl.classList.remove('colab-df-spinner');\n",
              "      quickchartButtonEl.classList.add('colab-df-quickchart-complete');\n",
              "    }\n",
              "    (() => {\n",
              "      let quickchartButtonEl =\n",
              "        document.querySelector('#df-023bd755-949f-4171-8f0b-01aa9aeed125 button');\n",
              "      quickchartButtonEl.style.display =\n",
              "        google.colab.kernel.accessAllowed ? 'block' : 'none';\n",
              "    })();\n",
              "  </script>\n",
              "</div>\n",
              "\n",
              "  <div id=\"id_5e3311ab-1da7-421b-a1ba-84f76928cec7\">\n",
              "    <style>\n",
              "      .colab-df-generate {\n",
              "        background-color: #E8F0FE;\n",
              "        border: none;\n",
              "        border-radius: 50%;\n",
              "        cursor: pointer;\n",
              "        display: none;\n",
              "        fill: #1967D2;\n",
              "        height: 32px;\n",
              "        padding: 0 0 0 0;\n",
              "        width: 32px;\n",
              "      }\n",
              "\n",
              "      .colab-df-generate:hover {\n",
              "        background-color: #E2EBFA;\n",
              "        box-shadow: 0px 1px 2px rgba(60, 64, 67, 0.3), 0px 1px 3px 1px rgba(60, 64, 67, 0.15);\n",
              "        fill: #174EA6;\n",
              "      }\n",
              "\n",
              "      [theme=dark] .colab-df-generate {\n",
              "        background-color: #3B4455;\n",
              "        fill: #D2E3FC;\n",
              "      }\n",
              "\n",
              "      [theme=dark] .colab-df-generate:hover {\n",
              "        background-color: #434B5C;\n",
              "        box-shadow: 0px 1px 3px 1px rgba(0, 0, 0, 0.15);\n",
              "        filter: drop-shadow(0px 1px 2px rgba(0, 0, 0, 0.3));\n",
              "        fill: #FFFFFF;\n",
              "      }\n",
              "    </style>\n",
              "    <button class=\"colab-df-generate\" onclick=\"generateWithVariable('target_path')\"\n",
              "            title=\"Generate code using this dataframe.\"\n",
              "            style=\"display:none;\">\n",
              "\n",
              "  <svg xmlns=\"http://www.w3.org/2000/svg\" height=\"24px\"viewBox=\"0 0 24 24\"\n",
              "       width=\"24px\">\n",
              "    <path d=\"M7,19H8.4L18.45,9,17,7.55,7,17.6ZM5,21V16.75L18.45,3.32a2,2,0,0,1,2.83,0l1.4,1.43a1.91,1.91,0,0,1,.58,1.4,1.91,1.91,0,0,1-.58,1.4L9.25,21ZM18.45,9,17,7.55Zm-12,3A5.31,5.31,0,0,0,4.9,8.1,5.31,5.31,0,0,0,1,6.5,5.31,5.31,0,0,0,4.9,4.9,5.31,5.31,0,0,0,6.5,1,5.31,5.31,0,0,0,8.1,4.9,5.31,5.31,0,0,0,12,6.5,5.46,5.46,0,0,0,6.5,12Z\"/>\n",
              "  </svg>\n",
              "    </button>\n",
              "    <script>\n",
              "      (() => {\n",
              "      const buttonEl =\n",
              "        document.querySelector('#id_5e3311ab-1da7-421b-a1ba-84f76928cec7 button.colab-df-generate');\n",
              "      buttonEl.style.display =\n",
              "        google.colab.kernel.accessAllowed ? 'block' : 'none';\n",
              "\n",
              "      buttonEl.onclick = () => {\n",
              "        google.colab.notebook.generateWithVariable('target_path');\n",
              "      }\n",
              "      })();\n",
              "    </script>\n",
              "  </div>\n",
              "\n",
              "    </div>\n",
              "  </div>\n"
            ],
            "application/vnd.google.colaboratory.intrinsic+json": {
              "type": "dataframe",
              "variable_name": "target_path",
              "summary": "{\n  \"name\": \"target_path\",\n  \"rows\": 195,\n  \"fields\": [\n    {\n      \"column\": \"Question\",\n      \"properties\": {\n        \"dtype\": \"string\",\n        \"num_unique_values\": 195,\n        \"samples\": [\n          \"\\uacbd\\ub300\\ub294 \\ucd1d\\uc7a5\\ub2d8 \\ubc11\\uc5d0 \\ub204\\uac00 \\uc788\\uc5b4?\",\n          \"\\uacbd\\ubd81\\ub300 \\uc11c\\ud3ec\\ud130\\uc988\\uc5d0 \\ub300\\ud574 \\uc54c\\ub824\\uc918\",\n          \"\\uacbd\\ubd81\\ub300\\ud559\\uad50\\uc758 \\uc218\\uc5c5 \\ubc29\\uc2dd\\uc774\\ub098 \\uac15\\uc758 \\uc2a4\\ud0c0\\uc77c\\uc740 \\uc5b4\\ub5a4\\uac00\\uc694?\"\n        ],\n        \"semantic_type\": \"\",\n        \"description\": \"\"\n      }\n    },\n    {\n      \"column\": \"Answer\",\n      \"properties\": {\n        \"dtype\": \"string\",\n        \"num_unique_values\": 166,\n        \"samples\": [\n          \"https://www.knu.ac.kr/wbbs/wbbs/contents/index.action?menu_url=edu/school01&menu_idx=38#02\",\n          \"\\ud559\\uae30 \\uc911\\uc5d0\\ub294 \\ud559\\uc220 \\uc138\\ubbf8\\ub098, \\ubb38\\ud654 \\ud589\\uc0ac, \\ub3d9\\uc544\\ub9ac \\ud65c\\ub3d9, \\uc2a4\\ud3ec\\uce20 \\uacbd\\uae30 \\ub4f1 \\ub2e4\\uc591\\ud55c \\ucea0\\ud37c\\uc2a4 \\ub0b4 \\ud65c\\ub3d9\\uc774 \\uc9c4\\ud589\\ub429\\ub2c8\\ub2e4. \\ud559\\uc0dd\\ud68c\\ub098 \\uac01\\uc885 \\ub3d9\\uc544\\ub9ac\\uc5d0\\uc11c \\uc8fc\\ucd5c\\ud558\\ub294 \\uc774\\ubca4\\ud2b8\\uc5d0 \\ucc38\\uc5ec\\ud560 \\uc218 \\uc788\\uc2b5\\ub2c8\\ub2e4.\",\n          \"1. https://www.knu.ac.kr/wbbs/wbbs/contents/index.action?menu_url=edu/academic03_01_07&menu_idx= 2. \\ubc29\\ubb38(\\ucc3d\\uad6c)\\ubc1c\\uae09 1. \\ubc1c\\uae09\\uc7a5\\uc18c : \\ud559\\uc0ac\\uacfc(\\uc790\\ub3d9\\ubc1c\\uae09\\uae30) 2. \\ubc1c\\uae09\\ubc29\\ubc95 1. \\uc704\\uc784\\uc7a5 \\uc591\\uc2dd\\uc744 \\ub2e4\\uc6b4\\ubc1b\\uc740 \\ud6c4 \\uc791\\uc131 2. \\ucc3d\\uad6c\\ubc1c\\uae09 : \\ud559\\uc0ac\\uacfc \\ubc29\\ubb38 \\u203b\\u203284\\ub144 \\uc774\\uc804 \\uc878\\uc5c5\\uc790\\uc758 \\uc131\\uc801\\uc99d\\uba85 \\ubc0f \\ud559\\uc801\\ubd80 \\uc0ac\\ubcf8 3. \\uc790\\ub3d9\\ubc1c\\uae09\\uae30 \\ubc1c\\uae09: \\ucca8\\uc131\\uc778\\ubbf8\\ub798\\uad00 \\uc785\\uad6c \\uc704\\uce58(24\\uc2dc\\uac04) 3. \\uc18c\\uc694\\uc2dc\\uac04 : \\uc989\\uc2dc \\ubc1c\\uae09 3. \\ud329\\uc2a4\\ubbfc\\uc6d0\\ubc1c\\uae09 1. \\ubc1c\\uae09\\uc7a5\\uc18c : \\uad6d\\ub0b4 \\uc790\\uce58\\ub2e8\\uccb4 \\uae30\\uad00 (\\uc2dc, \\uad70, \\uad6c, \\uc74d, \\uba74, \\ub3d9 \\ud589\\uc815\\ubcf5\\uc9c0\\uc13c\\ud130) 2. \\ubc1c\\uae09\\ubc29\\ubc95 : \\uc704\\uc758 \\ubc1c\\uae09\\uc7a5\\uc18c \\ubc29\\ubb38 \\u2192 \\ud329\\uc2a4 \\ubcf5\\uc0ac\\ubcf8\\uc73c\\ub85c \\uc790\\uce58 \\ub2e8\\uccb4\\uae30\\uad00\\uc7a5 \\uba85\\uc758\\ub85c \\uad50\\ubd80 \\ubc1c1. \\u203b \\ud329\\uc2a4\\ubbfc\\uc6d0 \\uc0ac\\uc804 \\uc2e0\\uccad: \\uc778\\ud130\\ub137(\\uc815\\ubd8024-\\ub300\\ud559 \\uc81c\\uc99d\\uba85 \\uc77c\\uad04 \\uc2e0\\uccad)\\uc5d0\\uc11c \\uc2e0\\uccad \\ud6c4 \\uc704\\uc758 \\ubc1c\\uae09\\uae30\\uad00 \\ubc29\\ubb38 3. \\uc18c\\uc694\\uc2dc\\uac04 : 1\\u223c3\\uc2dc\\uac04 \\uc774\\ub0b44. \\uc6b0\\ud3b8\\ubc1c\\uae091. \\ubc1c\\uae09\\uc7a5\\uc18c : \\uc6b0\\ud3b8\\uc218\\uc2e0\\ucc98, \\uc6b0\\uccb4\\uad6d 2. \\ubc1c\\uae09\\ubc29\\ubc95 1. \\uc6b0\\ud3b8\\uc2e0\\uccad : \\ud559\\uad50\\ud648\\ud398\\uc774\\uc9c0-\\ub300\\ud559\\uc0dd\\ud65c/\\ucde8\\uc5c5-\\uc778\\ud130\\ub137\\uc99d\\uba85\\uae09(https://knu.certpia.com/)-\\uad6d\\ub0b4\\uc6b0\\ud3b8 \\ub610\\ub294 \\ud574\\uc678\\uc6b0\\ud3b8\\u00a0 2. \\ubbfc\\uc6d0\\uc6b0\\ud3b8\\uc2e0\\uccad : \\uc6b0\\uccb4\\uad6d\\ubc29\\ubb38 3. \\uc18c\\uc694\\uc2dc\\uac04 : 2~3\\uc77c \\uc774\\ub0b4 5. \\uc778\\ud130\\ub137\\uc99d\\uba85\\ubc1c\\uae09 1. \\ubc1c\\uae09\\uc7a5\\uc18c : \\uac1c\\uc778PC 2. \\ubc1c\\uae09\\ubc29\\ubc95 : \\ud559\\uad50\\ud648\\ud398\\uc774\\uc9c0-\\ub300\\ud559\\uc0dd\\ud65c/\\ucde8\\uc5c5-\\uc778\\ud130\\ub137\\uc99d\\uba85\\ubc1c\\uae09(https://knu.certpia.com/)-\\uc99d\\uba85\\uc11c\\ubc1c\\uae09  3. \\uc18c\\uc694\\uc2dc\\uac04 : \\uc989\\uc2dc \\ubc1c\\uae09\"\n        ],\n        \"semantic_type\": \"\",\n        \"description\": \"\"\n      }\n    }\n  ]\n}"
            }
          },
          "metadata": {},
          "execution_count": 37
        }
      ]
    },
    {
      "cell_type": "code",
      "source": [
        "!pip install konlpy"
      ],
      "metadata": {
        "colab": {
          "base_uri": "https://localhost:8080/"
        },
        "id": "SxW0YtEt3JLR",
        "outputId": "dc58a765-62a5-4531-c63e-78429ac58849"
      },
      "execution_count": null,
      "outputs": [
        {
          "output_type": "stream",
          "name": "stdout",
          "text": [
            "Collecting konlpy\n",
            "  Downloading konlpy-0.6.0-py2.py3-none-any.whl.metadata (1.9 kB)\n",
            "Collecting JPype1>=0.7.0 (from konlpy)\n",
            "  Downloading JPype1-1.5.0-cp310-cp310-manylinux_2_17_x86_64.manylinux2014_x86_64.whl.metadata (4.9 kB)\n",
            "Requirement already satisfied: lxml>=4.1.0 in /usr/local/lib/python3.10/dist-packages (from konlpy) (4.9.4)\n",
            "Requirement already satisfied: numpy>=1.6 in /usr/local/lib/python3.10/dist-packages (from konlpy) (1.26.4)\n",
            "Requirement already satisfied: packaging in /usr/local/lib/python3.10/dist-packages (from JPype1>=0.7.0->konlpy) (24.1)\n",
            "Downloading konlpy-0.6.0-py2.py3-none-any.whl (19.4 MB)\n",
            "\u001b[2K   \u001b[90m━━━━━━━━━━━━━━━━━━━━━━━━━━━━━━━━━━━━━━━━\u001b[0m \u001b[32m19.4/19.4 MB\u001b[0m \u001b[31m44.4 MB/s\u001b[0m eta \u001b[36m0:00:00\u001b[0m\n",
            "\u001b[?25hDownloading JPype1-1.5.0-cp310-cp310-manylinux_2_17_x86_64.manylinux2014_x86_64.whl (488 kB)\n",
            "\u001b[2K   \u001b[90m━━━━━━━━━━━━━━━━━━━━━━━━━━━━━━━━━━━━━━━━\u001b[0m \u001b[32m488.6/488.6 kB\u001b[0m \u001b[31m23.3 MB/s\u001b[0m eta \u001b[36m0:00:00\u001b[0m\n",
            "\u001b[?25hInstalling collected packages: JPype1, konlpy\n",
            "Successfully installed JPype1-1.5.0 konlpy-0.6.0\n"
          ]
        }
      ]
    },
    {
      "cell_type": "markdown",
      "source": [
        "### 텍스트 전처리"
      ],
      "metadata": {
        "id": "2yYFIu8E3LLN"
      }
    },
    {
      "cell_type": "code",
      "source": [
        "from konlpy.tag import Komoran\n",
        "\n",
        "class Preprocess:\n",
        "    def __init__(self, userdic=None):\n",
        "        self.komoran = Komoran(userdic=userdic)\n",
        "\n",
        "        self.exclusion_tags = [\n",
        "            'JKS', 'JKC', 'JKG', 'JKO', 'JKB', 'JKV', 'JKQ',\n",
        "            'JX', 'JC',\n",
        "            'SF', 'SP', 'SS', 'SE', 'SO',\n",
        "            'EP', 'EF', 'EC', 'ETN', 'ETM',\n",
        "            'XSN', 'XSV', 'XSA'\n",
        "        ]\n",
        "\n",
        "    # pos 메서드 정의\n",
        "    def pos(self, sentence):\n",
        "        return self.komoran.pos(sentence)\n",
        "\n",
        "    # get_keywords 메서드 정의\n",
        "    def get_keywords(self, pos, without_tag=False):\n",
        "        word_list = []\n",
        "        for p in pos:\n",
        "            if p[1] not in self.exclusion_tags:\n",
        "                word_list.append(p if not without_tag else p[0])\n",
        "        return word_list\n",
        "\n",
        "# 코드 실행\n",
        "sent = \"컴학 공지사항을 알려줘\"\n",
        "\n",
        "p = Preprocess(userdic=\"/content/drive/MyDrive/AICOSS/knu_dataset_csv.csv.tsv\")\n",
        "\n",
        "# 형태소 분석 실행\n",
        "pos = p.pos(sent)\n",
        "\n",
        "# 태그 포함 키워드 추출\n",
        "ret = p.get_keywords(pos, without_tag=False)\n",
        "print(ret)\n",
        "\n",
        "# 태그 제외 키워드 추출\n",
        "ret = p.get_keywords(pos, without_tag=True)\n",
        "print(ret)\n"
      ],
      "metadata": {
        "colab": {
          "base_uri": "https://localhost:8080/"
        },
        "id": "uI4_P1Aw3N3D",
        "outputId": "73d90aec-b4e5-4129-821c-171535093fbd"
      },
      "execution_count": null,
      "outputs": [
        {
          "output_type": "stream",
          "name": "stdout",
          "text": [
            "[('컴', 'NNG'), ('학', 'NNG'), ('공지', 'NNP'), ('사항', 'NNG'), ('알리', 'VV'), ('주', 'VX')]\n",
            "['컴', '학', '공지', '사항', '알리', '주']\n"
          ]
        }
      ]
    },
    {
      "cell_type": "markdown",
      "source": [
        "### 단어 사전 구축"
      ],
      "metadata": {
        "id": "yJP8Jqu33PGo"
      }
    },
    {
      "cell_type": "code",
      "source": [
        "import pandas as pd\n",
        "\n",
        "# CSV 파일을 불러오고 첫 몇 줄과 열 이름을 확인합니다.\n",
        "topic = pd.read_csv(\"/content/drive/MyDrive/AICOSS/knu_dataset_csv.csv\")\n",
        "\n",
        "# 열 이름 출력\n",
        "print(topic.columns)"
      ],
      "metadata": {
        "colab": {
          "base_uri": "https://localhost:8080/"
        },
        "id": "WvwywJBX3Qum",
        "outputId": "f2b5bc58-55e2-47f3-b834-19de9f968163"
      },
      "execution_count": null,
      "outputs": [
        {
          "output_type": "stream",
          "name": "stdout",
          "text": [
            "Index(['Question', 'Answer'], dtype='object')\n"
          ]
        }
      ]
    },
    {
      "cell_type": "code",
      "source": [
        "import pandas as pd\n",
        "from konlpy.tag import Komoran\n",
        "from tensorflow.keras.preprocessing.text import Tokenizer\n",
        "import pickle\n",
        "\n",
        "topic = pd.read_csv(\"/content/drive/MyDrive/AICOSS/knu_dataset_csv.csv\")\n",
        "\n",
        "topic.dropna(inplace=True)\n",
        "\n",
        "text = list(topic['Question'])\n",
        "\n",
        "corpus_data = text\n",
        "\n",
        "p = Preprocess()\n",
        "dict = []\n",
        "for c in corpus_data:\n",
        "  pos = p.pos(c)\n",
        "  for k in pos:\n",
        "    dict.append(k[0])\n",
        "\n",
        "tokenizer = Tokenizer(oov_token='OOV', num_words=100000)\n",
        "tokenizer.fit_on_texts(dict)\n",
        "word_index = tokenizer.word_index\n",
        "print(f\"사전에 포함된 단어 수: {len(word_index)}\")\n",
        "\n",
        "with open(\"chatbot_dict.bin\", \"wb\") as f:\n",
        "    pickle.dump(word_index, f)"
      ],
      "metadata": {
        "colab": {
          "base_uri": "https://localhost:8080/"
        },
        "id": "YWvNWdPB3SWd",
        "outputId": "d2130358-aa20-451f-af71-774de5bc3254"
      },
      "execution_count": null,
      "outputs": [
        {
          "output_type": "stream",
          "name": "stdout",
          "text": [
            "사전에 포함된 단어 수: 439\n"
          ]
        }
      ]
    },
    {
      "cell_type": "code",
      "source": [
        "import pickle\n",
        "from tensorflow.keras.preprocessing.text import Tokenizer\n",
        "\n",
        "f = open(\"/content/chatbot_dict.bin\", \"rb\")\n",
        "word_index = pickle.load(f)\n",
        "f.close()\n",
        "\n",
        "sent = \"안녕하세요. 테스트 코드입니다. 단어사전 만들기 성공!\"\n",
        "\n",
        "p = Preprocess(userdic=\"/content/drive/MyDrive/AICOSS/knu_dataset_csv.csv.tsv\")\n",
        "\n",
        "pos = p.pos(sent)\n",
        "\n",
        "keywords = p.get_keywords(pos, without_tag=True)\n",
        "for word in keywords:\n",
        "  try:\n",
        "    print(word, word_index[word])\n",
        "  except KeyError:\n",
        "    print(word, word_index['OOV'])"
      ],
      "metadata": {
        "colab": {
          "base_uri": "https://localhost:8080/"
        },
        "id": "nEvqGIcV3VDe",
        "outputId": "c9f48d70-db8b-4919-a3d6-754066cfe525"
      },
      "execution_count": null,
      "outputs": [
        {
          "output_type": "stream",
          "name": "stdout",
          "text": [
            "안녕하세요 1\n",
            "테스트 1\n",
            "코드 1\n",
            "이 11\n",
            "단어 1\n",
            "사전 1\n",
            "만들 401\n",
            "성공 1\n"
          ]
        }
      ]
    },
    {
      "cell_type": "code",
      "source": [
        "from konlpy.tag import Komoran\n",
        "import pickle\n",
        "\n",
        "class Preprocess:\n",
        "  def __init__(self, word2index_dic=\"/content/chatbot_dict.bin\", userdic=\"user_dic.tsv\"):\n",
        "    if(word2index_dic != ''):\n",
        "      f = open(word2index_dic, \"rb\")\n",
        "      self.word_index = pickle.load(f)\n",
        "      f.close()\n",
        "      print(\"success load word_dic\")\n",
        "    else:\n",
        "      self.word_index = None\n",
        "      print(\"fail load word_dic\")\n",
        "\n",
        "    self.komoran = Komoran(userdic=userdic)\n",
        "\n",
        "    self.exclusion_tags = [\n",
        "        'JKS', 'JKC', 'JKG', 'JKO', 'JKB', 'JKV', 'JKQ',\n",
        "        'JX', 'JC',\n",
        "        'SF' 'SP', 'SS', 'SE', 'SO',\n",
        "        'EP', 'EF', 'EC', 'ETN', 'ETM',\n",
        "        'XSN', 'XSV', 'XSA'\n",
        "    ]\n",
        "\n",
        "  def pos(self, sentence):\n",
        "    return self.komoran.pos(sentence)\n",
        "\n",
        "  def get_keywords(self, pos, without_tag=False):\n",
        "    f = lambda x: x in self.exclution_tags\n",
        "    word_list = []\n",
        "    for p in pos:\n",
        "      if f(p[1]) is False:\n",
        "        word_list.append(p if without_tag is False else p[0])\n",
        "    return word_list\n",
        "\n",
        "  def get_wordidx_sequence(self, keywords):\n",
        "    if self.word_index is None:\n",
        "      return []\n",
        "    w2i = []\n",
        "    for word in keywords:\n",
        "      try:\n",
        "        w2i.append(self.word_index[word])\n",
        "      except KeyError:\n",
        "        w2i.append(self.word_index['OOV'])\n",
        "    return w2i"
      ],
      "metadata": {
        "id": "PCtqWn223atN"
      },
      "execution_count": null,
      "outputs": []
    },
    {
      "cell_type": "code",
      "source": [
        "import os\n",
        "import json\n",
        "import pandas as pd\n",
        "from konlpy.tag import Komoran\n",
        "from tensorflow.keras.preprocessing.text import Tokenizer\n",
        "import pickle\n",
        "from tensorflow.keras.preprocessing.sequence import pad_sequences\n",
        "\n",
        "def preprocess_text(sentence, word_index, max_len):\n",
        "    p = Preprocess()\n",
        "    pos = p.pos(sentence)\n",
        "    keywords = p.get_keywords(pos, without_tag=True)\n",
        "\n",
        "    # 불용어 제거 및 정수 인코딩\n",
        "    sequence = []\n",
        "    for word in keywords:\n",
        "        if word in word_index:\n",
        "            sequence.append(word_index[word])\n",
        "        else:\n",
        "            sequence.append(word_index['OOV'])\n",
        "\n",
        "    # 패딩 적용\n",
        "    padded_sequence = pad_sequences([sequence], maxlen=max_len, padding='post')\n",
        "\n",
        "    return padded_sequence[0]\n",
        "\n",
        "\n",
        "# 단어 집합 생성\n",
        "def create_word_index(corpus_data):\n",
        "    p = Preprocess()\n",
        "    dict = []\n",
        "    for c in corpus_data:\n",
        "        pos = p.pos(c)\n",
        "        for k in pos:\n",
        "            dict.append(k[0])\n",
        "\n",
        "    tokenizer = Tokenizer(oov_token='OOV', num_words=100000)\n",
        "    tokenizer.fit_on_texts(dict)\n",
        "    word_index = tokenizer.word_index\n",
        "    print(f\"사전에 포함된 단어 수: {len(word_index)}\")\n",
        "\n",
        "    with open(\"chatbot_dict.bin\", \"wb\") as f:\n",
        "        pickle.dump(word_index, f)\n",
        "\n",
        "    return word_index\n",
        "\n",
        "# 숫자 시퀀스로 변환\n",
        "def convert_to_sequence(sentence, word_index):\n",
        "    p = Preprocess()\n",
        "    pos = p.pos(sentence)\n",
        "    keywords = p.get_keywords(pos, without_tag=True)\n",
        "\n",
        "    sequence = []\n",
        "    for word in keywords:\n",
        "        try:\n",
        "            sequence.append(word_index[word])\n",
        "        except KeyError:\n",
        "            sequence.append(word_index['OOV'])\n",
        "\n",
        "    return sequence\n",
        "\n",
        "# Preprocess 클래스 정의\n",
        "class Preprocess:\n",
        "    def __init__(self, word2index_dic=\"/content/chatbot_dict.bin\", userdic=\"user_dic.tsv\"):\n",
        "        if word2index_dic != '':\n",
        "            f = open(word2index_dic, \"rb\")\n",
        "            self.word_index = pickle.load(f)\n",
        "            f.close()\n",
        "            print(\"Word index dictionary loaded successfully.\")\n",
        "        else:\n",
        "            self.word_index = None\n",
        "            print(\"Failed to load word index dictionary.\")\n",
        "\n",
        "        self.komoran = Komoran(userdic=userdic)\n",
        "\n",
        "        self.exclusion_tags = [\n",
        "            'JKS', 'JKC', 'JKG', 'JKO', 'JKB', 'JKV', 'JKQ',\n",
        "            'JX', 'JC',\n",
        "            'SF', 'SP', 'SS', 'SE', 'SO',\n",
        "            'EP', 'EF', 'EC', 'ETN', 'ETM',\n",
        "            'XSN', 'XSV', 'XSA'\n",
        "        ]\n",
        "\n",
        "    def pos(self, sentence):\n",
        "        return self.komoran.pos(sentence)\n",
        "\n",
        "    def get_keywords(self, pos, without_tag=False):\n",
        "        word_list = []\n",
        "        for p in pos:\n",
        "            if p[1] not in self.exclusion_tags:\n",
        "                word_list.append(p if not without_tag else p[0])\n",
        "        return word_list\n",
        "\n",
        "    def get_wordidx_sequence(self, keywords):\n",
        "        if self.word_index is None:\n",
        "            return []\n",
        "        w2i = []\n",
        "        for word in keywords:\n",
        "            try:\n",
        "                w2i.append(self.word_index[word])\n",
        "            except KeyError:\n",
        "                w2i.append(self.word_index['OOV'])\n",
        "        return w2i\n",
        "\n",
        "# CSV 파일을 불러와서 데이터 준비\n",
        "topic = pd.read_csv(\"/content/drive/MyDrive/AICOSS/knu_dataset_csv.csv\")\n",
        "topic.dropna(inplace=True)\n",
        "\n",
        "# 단어 집합 생성\n",
        "corpus_data = list(topic['Question'])\n",
        "word_index = create_word_index(corpus_data)\n",
        "\n",
        "# 테스트 문장 변환\n",
        "max_len = 20  # 최대 시퀀스 길이 설정\n",
        "sent = \"안녕하세요. 테스트 코드입니다. 단어사전 만들기 성공!\"\n",
        "sequence = preprocess_text(sent, word_index, max_len)\n",
        "print(sequence)"
      ],
      "metadata": {
        "colab": {
          "base_uri": "https://localhost:8080/"
        },
        "id": "t6uJ01TB3fMw",
        "outputId": "27f4c265-72a9-4ec1-fab7-8826d9bfc8cb"
      },
      "execution_count": null,
      "outputs": [
        {
          "output_type": "stream",
          "name": "stdout",
          "text": [
            "Word index dictionary loaded successfully.\n",
            "사전에 포함된 단어 수: 439\n",
            "Word index dictionary loaded successfully.\n",
            "[  1   1   1  11   1   1 401   1   0   0   0   0   0   0   0   0   0   0\n",
            "   0   0]\n"
          ]
        }
      ]
    },
    {
      "cell_type": "markdown",
      "source": [
        "### 의도 분류 모델 학습 데이터 생성하기"
      ],
      "metadata": {
        "id": "DRxK-U6P3h-D"
      }
    },
    {
      "cell_type": "code",
      "source": [
        "import pandas as pd\n",
        "import numpy as np\n",
        "import matplotlib.pyplot as plt\n",
        "import seaborn as sns\n",
        "from konlpy.tag import Komoran\n",
        "import matplotlib.pyplot as plt"
      ],
      "metadata": {
        "id": "TVxdcX9l3hoH"
      },
      "execution_count": null,
      "outputs": []
    },
    {
      "cell_type": "code",
      "source": [
        "dataset = pd.read_csv(\"/content/drive/MyDrive/AICOSS/knu_dataset_csv.csv\")\n",
        "\n",
        "dataset.dropna(inplace = True)"
      ],
      "metadata": {
        "id": "lvH0PeVp3mpz"
      },
      "execution_count": null,
      "outputs": []
    },
    {
      "cell_type": "code",
      "source": [
        "print(f\"dataset shape => {dataset.shape}\")"
      ],
      "metadata": {
        "colab": {
          "base_uri": "https://localhost:8080/"
        },
        "id": "QzgPDPTc3oQr",
        "outputId": "c75bcceb-6ad5-4564-de36-af4f55542fbf"
      },
      "execution_count": null,
      "outputs": [
        {
          "output_type": "stream",
          "name": "stdout",
          "text": [
            "dataset shape => (195, 2)\n"
          ]
        }
      ]
    },
    {
      "cell_type": "code",
      "source": [
        "dataset.columns"
      ],
      "metadata": {
        "colab": {
          "base_uri": "https://localhost:8080/"
        },
        "id": "daVLpKIu3plZ",
        "outputId": "6e6720ff-3573-483e-df52-e036839a42a2"
      },
      "execution_count": null,
      "outputs": [
        {
          "output_type": "execute_result",
          "data": {
            "text/plain": [
              "Index(['Question', 'Answer'], dtype='object')"
            ]
          },
          "metadata": {},
          "execution_count": 49
        }
      ]
    },
    {
      "cell_type": "code",
      "source": [
        "import tensorflow as tf\n",
        "from tensorflow.keras.models import Model, load_model\n",
        "from tensorflow.keras import preprocessing\n",
        "\n",
        "class IntentModel:\n",
        "  def __init__(self, model_name, proprocess) :\n",
        "    self.labels = {0:\"번호\", 1:\"장소\", 2:\"시간\", 3:\"기타\"}\n",
        "    self.model = load_model(model_name)\n",
        "    self.p = proprocess\n",
        "\n",
        "  def predict_class(self, query):\n",
        "    pos = self.p.pos(query)\n",
        "    keywords = self.p.get_keywords(pos, without_tag=True)\n",
        "    sequences = [self.p.get_wordidx_sequence(keywords)]\n",
        "\n",
        "    from config.GlobalParams import MAX_SEQ_LEN\n",
        "\n",
        "    padded_segs = preprocessing.sequence.pad_sequences(sequences, maxlen=MAX_SEQ_LEN, padding='post')\n",
        "\n",
        "    predict = self.model.predict(padded_segs)\n",
        "    predict_class = tf.math.argmax(predict, axis = 1)\n",
        "\n",
        "    return predict_class.numpy()[0]"
      ],
      "metadata": {
        "id": "7Gjk7oQ53rPf"
      },
      "execution_count": null,
      "outputs": []
    },
    {
      "cell_type": "code",
      "source": [
        "#  개체명 인식 모듈 생성\n",
        "import tensorflow as tf\n",
        "import numpy as np\n",
        "from tensorflow.keras.models import Model, load_model\n",
        "from tensorflow.keras import preprocessing\n",
        "\n",
        "# 개체명 인식 모델 모듈\n",
        "class NerModel:\n",
        "    def __init__(self, model_name, proprocess):\n",
        "\n",
        "        # BIO 태그 클래스별 레이블\n",
        "        self.index_to_ner = {1: '0', 2:'B_DT', 3:'B_FOOD', 4: 'I', 5:'B_OG', 6:'B_PS',\n",
        "                             7: 'B_LC', 8:'NNP', 9:'B_TI', 0:'PAD'}\n",
        "\n",
        "        # 의도 분류 모델 불러오기\n",
        "        self.model = load_model(model_name)\n",
        "\n",
        "        # 챗봇 Preprocess 객체\n",
        "        self.p = proprocess\n",
        "\n",
        "    # 개체명 클래스 예측 - 질문(query)를 전달받는다.\n",
        "    def predict(self, query):\n",
        "        ## 형태소 분석 - 문장의 단어를 나눠 태깅 처리한다.\n",
        "        pos = self.p.pos(query)\n",
        "\n",
        "        # 각 단어마다의 품사 정보 가져오기 (불용어 제거)\n",
        "        keywords = self.p.get_keywords(pos, without_tag=True)\n",
        "        ## 가져온 단어에 대하여 인덱싱\n",
        "        sequences = [self.p.get_wordidx_sequence(keywords)]\n",
        "\n",
        "        # 패딩 처리 - 기존 단어 외의 나머지 40이하의 범위는 전부 0으로 처리\n",
        "        max_len = 40\n",
        "        padded_seqs = preprocessing.sequence.pad_sequences(sequences,\n",
        "                                                           padding='post', value=0, maxlen=max_len)\n",
        "\n",
        "        # 키워드별 개체명 예측\n",
        "        predict = self.model.predict(np.array([padded_seqs[0]]))\n",
        "        predict_class = tf.math.argmax(predict, axis=-1)   # argmax()를 통해 가장 높은 값의 인덱스를 반환\n",
        "\n",
        "        # 예측된 인덱스를 index_to_ner을 통해 BIO형식으로 바꿔준다.\n",
        "        tags = [self.index_to_ner[i] for i in predict_class.numpy()[0]]\n",
        "        # 키워드와 예측된 태그를 압축하여 리스트화 시킨 후 반환\n",
        "        return list(zip(keywords, tags))\n",
        "\n",
        "    def predict_tags(self, query):\n",
        "        # 형태소 분석\n",
        "        pos = self.p.pos(query)\n",
        "\n",
        "        # 문장 내 키워드 추출(불용어 제거)\n",
        "        keywords = self.p.get_keywords(pos, without_tag=True)\n",
        "        sequences = [self.p.get_wordidx_sequence(keywords)]\n",
        "\n",
        "        # 패딩 처리\n",
        "        max_len = 40\n",
        "        padded_seqs = preprocessing.sequence.pad_sequences(sequences,\n",
        "                                                           padding='post', value=0, maxlen=max_len)\n",
        "\n",
        "        predict = self.model.predict(np.array([padded_seqs[0]]))\n",
        "        predict_class = tf.math.argmax(predict, axis=-1)\n",
        "\n",
        "        tags = []\n",
        "        for tag_idx in predict_class.numpy()[0]:\n",
        "            if tag_idx == 1: continue       # 만약 인덱스 태그가 1('O')이라면 건너뛰고,\n",
        "            tags.append(self.index_to_ner[tag_idx]) ## 예측 결과 태그를 tags에 따로 저장\n",
        "\n",
        "        if len(tags) == 0:  ## 태그의 길이가 0이라면 None을 반환  (*여기 줄맞춤 불확실)\n",
        "            return None\n",
        "\n",
        "        return tags"
      ],
      "metadata": {
        "id": "1riT7uN03tGu"
      },
      "execution_count": null,
      "outputs": []
    },
    {
      "cell_type": "code",
      "source": [
        "!pip install pymysql"
      ],
      "metadata": {
        "colab": {
          "base_uri": "https://localhost:8080/"
        },
        "id": "G-CHRgYR3vPK",
        "outputId": "ee7a111a-c43e-41d9-ca57-67ce4c276812"
      },
      "execution_count": null,
      "outputs": [
        {
          "output_type": "stream",
          "name": "stdout",
          "text": [
            "Collecting pymysql\n",
            "  Downloading PyMySQL-1.1.1-py3-none-any.whl.metadata (4.4 kB)\n",
            "Downloading PyMySQL-1.1.1-py3-none-any.whl (44 kB)\n",
            "\u001b[2K   \u001b[90m━━━━━━━━━━━━━━━━━━━━━━━━━━━━━━━━━━━━━━━━\u001b[0m \u001b[32m45.0/45.0 kB\u001b[0m \u001b[31m846.4 kB/s\u001b[0m eta \u001b[36m0:00:00\u001b[0m\n",
            "\u001b[?25hInstalling collected packages: pymysql\n",
            "Successfully installed pymysql-1.1.1\n"
          ]
        }
      ]
    },
    {
      "cell_type": "code",
      "source": [
        "import pymysql\n",
        "import pymysql.cursors\n",
        "import logging\n",
        "\n",
        "class Database:\n",
        "    '''\n",
        "    데이터베이스 제어\n",
        "    '''\n",
        "\n",
        "    def __init__(self, host, user, password, db_name, charset='utf8'):\n",
        "        self.host = host\n",
        "        self.user = user\n",
        "        self.password = password\n",
        "        self.charset = charset\n",
        "        self.db_name = db_name\n",
        "        self.conn = None\n",
        "\n",
        "    # DB 연결\n",
        "    def connect(self):\n",
        "        if self.conn != None:\n",
        "            return\n",
        "\n",
        "        self.conn = pymysql.connect(\n",
        "            host=self.host,\n",
        "            user=self.user,\n",
        "            password=self.password,\n",
        "            db=self.db_name,\n",
        "            charset=self.charset\n",
        "        )\n",
        "\n",
        "    # DB 연결 닫기\n",
        "    def close(self):\n",
        "        if self.conn is None:\n",
        "            return\n",
        "\n",
        "        if not self.conn.open:\n",
        "            self.conn = None\n",
        "            return\n",
        "        self.conn.close()\n",
        "        self.conn = None\n",
        "\n",
        "    # SQL 구문 실행\n",
        "    def execute(self,sql):\n",
        "        last_row_id = -1\n",
        "        try:\n",
        "            with self.conn.cursor() as cursor:\n",
        "                cursor.execute(sql)\n",
        "            self.conn.commit()\n",
        "            last_row_id = cursor.lastrowid\n",
        "            # logging.debug(\"execute last_row_id : %d\", last_row_id)\n",
        "        except Exception as ex:\n",
        "            logging.error(ex)\n",
        "\n",
        "        finally:\n",
        "            return last_row_id\n",
        "\n",
        "    # SELECT 구문 실행 후 단 1개의 데이터 ROW만 불러옴\n",
        "    def select_one(self, sql):\n",
        "        result = None\n",
        "\n",
        "        try:\n",
        "            with self.conn.cursor(pymysql.cursor.DictCursor) as cursor:\n",
        "                cursor.execute(sql)\n",
        "                result = cursor.fetchone()\n",
        "        except Exception as ex:\n",
        "            logging.error(ex)\n",
        "\n",
        "        finally:\n",
        "            return result\n",
        "\n",
        "    # SELECT 구문 실행 후 전체 데이터 ROW 불러옴\n",
        "    def select_all(self, sql):\n",
        "        result = None\n",
        "\n",
        "        try:\n",
        "            with self.conn.cursor(pymysql.cursors.DictCursor) as cursor:\n",
        "                cursor.execute(sql)\n",
        "                result = cursor.fetchall()\n",
        "        except Exception as ex:\n",
        "            logging.error(ex)\n",
        "\n",
        "        finally:\n",
        "            return result"
      ],
      "metadata": {
        "id": "s3HR-dcS3xr5"
      },
      "execution_count": null,
      "outputs": []
    },
    {
      "cell_type": "code",
      "source": [
        "# 챗봇 답변 검색 모듈\n",
        "class FindAnswer:\n",
        "    def __init__(self, db):\n",
        "        self.db = db\n",
        "\n",
        "    # 검색 쿼리 생성\n",
        "    def _make_query(self, intent_name, ner_tags):\n",
        "        sql = \"select * from chatbot_train_data\"\n",
        "        if intent_name != None and ner_tags == None:\n",
        "            sql = sql + \"where intent= '{}'\".format(intent_name)\n",
        "\n",
        "        elif intent_name != None and ner_tags != None:\n",
        "            where = 'where intent= \"%s\" ' % intent_name\n",
        "            if (len(ner_tags) > 0):\n",
        "                where += 'and ('\n",
        "                for ne in ner_tags:\n",
        "                    where += \" ner like '%{}%' or \".format(ne)\n",
        "                where = where[:-3] + ')'\n",
        "            sql = sql + where\n",
        "\n",
        "        # 동일한 답변이 2개 이상인 경우 랜덤으로 선택\n",
        "        sql = sql + \"order by rand() limit 1\"\n",
        "        return sql\n",
        "\n",
        "\n",
        "    # 답변 검색\n",
        "    def search(self, intent_name, ner_tags):\n",
        "        # 의도명과 개체명으로 답변 검색\n",
        "        sql = self._make_query(intent_name, ner_tags)\n",
        "        answer = self.db.select_one(sql)\n",
        "\n",
        "        # 검색되는 답변이 없으면 의도명만 검색\n",
        "        if answer is None:\n",
        "            sql = self._make_query(intent_name, None)\n",
        "            answer = self.db.select_one(sql)\n",
        "\n",
        "        return (answer['answer'], answer['answer_image'])\n",
        "\n",
        "    # NER 태그를 실제 입력된 단어로 변환\n",
        "    def tag_to_word(self, ner_predicts, answer):\n",
        "        for word, tag in ner_predicts:\n",
        "\n",
        "            # 변환해야 하는 태그가 있는 경우 추가\n",
        "            if tag == 'B_FOOD':\n",
        "                answer = answer.replace(tag, word)\n",
        "\n",
        "        answer = answer.replace('{', '')\n",
        "        answer = answer.replace('}', '')\n",
        "        return answer"
      ],
      "metadata": {
        "id": "cdOIOuyI34w1"
      },
      "execution_count": null,
      "outputs": []
    },
    {
      "cell_type": "code",
      "source": [
        "# 챗봇 엔진 동작\n",
        "from config.DatabaseConfig import *\n",
        "from utils.Database import Database\n",
        "from utils.Preprocess import Preprocess\n",
        "\n",
        "# 전처리 객체 생성\n",
        "p = Preprocess(word2index_dic = '/Users/dianakang/NLP/train_tools/dict/chatbot_dict.bin',\n",
        "               userdic='/Users/dianakang/NLP/utils/user_dic.tsv')\n",
        "\n",
        "# 질문/답변 학습 디비 연결 객체 생성\n",
        "db = Database(\n",
        "    host=DB_HOST, user=DB_USER, password=DB_PASSWORD, db_name=DB_NAME\n",
        ")\n",
        "db.connect()    # 디비 연결\n",
        "\n",
        "# 원문\n",
        "query = \"오전에 탕수육 10개 주문합니다\"\n",
        "\n",
        "# 의도 파악\n",
        "from model.intent.IntentModel import IntentModel\n",
        "intent = IntentModel(model_name = '/Users/dianakang/NLP/models/intent/intent_model.h5', proprocess=p)\n",
        "predict = intent.predict_class(query)\n",
        "intent_name = intent.labels[predict]\n",
        "\n",
        "# 개체명 인식\n",
        "from models.ner.NerModel import NerModel\n",
        "ner = NerModel(model_name='/Users/dianakang/NLP/models/ner/ner_model.h5', proprocess=p)\n",
        "predicts = ner.predict(query)\n",
        "ner_tags = ner.predict_tags(query)\n",
        "\n",
        "print(\"질문 : \", query)\n",
        "print(\"=\" * 40)\n",
        "print(\"의도 파악 : \", intent_name)\n",
        "print(\"답변 검색에 필요한 NER 태그 : \", ner_tags)\n",
        "print(\"=\" * 40)\n",
        "\n",
        "# 답변 검색\n",
        "from utils.FindAnswer import FindAnswer\n",
        "\n",
        "try:\n",
        "    f = FindAnswer(db)\n",
        "    answer_text, answer_image = f.search(intent_name, ner_tags)\n",
        "    answer = f.tag_to_word(predicts, answer_text)\n",
        "except:\n",
        "    answer = \"죄송해요, 무슨 말인지 모르겠어요.\"\n",
        "\n",
        "print(\"답변 : \", answer)\n",
        "\n",
        "db.close()  #  디비 연결 끊음"
      ],
      "metadata": {
        "colab": {
          "base_uri": "https://localhost:8080/",
          "height": 404
        },
        "id": "bYRLxcSE36OU",
        "outputId": "73ad9a52-44b4-4e79-d136-ef3136fda83c"
      },
      "execution_count": null,
      "outputs": [
        {
          "output_type": "error",
          "ename": "ModuleNotFoundError",
          "evalue": "No module named 'config'",
          "traceback": [
            "\u001b[0;31m---------------------------------------------------------------------------\u001b[0m",
            "\u001b[0;31mModuleNotFoundError\u001b[0m                       Traceback (most recent call last)",
            "\u001b[0;32m<ipython-input-55-57a3510e5e17>\u001b[0m in \u001b[0;36m<cell line: 2>\u001b[0;34m()\u001b[0m\n\u001b[1;32m      1\u001b[0m \u001b[0;31m# 챗봇 엔진 동작\u001b[0m\u001b[0;34m\u001b[0m\u001b[0;34m\u001b[0m\u001b[0m\n\u001b[0;32m----> 2\u001b[0;31m \u001b[0;32mfrom\u001b[0m \u001b[0mconfig\u001b[0m\u001b[0;34m.\u001b[0m\u001b[0mDatabaseConfig\u001b[0m \u001b[0;32mimport\u001b[0m \u001b[0;34m*\u001b[0m\u001b[0;34m\u001b[0m\u001b[0;34m\u001b[0m\u001b[0m\n\u001b[0m\u001b[1;32m      3\u001b[0m \u001b[0;32mfrom\u001b[0m \u001b[0mutils\u001b[0m\u001b[0;34m.\u001b[0m\u001b[0mDatabase\u001b[0m \u001b[0;32mimport\u001b[0m \u001b[0mDatabase\u001b[0m\u001b[0;34m\u001b[0m\u001b[0;34m\u001b[0m\u001b[0m\n\u001b[1;32m      4\u001b[0m \u001b[0;32mfrom\u001b[0m \u001b[0mutils\u001b[0m\u001b[0;34m.\u001b[0m\u001b[0mPreprocess\u001b[0m \u001b[0;32mimport\u001b[0m \u001b[0mPreprocess\u001b[0m\u001b[0;34m\u001b[0m\u001b[0;34m\u001b[0m\u001b[0m\n\u001b[1;32m      5\u001b[0m \u001b[0;34m\u001b[0m\u001b[0m\n",
            "\u001b[0;31mModuleNotFoundError\u001b[0m: No module named 'config'",
            "",
            "\u001b[0;31m---------------------------------------------------------------------------\u001b[0;32m\nNOTE: If your import is failing due to a missing package, you can\nmanually install dependencies using either !pip or !apt.\n\nTo view examples of installing some common dependencies, click the\n\"Open Examples\" button below.\n\u001b[0;31m---------------------------------------------------------------------------\u001b[0m\n"
          ],
          "errorDetails": {
            "actions": [
              {
                "action": "open_url",
                "actionText": "Open Examples",
                "url": "/notebooks/snippets/importing_libraries.ipynb"
              }
            ]
          }
        }
      ]
    },
    {
      "cell_type": "markdown",
      "source": [
        "### 의도 분류 모델"
      ],
      "metadata": {
        "id": "z8vGgCe77ZeI"
      }
    },
    {
      "cell_type": "code",
      "source": [
        "import pandas as pd\n",
        "import numpy as np\n",
        "import matplotlib.pyplot as plt\n",
        "import seaborn as sns\n",
        "from konlpy.tag import Komoran\n",
        "import matplotlib.pyplot as plt"
      ],
      "metadata": {
        "id": "naElKgwf7cmZ"
      },
      "execution_count": null,
      "outputs": []
    },
    {
      "cell_type": "code",
      "source": [
        "dataset = pd.read_csv(\"/content/drive/MyDrive/AICOSS/knu_dataset_csv.csv\")\n",
        "\n",
        "dataset.dropna(inplace=True)"
      ],
      "metadata": {
        "id": "tEFNEHUs7gcF"
      },
      "execution_count": null,
      "outputs": []
    },
    {
      "cell_type": "code",
      "source": [
        "print(f\"dataset shape => {dataset.shape}\")"
      ],
      "metadata": {
        "colab": {
          "base_uri": "https://localhost:8080/"
        },
        "id": "6yVMbcXT7mc8",
        "outputId": "491d903c-764e-439d-e4e6-37f581a32865"
      },
      "execution_count": null,
      "outputs": [
        {
          "output_type": "stream",
          "name": "stdout",
          "text": [
            "dataset shape => (195, 2)\n"
          ]
        }
      ]
    },
    {
      "cell_type": "code",
      "source": [
        "dataset.columns"
      ],
      "metadata": {
        "colab": {
          "base_uri": "https://localhost:8080/"
        },
        "id": "_-k-bHk97y4l",
        "outputId": "f2e6833d-9b4c-4fcc-ea6b-243a4a1ac54d"
      },
      "execution_count": null,
      "outputs": [
        {
          "output_type": "execute_result",
          "data": {
            "text/plain": [
              "Index(['Question', 'Answer'], dtype='object')"
            ]
          },
          "metadata": {},
          "execution_count": 60
        }
      ]
    },
    {
      "cell_type": "code",
      "source": [
        "number = []\n",
        "place = []\n",
        "time = []\n",
        "etc = []"
      ],
      "metadata": {
        "id": "iqXFJHp1725r"
      },
      "execution_count": null,
      "outputs": []
    },
    {
      "cell_type": "code",
      "source": [
        "for i in dataset:\n",
        "    if ('어디' or '장소' or '위치' or '주소') in i: place.append(i)\n",
        "    elif ('번호' or '전화') in i: number.append(i)\n",
        "    elif ('시작' or '마감' or '언제' or '기간' or '시간') in i: time.append(i)\n",
        "    else: etc.append(i)"
      ],
      "metadata": {
        "id": "ayf0IkIX79AQ"
      },
      "execution_count": null,
      "outputs": []
    },
    {
      "cell_type": "code",
      "source": [
        "len(number)"
      ],
      "metadata": {
        "colab": {
          "base_uri": "https://localhost:8080/"
        },
        "id": "ZPlHT3al8Ea0",
        "outputId": "29edd3d5-28c6-42a7-9862-403fdb51101c"
      },
      "execution_count": null,
      "outputs": [
        {
          "output_type": "execute_result",
          "data": {
            "text/plain": [
              "0"
            ]
          },
          "metadata": {},
          "execution_count": 67
        }
      ]
    },
    {
      "cell_type": "markdown",
      "source": [
        "## 의도 분류 모듈 *생성*"
      ],
      "metadata": {
        "id": "-9BUPca68Y9Y"
      }
    },
    {
      "cell_type": "markdown",
      "source": [
        "### 데이터 준비"
      ],
      "metadata": {
        "id": "zK3mjM5W90wH"
      }
    },
    {
      "cell_type": "code",
      "source": [
        "import pandas as pd\n",
        "\n",
        "# 업로드된 파일의 경로\n",
        "file_path = '/content/drive/MyDrive/AICOSS/knu_dataset_csv.csv'\n",
        "\n",
        "# 데이터셋 불러오기\n",
        "df = pd.read_csv(file_path)\n",
        "\n",
        "# 데이터 확인\n",
        "print(df.head())\n"
      ],
      "metadata": {
        "colab": {
          "base_uri": "https://localhost:8080/"
        },
        "id": "m_WS-j_58cuN",
        "outputId": "6c2d3954-e658-44d3-9e00-91a4f61cffcd"
      },
      "execution_count": null,
      "outputs": [
        {
          "output_type": "stream",
          "name": "stdout",
          "text": [
            "                     Question  \\\n",
            "0        치대 학생인데, 장학금을 받고싶어.    \n",
            "1               의학과 교육과정을 알려줘   \n",
            "2                 컴학 공지사항 알려줘   \n",
            "3  AIcoss 학생인데 gpu 서버 사용하고 싶어   \n",
            "4                 인컴 교육과정 알려줘   \n",
            "\n",
            "                                              Answer  \n",
            "0                            https://dent.knu.ac.kr/  \n",
            "1  https://med.knu.ac.kr/pages/sub.htm?nav_code=k...  \n",
            "2  https://cse.knu.ac.kr/bbs/board.php?bo_table=s...  \n",
            "3               https://aicoss.knu.ac.kr/gpu/list.do  \n",
            "4                 https://cse.knu.ac.kr/sub3_3_b.php  \n"
          ]
        }
      ]
    },
    {
      "cell_type": "markdown",
      "source": [
        "### 데이터 전처리"
      ],
      "metadata": {
        "id": "Yw1n1WmW92Y4"
      }
    },
    {
      "cell_type": "code",
      "source": [
        "import tensorflow as tf\n",
        "from tensorflow.keras.preprocessing.text import Tokenizer\n",
        "from tensorflow.keras.preprocessing.sequence import pad_sequences\n",
        "\n",
        "# 입력 텍스트와 레이블 추출\n",
        "texts = df['Question']  # 실제 텍스트가 있는 열 이름으로 변경\n",
        "labels = df['Answer']  # 실제 레이블이 있는 열 이름으로 변경\n",
        "\n",
        "# 텍스트를 시퀀스로 변환\n",
        "tokenizer = Tokenizer(num_words=10000)\n",
        "tokenizer.fit_on_texts(texts)\n",
        "sequences = tokenizer.texts_to_sequences(texts)\n",
        "\n",
        "# 패딩\n",
        "maxlen = 100\n",
        "X = pad_sequences(sequences, maxlen=maxlen)\n",
        "\n",
        "# 레이블 인코딩\n",
        "from sklearn.preprocessing import LabelEncoder\n",
        "\n",
        "encoder = LabelEncoder()\n",
        "y = encoder.fit_transform(labels)\n",
        "\n",
        "# 데이터셋을 훈련과 테스트로 나누기\n",
        "from sklearn.model_selection import train_test_split\n",
        "\n",
        "X_train, X_test, y_train, y_test = train_test_split(X, y, test_size=0.2, random_state=42)\n"
      ],
      "metadata": {
        "id": "iOEeTqAz8fCW"
      },
      "execution_count": null,
      "outputs": []
    },
    {
      "cell_type": "markdown",
      "source": [
        "### 모델 구축"
      ],
      "metadata": {
        "id": "2yO6yxdj-PoG"
      }
    },
    {
      "cell_type": "code",
      "source": [
        "from tensorflow.keras.models import Sequential\n",
        "from tensorflow.keras.layers import Embedding, LSTM, Dense, Dropout\n",
        "\n",
        "# 모델 생성\n",
        "model = Sequential()\n",
        "model.add(Embedding(input_dim=10000, output_dim=128, input_length=maxlen))\n",
        "model.add(LSTM(128, dropout=0.2, recurrent_dropout=0.2))\n",
        "model.add(Dense(64, activation='relu'))\n",
        "model.add(Dropout(0.5))\n",
        "model.add(Dense(len(encoder.classes_), activation='softmax'))\n",
        "\n",
        "# 모델 컴파일\n",
        "model.compile(loss='sparse_categorical_crossentropy',\n",
        "              optimizer='adam',\n",
        "              metrics=['accuracy'])\n",
        "\n",
        "# 모델 요약\n",
        "model.summary()\n"
      ],
      "metadata": {
        "colab": {
          "base_uri": "https://localhost:8080/",
          "height": 363
        },
        "id": "d-Ivqfph-RTp",
        "outputId": "eacd0b04-e51c-47fe-c0f0-fcc4701a7081"
      },
      "execution_count": null,
      "outputs": [
        {
          "output_type": "stream",
          "name": "stderr",
          "text": [
            "/usr/local/lib/python3.10/dist-packages/keras/src/layers/core/embedding.py:90: UserWarning: Argument `input_length` is deprecated. Just remove it.\n",
            "  warnings.warn(\n"
          ]
        },
        {
          "output_type": "display_data",
          "data": {
            "text/plain": [
              "\u001b[1mModel: \"sequential\"\u001b[0m\n"
            ],
            "text/html": [
              "<pre style=\"white-space:pre;overflow-x:auto;line-height:normal;font-family:Menlo,'DejaVu Sans Mono',consolas,'Courier New',monospace\"><span style=\"font-weight: bold\">Model: \"sequential\"</span>\n",
              "</pre>\n"
            ]
          },
          "metadata": {}
        },
        {
          "output_type": "display_data",
          "data": {
            "text/plain": [
              "┏━━━━━━━━━━━━━━━━━━━━━━━━━━━━━━━━━━━━━━┳━━━━━━━━━━━━━━━━━━━━━━━━━━━━━┳━━━━━━━━━━━━━━━━━┓\n",
              "┃\u001b[1m \u001b[0m\u001b[1mLayer (type)                        \u001b[0m\u001b[1m \u001b[0m┃\u001b[1m \u001b[0m\u001b[1mOutput Shape               \u001b[0m\u001b[1m \u001b[0m┃\u001b[1m \u001b[0m\u001b[1m        Param #\u001b[0m\u001b[1m \u001b[0m┃\n",
              "┡━━━━━━━━━━━━━━━━━━━━━━━━━━━━━━━━━━━━━━╇━━━━━━━━━━━━━━━━━━━━━━━━━━━━━╇━━━━━━━━━━━━━━━━━┩\n",
              "│ embedding_1 (\u001b[38;5;33mEmbedding\u001b[0m)              │ ?                           │     \u001b[38;5;34m0\u001b[0m (unbuilt) │\n",
              "├──────────────────────────────────────┼─────────────────────────────┼─────────────────┤\n",
              "│ lstm (\u001b[38;5;33mLSTM\u001b[0m)                          │ ?                           │     \u001b[38;5;34m0\u001b[0m (unbuilt) │\n",
              "├──────────────────────────────────────┼─────────────────────────────┼─────────────────┤\n",
              "│ dense_1 (\u001b[38;5;33mDense\u001b[0m)                      │ ?                           │     \u001b[38;5;34m0\u001b[0m (unbuilt) │\n",
              "├──────────────────────────────────────┼─────────────────────────────┼─────────────────┤\n",
              "│ dropout_1 (\u001b[38;5;33mDropout\u001b[0m)                  │ ?                           │     \u001b[38;5;34m0\u001b[0m (unbuilt) │\n",
              "├──────────────────────────────────────┼─────────────────────────────┼─────────────────┤\n",
              "│ dense_2 (\u001b[38;5;33mDense\u001b[0m)                      │ ?                           │     \u001b[38;5;34m0\u001b[0m (unbuilt) │\n",
              "└──────────────────────────────────────┴─────────────────────────────┴─────────────────┘\n"
            ],
            "text/html": [
              "<pre style=\"white-space:pre;overflow-x:auto;line-height:normal;font-family:Menlo,'DejaVu Sans Mono',consolas,'Courier New',monospace\">┏━━━━━━━━━━━━━━━━━━━━━━━━━━━━━━━━━━━━━━┳━━━━━━━━━━━━━━━━━━━━━━━━━━━━━┳━━━━━━━━━━━━━━━━━┓\n",
              "┃<span style=\"font-weight: bold\"> Layer (type)                         </span>┃<span style=\"font-weight: bold\"> Output Shape                </span>┃<span style=\"font-weight: bold\">         Param # </span>┃\n",
              "┡━━━━━━━━━━━━━━━━━━━━━━━━━━━━━━━━━━━━━━╇━━━━━━━━━━━━━━━━━━━━━━━━━━━━━╇━━━━━━━━━━━━━━━━━┩\n",
              "│ embedding_1 (<span style=\"color: #0087ff; text-decoration-color: #0087ff\">Embedding</span>)              │ ?                           │     <span style=\"color: #00af00; text-decoration-color: #00af00\">0</span> (unbuilt) │\n",
              "├──────────────────────────────────────┼─────────────────────────────┼─────────────────┤\n",
              "│ lstm (<span style=\"color: #0087ff; text-decoration-color: #0087ff\">LSTM</span>)                          │ ?                           │     <span style=\"color: #00af00; text-decoration-color: #00af00\">0</span> (unbuilt) │\n",
              "├──────────────────────────────────────┼─────────────────────────────┼─────────────────┤\n",
              "│ dense_1 (<span style=\"color: #0087ff; text-decoration-color: #0087ff\">Dense</span>)                      │ ?                           │     <span style=\"color: #00af00; text-decoration-color: #00af00\">0</span> (unbuilt) │\n",
              "├──────────────────────────────────────┼─────────────────────────────┼─────────────────┤\n",
              "│ dropout_1 (<span style=\"color: #0087ff; text-decoration-color: #0087ff\">Dropout</span>)                  │ ?                           │     <span style=\"color: #00af00; text-decoration-color: #00af00\">0</span> (unbuilt) │\n",
              "├──────────────────────────────────────┼─────────────────────────────┼─────────────────┤\n",
              "│ dense_2 (<span style=\"color: #0087ff; text-decoration-color: #0087ff\">Dense</span>)                      │ ?                           │     <span style=\"color: #00af00; text-decoration-color: #00af00\">0</span> (unbuilt) │\n",
              "└──────────────────────────────────────┴─────────────────────────────┴─────────────────┘\n",
              "</pre>\n"
            ]
          },
          "metadata": {}
        },
        {
          "output_type": "display_data",
          "data": {
            "text/plain": [
              "\u001b[1m Total params: \u001b[0m\u001b[38;5;34m0\u001b[0m (0.00 B)\n"
            ],
            "text/html": [
              "<pre style=\"white-space:pre;overflow-x:auto;line-height:normal;font-family:Menlo,'DejaVu Sans Mono',consolas,'Courier New',monospace\"><span style=\"font-weight: bold\"> Total params: </span><span style=\"color: #00af00; text-decoration-color: #00af00\">0</span> (0.00 B)\n",
              "</pre>\n"
            ]
          },
          "metadata": {}
        },
        {
          "output_type": "display_data",
          "data": {
            "text/plain": [
              "\u001b[1m Trainable params: \u001b[0m\u001b[38;5;34m0\u001b[0m (0.00 B)\n"
            ],
            "text/html": [
              "<pre style=\"white-space:pre;overflow-x:auto;line-height:normal;font-family:Menlo,'DejaVu Sans Mono',consolas,'Courier New',monospace\"><span style=\"font-weight: bold\"> Trainable params: </span><span style=\"color: #00af00; text-decoration-color: #00af00\">0</span> (0.00 B)\n",
              "</pre>\n"
            ]
          },
          "metadata": {}
        },
        {
          "output_type": "display_data",
          "data": {
            "text/plain": [
              "\u001b[1m Non-trainable params: \u001b[0m\u001b[38;5;34m0\u001b[0m (0.00 B)\n"
            ],
            "text/html": [
              "<pre style=\"white-space:pre;overflow-x:auto;line-height:normal;font-family:Menlo,'DejaVu Sans Mono',consolas,'Courier New',monospace\"><span style=\"font-weight: bold\"> Non-trainable params: </span><span style=\"color: #00af00; text-decoration-color: #00af00\">0</span> (0.00 B)\n",
              "</pre>\n"
            ]
          },
          "metadata": {}
        }
      ]
    },
    {
      "cell_type": "markdown",
      "source": [
        "### 모델 학습"
      ],
      "metadata": {
        "id": "zS93HNLW-TUP"
      }
    },
    {
      "cell_type": "code",
      "source": [
        "# 모델 학습\n",
        "history = model.fit(X_train, y_train,\n",
        "                    epochs=10,\n",
        "                    batch_size=32,\n",
        "                    validation_data=(X_test, y_test))\n"
      ],
      "metadata": {
        "colab": {
          "base_uri": "https://localhost:8080/"
        },
        "id": "gNK17P1J-UcT",
        "outputId": "37f5a9dd-4eb2-41c7-8bbe-a62b6f805e97"
      },
      "execution_count": null,
      "outputs": [
        {
          "output_type": "stream",
          "name": "stdout",
          "text": [
            "Epoch 1/10\n",
            "\u001b[1m5/5\u001b[0m \u001b[32m━━━━━━━━━━━━━━━━━━━━\u001b[0m\u001b[37m\u001b[0m \u001b[1m10s\u001b[0m 837ms/step - accuracy: 0.0000e+00 - loss: 5.1104 - val_accuracy: 0.0000e+00 - val_loss: 5.1259\n",
            "Epoch 2/10\n",
            "\u001b[1m5/5\u001b[0m \u001b[32m━━━━━━━━━━━━━━━━━━━━\u001b[0m\u001b[37m\u001b[0m \u001b[1m2s\u001b[0m 397ms/step - accuracy: 0.0177 - loss: 5.1067 - val_accuracy: 0.0000e+00 - val_loss: 5.1412\n",
            "Epoch 3/10\n",
            "\u001b[1m5/5\u001b[0m \u001b[32m━━━━━━━━━━━━━━━━━━━━\u001b[0m\u001b[37m\u001b[0m \u001b[1m2s\u001b[0m 376ms/step - accuracy: 0.0078 - loss: 5.0846 - val_accuracy: 0.0000e+00 - val_loss: 5.2163\n",
            "Epoch 4/10\n",
            "\u001b[1m5/5\u001b[0m \u001b[32m━━━━━━━━━━━━━━━━━━━━\u001b[0m\u001b[37m\u001b[0m \u001b[1m4s\u001b[0m 483ms/step - accuracy: 0.0052 - loss: 5.0976 - val_accuracy: 0.0000e+00 - val_loss: 5.2713\n",
            "Epoch 5/10\n",
            "\u001b[1m5/5\u001b[0m \u001b[32m━━━━━━━━━━━━━━━━━━━━\u001b[0m\u001b[37m\u001b[0m \u001b[1m3s\u001b[0m 413ms/step - accuracy: 0.0424 - loss: 5.0399 - val_accuracy: 0.0000e+00 - val_loss: 5.2936\n",
            "Epoch 6/10\n",
            "\u001b[1m5/5\u001b[0m \u001b[32m━━━━━━━━━━━━━━━━━━━━\u001b[0m\u001b[37m\u001b[0m \u001b[1m2s\u001b[0m 319ms/step - accuracy: 0.0121 - loss: 5.0310 - val_accuracy: 0.0000e+00 - val_loss: 5.4017\n",
            "Epoch 7/10\n",
            "\u001b[1m5/5\u001b[0m \u001b[32m━━━━━━━━━━━━━━━━━━━━\u001b[0m\u001b[37m\u001b[0m \u001b[1m2s\u001b[0m 185ms/step - accuracy: 0.0021 - loss: 5.0070 - val_accuracy: 0.0000e+00 - val_loss: 5.5679\n",
            "Epoch 8/10\n",
            "\u001b[1m5/5\u001b[0m \u001b[32m━━━━━━━━━━━━━━━━━━━━\u001b[0m\u001b[37m\u001b[0m \u001b[1m1s\u001b[0m 187ms/step - accuracy: 0.0112 - loss: 5.0330 - val_accuracy: 0.0000e+00 - val_loss: 5.5807\n",
            "Epoch 9/10\n",
            "\u001b[1m5/5\u001b[0m \u001b[32m━━━━━━━━━━━━━━━━━━━━\u001b[0m\u001b[37m\u001b[0m \u001b[1m1s\u001b[0m 180ms/step - accuracy: 0.0164 - loss: 4.9898 - val_accuracy: 0.0000e+00 - val_loss: 5.5481\n",
            "Epoch 10/10\n",
            "\u001b[1m5/5\u001b[0m \u001b[32m━━━━━━━━━━━━━━━━━━━━\u001b[0m\u001b[37m\u001b[0m \u001b[1m1s\u001b[0m 190ms/step - accuracy: 0.0130 - loss: 5.0103 - val_accuracy: 0.0000e+00 - val_loss: 5.5919\n"
          ]
        }
      ]
    },
    {
      "cell_type": "markdown",
      "source": [
        "### 모델 평가 및 저장"
      ],
      "metadata": {
        "id": "GQNtN28H-W3A"
      }
    },
    {
      "cell_type": "code",
      "source": [
        "# 테스트 데이터로 모델 평가\n",
        "loss, accuracy = model.evaluate(X_test, y_test)\n",
        "print(f'Test Accuracy: {accuracy:.4f}')\n",
        "\n",
        "# 모델 저장\n",
        "model.save('intent_classification_model.h5')"
      ],
      "metadata": {
        "colab": {
          "base_uri": "https://localhost:8080/"
        },
        "id": "jpj_ghUj-Yce",
        "outputId": "b0b5a523-e849-4dc3-a45a-c9044bd15708"
      },
      "execution_count": null,
      "outputs": [
        {
          "output_type": "stream",
          "name": "stdout",
          "text": [
            "\u001b[1m2/2\u001b[0m \u001b[32m━━━━━━━━━━━━━━━━━━━━\u001b[0m\u001b[37m\u001b[0m \u001b[1m0s\u001b[0m 20ms/step - accuracy: 0.0000e+00 - loss: 5.5908\n"
          ]
        },
        {
          "output_type": "stream",
          "name": "stderr",
          "text": [
            "WARNING:absl:You are saving your model as an HDF5 file via `model.save()` or `keras.saving.save_model(model)`. This file format is considered legacy. We recommend using instead the native Keras format, e.g. `model.save('my_model.keras')` or `keras.saving.save_model(model, 'my_model.keras')`. \n"
          ]
        },
        {
          "output_type": "stream",
          "name": "stdout",
          "text": [
            "Test Accuracy: 0.0000\n"
          ]
        }
      ]
    },
    {
      "cell_type": "markdown",
      "source": [
        "### 모델 사용"
      ],
      "metadata": {
        "id": "eMLCUa7a-dLO"
      }
    },
    {
      "cell_type": "code",
      "source": [
        "# 새로운 문장 예측\n",
        "def predict_intent(text):\n",
        "    sequence = tokenizer.texts_to_sequences([text])\n",
        "    padded_sequence = pad_sequences(sequence, maxlen=maxlen)\n",
        "    prediction = model.predict(padded_sequence)\n",
        "    predicted_class = encoder.inverse_transform([tf.argmax(prediction[0])])\n",
        "    return predicted_class[0]\n",
        "\n",
        "# 예시 예측\n",
        "new_text = \"기미코가 최초로 은퇴 선언을 한 게 언제야?\"\n",
        "print(predict_intent(new_text))\n"
      ],
      "metadata": {
        "colab": {
          "base_uri": "https://localhost:8080/"
        },
        "id": "B05DFQn5BIwW",
        "outputId": "bec46196-15a7-4d87-bdcc-10eb84326914"
      },
      "execution_count": null,
      "outputs": [
        {
          "output_type": "stream",
          "name": "stdout",
          "text": [
            "\u001b[1m1/1\u001b[0m \u001b[32m━━━━━━━━━━━━━━━━━━━━\u001b[0m\u001b[37m\u001b[0m \u001b[1m0s\u001b[0m 485ms/step\n",
            "https://ssw.knu.ac.kr/\n"
          ]
        }
      ]
    }
  ]
}