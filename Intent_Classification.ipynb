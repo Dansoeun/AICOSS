{
  "cells": [
    {
      "cell_type": "markdown",
      "metadata": {
        "id": "view-in-github",
        "colab_type": "text"
      },
      "source": [
        "<a href=\"https://colab.research.google.com/github/Dansoeun/AICOSS/blob/ChatBot/Intent_Classification.ipynb\" target=\"_parent\"><img src=\"https://colab.research.google.com/assets/colab-badge.svg\" alt=\"Open In Colab\"/></a>"
      ]
    },
    {
      "cell_type": "markdown",
      "metadata": {
        "id": "jxqZOr-lKfRV"
      },
      "source": [
        "# Packages"
      ]
    },
    {
      "cell_type": "code",
      "execution_count": null,
      "metadata": {
        "colab": {
          "base_uri": "https://localhost:8080/"
        },
        "id": "hOppYKTaJCsp",
        "outputId": "e90fddeb-6e83-486e-ac00-719da2b18d2e"
      },
      "outputs": [
        {
          "data": {
            "text/plain": [
              "('test_label.npy', <http.client.HTTPMessage at 0x7de8b109c760>)"
            ]
          },
          "execution_count": 1,
          "metadata": {},
          "output_type": "execute_result"
        }
      ],
      "source": [
        "import os\n",
        "import pandas as pd\n",
        "import numpy as np\n",
        "import matplotlib.pyplot as plt\n",
        "%matplotlib inline\n",
        "\n",
        "from sklearn import preprocessing\n",
        "from tensorflow.keras.preprocessing.text import Tokenizer\n",
        "from tensorflow.keras.preprocessing.sequence import pad_sequences\n",
        "from tensorflow.keras.utils import to_categorical\n",
        "from tensorflow.keras.models import Model\n",
        "from tensorflow.keras.layers import Embedding, Dropout, Conv1D, GlobalMaxPooling1D, Dense, Input, Flatten, Concatenate\n",
        "from sklearn.metrics import classification_report\n",
        "import urllib.request\n",
        "\n",
        "urllib.request.urlretrieve(\"https://github.com/ajinkyaT/CNN_Intent_Classification/raw/master/data/train_text.npy\", filename=\"train_text.npy\")\n",
        "urllib.request.urlretrieve(\"https://github.com/ajinkyaT/CNN_Intent_Classification/raw/master/data/test_text.npy\", filename=\"test_text.npy\")\n",
        "urllib.request.urlretrieve(\"https://github.com/ajinkyaT/CNN_Intent_Classification/raw/master/data/train_label.npy\", filename=\"train_label.npy\")\n",
        "urllib.request.urlretrieve(\"https://github.com/ajinkyaT/CNN_Intent_Classification/raw/master/data/test_label.npy\", filename=\"test_label.npy\")"
      ]
    },
    {
      "cell_type": "markdown",
      "metadata": {
        "id": "3sHjwY86Ktgy"
      },
      "source": [
        "# Data Preprocessing"
      ]
    },
    {
      "cell_type": "code",
      "execution_count": null,
      "metadata": {
        "colab": {
          "base_uri": "https://localhost:8080/"
        },
        "id": "Aq1RXHSuKbd_",
        "outputId": "4e3f4cd3-f80b-4ba3-dae5-1ea4e5e03c62"
      },
      "outputs": [
        {
          "name": "stdout",
          "output_type": "stream",
          "text": [
            "drive  sample_data  test_label.npy  test_text.npy  train_label.npy  train_text.npy\n"
          ]
        }
      ],
      "source": [
        "!ls"
      ]
    },
    {
      "cell_type": "code",
      "execution_count": null,
      "metadata": {
        "id": "tUfc-m6pKdl4"
      },
      "outputs": [],
      "source": [
        "old = np.load\n",
        "np.load = lambda *a, **k: old(*a, allow_pickle=True, **k)"
      ]
    },
    {
      "cell_type": "code",
      "execution_count": null,
      "metadata": {
        "id": "uw1zpPLlsPIA"
      },
      "outputs": [],
      "source": [
        "import numpy as np\n",
        "\n",
        "intent_train = np.load(open('train_text.npy', 'rb')).tolist()\n",
        "label_train = np.load(open('train_label.npy', 'rb')).tolist()\n",
        "\n",
        "knowledge_train_path = '/content/drive/MyDrive/AICOSS/일반상식'\n",
        "\n",
        "try:\n",
        "    with open(knowledge_train_path, 'r', encoding='utf-8') as file:\n",
        "        knowledge_train = file.readlines()\n",
        "except Exception as e:\n",
        "    print(f\"파일을 불러오는 중 문제가 발생했습니다: {e}\")\n",
        "\n",
        "intent_test = np.load(open('test_text.npy', 'rb')).tolist()\n",
        "label_test = np.load(open('test_label.npy', 'rb')).tolist()"
      ]
    },
    {
      "cell_type": "code",
      "execution_count": null,
      "metadata": {
        "colab": {
          "base_uri": "https://localhost:8080/"
        },
        "id": "WQvaZqlHsSZ0",
        "outputId": "aba49e53-59ea-46fa-a75d-beb11531fbb1"
      },
      "outputs": [
        {
          "name": "stdout",
          "output_type": "stream",
          "text": [
            "훈련용 문장의 수 : 11784\n",
            "훈련용 레이블의 수 : 11784\n",
            "테스트용 문장의 수 : 600\n",
            "테스트용 레이블의 수 : 600\n",
            "일반상식 문장의 수 : 68539\n"
          ]
        }
      ],
      "source": [
        "print('훈련용 문장의 수 :', len(intent_train))\n",
        "print('훈련용 레이블의 수 :', len(label_train))\n",
        "print('테스트용 문장의 수 :', len(intent_test))\n",
        "print('테스트용 레이블의 수 :', len(label_test))\n",
        "print('일반상식 문장의 수 :', len(knowledge_train))"
      ]
    },
    {
      "cell_type": "code",
      "execution_count": null,
      "metadata": {
        "colab": {
          "base_uri": "https://localhost:8080/",
          "height": 590
        },
        "id": "7SV_jUjEsWm9",
        "outputId": "a740e69e-9609-4e53-f2be-ef5fb51b39a5"
      },
      "outputs": [
        {
          "data": {
            "text/plain": [
              "<Axes: >"
            ]
          },
          "execution_count": 6,
          "metadata": {},
          "output_type": "execute_result"
        },
        {
          "data": {
            "image/png": "[encoded data removed]",
            "text/plain": [
              "<Figure size 640x480 with 1 Axes>"
            ]
          },
          "metadata": {},
          "output_type": "display_data"
        }
      ],
      "source": [
        "temp = pd.Series(label_train)\n",
        "temp.value_counts().plot(kind = 'bar',color='orange')"
      ]
    },
    {
      "cell_type": "code",
      "execution_count": null,
      "metadata": {
        "colab": {
          "base_uri": "https://localhost:8080/",
          "height": 75
        },
        "id": "7hsoKbh-saIg",
        "outputId": "d6ea4804-ea9c-48ff-9261-6001a12b0605"
      },
      "outputs": [
        {
          "data": {
            "text/html": [
              "<style>#sk-container-id-1 {color: black;}#sk-container-id-1 pre{padding: 0;}#sk-container-id-1 div.sk-toggleable {background-color: white;}#sk-container-id-1 label.sk-toggleable__label {cursor: pointer;display: block;width: 100%;margin-bottom: 0;padding: 0.3em;box-sizing: border-box;text-align: center;}#sk-container-id-1 label.sk-toggleable__label-arrow:before {content: \"▸\";float: left;margin-right: 0.25em;color: #696969;}#sk-container-id-1 label.sk-toggleable__label-arrow:hover:before {color: black;}#sk-container-id-1 div.sk-estimator:hover label.sk-toggleable__label-arrow:before {color: black;}#sk-container-id-1 div.sk-toggleable__content {max-height: 0;max-width: 0;overflow: hidden;text-align: left;background-color: #f0f8ff;}#sk-container-id-1 div.sk-toggleable__content pre {margin: 0.2em;color: black;border-radius: 0.25em;background-color: #f0f8ff;}#sk-container-id-1 input.sk-toggleable__control:checked~div.sk-toggleable__content {max-height: 200px;max-width: 100%;overflow: auto;}#sk-container-id-1 input.sk-toggleable__control:checked~label.sk-toggleable__label-arrow:before {content: \"▾\";}#sk-container-id-1 div.sk-estimator input.sk-toggleable__control:checked~label.sk-toggleable__label {background-color: #d4ebff;}#sk-container-id-1 div.sk-label input.sk-toggleable__control:checked~label.sk-toggleable__label {background-color: #d4ebff;}#sk-container-id-1 input.sk-hidden--visually {border: 0;clip: rect(1px 1px 1px 1px);clip: rect(1px, 1px, 1px, 1px);height: 1px;margin: -1px;overflow: hidden;padding: 0;position: absolute;width: 1px;}#sk-container-id-1 div.sk-estimator {font-family: monospace;background-color: #f0f8ff;border: 1px dotted black;border-radius: 0.25em;box-sizing: border-box;margin-bottom: 0.5em;}#sk-container-id-1 div.sk-estimator:hover {background-color: #d4ebff;}#sk-container-id-1 div.sk-parallel-item::after {content: \"\";width: 100%;border-bottom: 1px solid gray;flex-grow: 1;}#sk-container-id-1 div.sk-label:hover label.sk-toggleable__label {background-color: #d4ebff;}#sk-container-id-1 div.sk-serial::before {content: \"\";position: absolute;border-left: 1px solid gray;box-sizing: border-box;top: 0;bottom: 0;left: 50%;z-index: 0;}#sk-container-id-1 div.sk-serial {display: flex;flex-direction: column;align-items: center;background-color: white;padding-right: 0.2em;padding-left: 0.2em;position: relative;}#sk-container-id-1 div.sk-item {position: relative;z-index: 1;}#sk-container-id-1 div.sk-parallel {display: flex;align-items: stretch;justify-content: center;background-color: white;position: relative;}#sk-container-id-1 div.sk-item::before, #sk-container-id-1 div.sk-parallel-item::before {content: \"\";position: absolute;border-left: 1px solid gray;box-sizing: border-box;top: 0;bottom: 0;left: 50%;z-index: -1;}#sk-container-id-1 div.sk-parallel-item {display: flex;flex-direction: column;z-index: 1;position: relative;background-color: white;}#sk-container-id-1 div.sk-parallel-item:first-child::after {align-self: flex-end;width: 50%;}#sk-container-id-1 div.sk-parallel-item:last-child::after {align-self: flex-start;width: 50%;}#sk-container-id-1 div.sk-parallel-item:only-child::after {width: 0;}#sk-container-id-1 div.sk-dashed-wrapped {border: 1px dashed gray;margin: 0 0.4em 0.5em 0.4em;box-sizing: border-box;padding-bottom: 0.4em;background-color: white;}#sk-container-id-1 div.sk-label label {font-family: monospace;font-weight: bold;display: inline-block;line-height: 1.2em;}#sk-container-id-1 div.sk-label-container {text-align: center;}#sk-container-id-1 div.sk-container {/* jupyter's `normalize.less` sets `[hidden] { display: none; }` but bootstrap.min.css set `[hidden] { display: none !important; }` so we also need the `!important` here to be able to override the default hidden behavior on the sphinx rendered scikit-learn.org. See: https://github.com/scikit-learn/scikit-learn/issues/21755 */display: inline-block !important;position: relative;}#sk-container-id-1 div.sk-text-repr-fallback {display: none;}</style><div id=\"sk-container-id-1\" class=\"sk-top-container\"><div class=\"sk-text-repr-fallback\"><pre>LabelEncoder()</pre><b>In a Jupyter environment, please rerun this cell to show the HTML representation or trust the notebook. <br />On GitHub, the HTML representation is unable to render, please try loading this page with nbviewer.org.</b></div><div class=\"sk-container\" hidden><div class=\"sk-item\"><div class=\"sk-estimator sk-toggleable\"><input class=\"sk-toggleable__control sk-hidden--visually\" id=\"sk-estimator-id-1\" type=\"checkbox\" checked><label for=\"sk-estimator-id-1\" class=\"sk-toggleable__label sk-toggleable__label-arrow\">LabelEncoder</label><div class=\"sk-toggleable__content\"><pre>LabelEncoder()</pre></div></div></div></div></div>"
            ],
            "text/plain": [
              "LabelEncoder()"
            ]
          },
          "execution_count": 7,
          "metadata": {},
          "output_type": "execute_result"
        }
      ],
      "source": [
        "idx_encode = preprocessing.LabelEncoder()\n",
        "idx_encode.fit(label_train)"
      ]
    },
    {
      "cell_type": "code",
      "execution_count": null,
      "metadata": {
        "colab": {
          "base_uri": "https://localhost:8080/"
        },
        "id": "zk25fSMfscOe",
        "outputId": "f91eef5d-f7cc-4cdf-d370-063d5049f245"
      },
      "outputs": [
        {
          "name": "stdout",
          "output_type": "stream",
          "text": [
            "{'AddToPlaylist': 0, 'BookRestaurant': 1, 'GetWeather': 2, 'RateBook': 3, 'SearchCreativeWork': 4, 'SearchScreeningEvent': 5}\n"
          ]
        }
      ],
      "source": [
        "label_train = idx_encode.transform(label_train)\n",
        "label_test = idx_encode.transform(label_test)\n",
        "\n",
        "label_idx = dict(zip(list(idx_encode.classes_), idx_encode.transform(list(idx_encode.classes_))))\n",
        "print(label_idx)"
      ]
    },
    {
      "cell_type": "code",
      "execution_count": null,
      "metadata": {
        "colab": {
          "base_uri": "https://localhost:8080/"
        },
        "id": "-dlaOuifsfWl",
        "outputId": "5144102e-fc1a-4c19-d41b-72f3f9118837"
      },
      "outputs": [
        {
          "data": {
            "text/plain": [
              "[[11, 191, 61, 4, 1, 4013, 1141, 1572, 15],\n",
              " [11, 2624, 1573, 3, 14, 15, 939, 82, 256, 188, 548],\n",
              " [11, 187, 42, 2625, 4014, 4, 1968],\n",
              " [11, 2626, 22, 2627, 4, 14, 192, 27],\n",
              " [11, 92, 4, 14, 651, 520, 195]]"
            ]
          },
          "execution_count": 9,
          "metadata": {},
          "output_type": "execute_result"
        }
      ],
      "source": [
        "tokenizer = Tokenizer()\n",
        "tokenizer.fit_on_texts(intent_train)\n",
        "sequences = tokenizer.texts_to_sequences(intent_train)\n",
        "sequences[:5]"
      ]
    },
    {
      "cell_type": "code",
      "execution_count": null,
      "metadata": {
        "colab": {
          "base_uri": "https://localhost:8080/"
        },
        "id": "86mwyk2BshV4",
        "outputId": "54a6c19e-4e75-4438-e4bd-b726604466d5"
      },
      "outputs": [
        {
          "name": "stdout",
          "output_type": "stream",
          "text": [
            "단어 집합(Vocabulary)의 크기 : 9870\n"
          ]
        }
      ],
      "source": [
        "word_index = tokenizer.word_index\n",
        "vocab_size = len(word_index) + 1\n",
        "print('단어 집합(Vocabulary)의 크기 :',vocab_size)"
      ]
    },
    {
      "cell_type": "code",
      "execution_count": null,
      "metadata": {
        "colab": {
          "base_uri": "https://localhost:8080/",
          "height": 486
        },
        "id": "OcB40oabsj2S",
        "outputId": "eee6a463-e44c-4f74-fce4-7aba3d9bbf44"
      },
      "outputs": [
        {
          "name": "stdout",
          "output_type": "stream",
          "text": [
            "문장의 최대 길이 : 35\n",
            "문장의 평균 길이 : 9.364392396469789\n"
          ]
        },
        {
          "data": {
            "image/png": "[encoded data removed]",
            "text/plain": [
              "<Figure size 640x480 with 1 Axes>"
            ]
          },
          "metadata": {},
          "output_type": "display_data"
        }
      ],
      "source": [
        "print('문장의 최대 길이 :',max(len(l) for l in sequences))\n",
        "print('문장의 평균 길이 :',sum(map(len, sequences))/len(sequences))\n",
        "plt.hist([len(s) for s in sequences], bins=50, color='orange')\n",
        "plt.xlabel('length of samples')\n",
        "plt.ylabel('number of samples')\n",
        "plt.show()"
      ]
    },
    {
      "cell_type": "code",
      "execution_count": null,
      "metadata": {
        "colab": {
          "base_uri": "https://localhost:8080/"
        },
        "id": "_E8-m97tsmhA",
        "outputId": "602b9ca7-e0e6-4d96-85e0-6a3414bb302b"
      },
      "outputs": [
        {
          "name": "stdout",
          "output_type": "stream",
          "text": [
            "전체 데이터의 크기(shape): (11784, 35)\n",
            "레이블 데이터의 크기(shape): (11784, 6)\n"
          ]
        }
      ],
      "source": [
        "max_len = 35\n",
        "intent_train = pad_sequences(sequences, maxlen = max_len)\n",
        "label_train = to_categorical(np.asarray(label_train))\n",
        "print('전체 데이터의 크기(shape):', intent_train.shape)\n",
        "print('레이블 데이터의 크기(shape):', label_train.shape)\n"
      ]
    },
    {
      "cell_type": "code",
      "execution_count": null,
      "metadata": {
        "colab": {
          "base_uri": "https://localhost:8080/"
        },
        "id": "MLLXOtCEsoHW",
        "outputId": "2d3aae30-b236-4922-d80e-8df0a8e9f935"
      },
      "outputs": [
        {
          "name": "stdout",
          "output_type": "stream",
          "text": [
            "[   0    0    0    0    0    0    0    0    0    0    0    0    0    0\n",
            "    0    0    0    0    0    0    0    0    0    0    0    0   11  191\n",
            "   61    4    1 4013 1141 1572   15]\n",
            "[1. 0. 0. 0. 0. 0.]\n"
          ]
        }
      ],
      "source": [
        "print(intent_train[0])\n",
        "print(label_train[0])"
      ]
    },
    {
      "cell_type": "code",
      "execution_count": null,
      "metadata": {
        "colab": {
          "base_uri": "https://localhost:8080/"
        },
        "id": "ZsZZ2VFBsqFu",
        "outputId": "a29b7083-6db1-47b5-d631-3eac89517ab1"
      },
      "outputs": [
        {
          "name": "stdout",
          "output_type": "stream",
          "text": [
            "[ 7066  9252 11525 ...  8295   325 10494]\n"
          ]
        }
      ],
      "source": [
        "indices = np.arange(intent_train.shape[0])\n",
        "np.random.shuffle(indices)\n",
        "print(indices)"
      ]
    },
    {
      "cell_type": "code",
      "execution_count": null,
      "metadata": {
        "id": "9DOjNBmrsrjq"
      },
      "outputs": [],
      "source": [
        "intent_train = intent_train[indices]\n",
        "label_train = label_train[indices]"
      ]
    },
    {
      "cell_type": "code",
      "execution_count": null,
      "metadata": {
        "colab": {
          "base_uri": "https://localhost:8080/"
        },
        "id": "otwUOgdCstQW",
        "outputId": "435e87f1-c0d0-434d-8ac1-8eb291e82f54"
      },
      "outputs": [
        {
          "name": "stdout",
          "output_type": "stream",
          "text": [
            "1178\n"
          ]
        }
      ],
      "source": [
        "n_of_val = int(0.1 * intent_train.shape[0])\n",
        "print(n_of_val)"
      ]
    },
    {
      "cell_type": "code",
      "execution_count": null,
      "metadata": {
        "colab": {
          "base_uri": "https://localhost:8080/"
        },
        "id": "fqB4AQqy0AZ0",
        "outputId": "3bc34223-50f1-4fa2-925e-b921755ed4a6"
      },
      "outputs": [
        {
          "name": "stdout",
          "output_type": "stream",
          "text": [
            "훈련 데이터의 크기(shape): (10606, 35)\n",
            "검증 데이터의 크기(shape): (1178, 35)\n",
            "훈련 데이터 레이블의 개수(shape): (10606, 6)\n",
            "검증 데이터 레이블의 개수(shape): (1178, 6)\n",
            "테스트 데이터의 개수 : 600\n",
            "테스트 데이터 레이블의 개수 : 600\n"
          ]
        }
      ],
      "source": [
        "X_train = intent_train[:-n_of_val]\n",
        "y_train = label_train[:-n_of_val]\n",
        "X_val = intent_train[-n_of_val:]\n",
        "y_val = label_train[-n_of_val:]\n",
        "X_test = intent_test\n",
        "y_test = label_test\n",
        "print('훈련 데이터의 크기(shape):', X_train.shape)\n",
        "print('검증 데이터의 크기(shape):', X_val.shape)\n",
        "print('훈련 데이터 레이블의 개수(shape):', y_train.shape)\n",
        "print('검증 데이터 레이블의 개수(shape):', y_val.shape)\n",
        "print('테스트 데이터의 개수 :', len(X_test))\n",
        "print('테스트 데이터 레이블의 개수 :', len(y_test))"
      ]
    },
    {
      "cell_type": "code",
      "execution_count": null,
      "metadata": {
        "colab": {
          "base_uri": "https://localhost:8080/"
        },
        "id": "dF_pwO3-0HrD",
        "outputId": "d23615cc-5f08-49a6-9a5c-6b57d0f57c43"
      },
      "outputs": [
        {
          "name": "stdout",
          "output_type": "stream",
          "text": [
            "--2024-09-03 08:50:05--  http://nlp.stanford.edu/data/glove.6B.zip\n",
            "Resolving nlp.stanford.edu (nlp.stanford.edu)... 171.64.67.140\n",
            "Connecting to nlp.stanford.edu (nlp.stanford.edu)|171.64.67.140|:80... connected.\n",
            "HTTP request sent, awaiting response... 302 Found\n",
            "Location: https://nlp.stanford.edu/data/glove.6B.zip [following]\n",
            "--2024-09-03 08:50:05--  https://nlp.stanford.edu/data/glove.6B.zip\n",
            "Connecting to nlp.stanford.edu (nlp.stanford.edu)|171.64.67.140|:443... connected.\n",
            "HTTP request sent, awaiting response... 301 Moved Permanently\n",
            "Location: https://downloads.cs.stanford.edu/nlp/data/glove.6B.zip [following]\n",
            "--2024-09-03 08:50:05--  https://downloads.cs.stanford.edu/nlp/data/glove.6B.zip\n",
            "Resolving downloads.cs.stanford.edu (downloads.cs.stanford.edu)... 171.64.64.22\n",
            "Connecting to downloads.cs.stanford.edu (downloads.cs.stanford.edu)|171.64.64.22|:443... connected.\n",
            "HTTP request sent, awaiting response... 200 OK\n",
            "Length: 862182613 (822M) [application/zip]\n",
            "Saving to: ‘glove.6B.zip’\n",
            "\n",
            "glove.6B.zip        100%[===================>] 822.24M  5.01MB/s    in 2m 39s  \n",
            "\n",
            "2024-09-03 08:52:44 (5.18 MB/s) - ‘glove.6B.zip’ saved [862182613/862182613]\n",
            "\n",
            "Archive:  glove.6B.zip\n",
            "  inflating: glove.6B.50d.txt        \n",
            "  inflating: glove.6B.100d.txt       \n",
            "  inflating: glove.6B.200d.txt       \n",
            "  inflating: glove.6B.300d.txt       \n"
          ]
        }
      ],
      "source": [
        "!wget http://nlp.stanford.edu/data/glove.6B.zip\n",
        "!unzip glove*.zip"
      ]
    },
    {
      "cell_type": "code",
      "execution_count": null,
      "metadata": {
        "colab": {
          "base_uri": "https://localhost:8080/"
        },
        "id": "YTSyPW6n08pl",
        "outputId": "e65f3dfa-dd0d-4676-9aeb-42bf1d0a8b28"
      },
      "outputs": [
        {
          "name": "stdout",
          "output_type": "stream",
          "text": [
            "400000개의 Embedding vector가 있습니다.\n"
          ]
        }
      ],
      "source": [
        "embedding_dict = dict()\n",
        "f = open(os.path.join('glove.6B.100d.txt'), encoding='utf-8')\n",
        "for line in f:\n",
        "    word_vector = line.split()\n",
        "    word = word_vector[0]\n",
        "    word_vector_arr = np.asarray(word_vector[1:], dtype='float32') # 100개의 값을 가지는 array로 변환\n",
        "    embedding_dict[word] = word_vector_arr\n",
        "f.close()\n",
        "\n",
        "print('%s개의 Embedding vector가 있습니다.' % len(embedding_dict))"
      ]
    },
    {
      "cell_type": "code",
      "execution_count": null,
      "metadata": {
        "colab": {
          "base_uri": "https://localhost:8080/"
        },
        "id": "l629k6px1AWL",
        "outputId": "b57f50a9-2ad0-4a17-eaee-8b92cf487a2a"
      },
      "outputs": [
        {
          "name": "stdout",
          "output_type": "stream",
          "text": [
            "[-0.6528   -0.087126  0.069655 -0.5048    0.79019   0.65051   0.37976\n",
            "  0.20751   0.10412   0.95853   0.32161   0.36098  -0.21461  -0.59657\n",
            "  0.362    -0.3951   -0.58838   0.324     1.0287    0.4569   -0.24372\n",
            " -0.26496   0.1975   -0.78302   0.17163  -0.076737  0.83705   0.58432\n",
            "  0.71843   0.57522   0.11688   0.011023 -0.53676   0.73441   0.09844\n",
            "  0.8927   -0.211     0.015395 -0.2928   -1.3875    1.0756    0.13387\n",
            "  0.20341   0.86427  -0.096482 -0.06536  -0.52669  -0.36076   0.76218\n",
            "  0.3854   -0.39054   0.014445  0.20772   0.41165  -0.16024  -0.66007\n",
            "  0.13666  -0.34246   0.4382    0.49848   0.31481  -0.13102  -0.17373\n",
            "  0.061581  1.1336   -0.25673  -0.20472  -0.72834   0.38054  -0.35237\n",
            "  0.033096  0.43066  -0.36101  -0.096088 -0.15556  -0.028297  0.32882\n",
            "  0.019752  0.5847   -0.12215  -0.53096  -0.53096   0.25334  -0.13078\n",
            " -0.058533  0.40602  -0.23493   0.048578 -0.34938   1.0172   -0.44\n",
            "  1.2431   -0.32026  -0.22517  -0.079004 -0.3919    0.18961  -0.42287\n",
            " -0.028161  0.92989 ]\n",
            "100\n"
          ]
        }
      ],
      "source": [
        "print(embedding_dict['playlist'])\n",
        "print(len(embedding_dict['playlist']))"
      ]
    },
    {
      "cell_type": "code",
      "execution_count": null,
      "metadata": {
        "id": "SzArrQtX1Cfb"
      },
      "outputs": [],
      "source": [
        "embedding_dim = 100\n",
        "embedding_matrix = np.zeros((vocab_size, embedding_dim))"
      ]
    },
    {
      "cell_type": "code",
      "execution_count": null,
      "metadata": {
        "colab": {
          "base_uri": "https://localhost:8080/"
        },
        "id": "S-4geR041D5h",
        "outputId": "ffcbb168-c4a8-4910-e75a-45c81888538b"
      },
      "outputs": [
        {
          "data": {
            "text/plain": [
              "(9870, 100)"
            ]
          },
          "execution_count": 22,
          "metadata": {},
          "output_type": "execute_result"
        }
      ],
      "source": [
        "np.shape(embedding_matrix)"
      ]
    },
    {
      "cell_type": "code",
      "execution_count": null,
      "metadata": {
        "id": "vUDNQwUL1Gtx"
      },
      "outputs": [],
      "source": [
        "for word, i in word_index.items():\n",
        "    embedding_vector = embedding_dict.get(word)\n",
        "    if embedding_vector is not None:\n",
        "        embedding_matrix[i] = embedding_vector"
      ]
    },
    {
      "cell_type": "code",
      "execution_count": null,
      "metadata": {
        "id": "lQ62ETUE1I0p"
      },
      "outputs": [],
      "source": [
        "from tensorflow.keras.models import Model\n",
        "from tensorflow.keras.layers import Embedding, Dropout, Conv1D, GlobalMaxPooling1D, Dense, Input, Flatten, Concatenate"
      ]
    },
    {
      "cell_type": "code",
      "execution_count": null,
      "metadata": {
        "id": "egpP7QWt1Kng"
      },
      "outputs": [],
      "source": [
        "filter_sizes = [2,3,5]\n",
        "num_filters = 512\n",
        "drop = 0.5"
      ]
    },
    {
      "cell_type": "code",
      "execution_count": null,
      "metadata": {
        "colab": {
          "base_uri": "https://localhost:8080/"
        },
        "id": "jiNQ47Jo1OLi",
        "outputId": "7d1948f9-5a20-4a9a-a9d1-f626ae05723c"
      },
      "outputs": [
        {
          "name": "stderr",
          "output_type": "stream",
          "text": [
            "/usr/local/lib/python3.10/dist-packages/keras/src/layers/core/embedding.py:90: UserWarning: Argument `input_length` is deprecated. Just remove it.\n",
            "  warnings.warn(\n"
          ]
        }
      ],
      "source": [
        "model_input = Input(shape = (max_len,))\n",
        "z = Embedding(vocab_size, embedding_dim, weights=[embedding_matrix],\n",
        "                      input_length=max_len, trainable=False)(model_input)\n",
        "\n",
        "conv_blocks = []\n",
        "\n",
        "for sz in filter_sizes:\n",
        "    conv = Conv1D(filters = num_filters,\n",
        "                         kernel_size = sz,\n",
        "                         padding = \"valid\",\n",
        "                         activation = \"relu\",\n",
        "                         strides = 1)(z)\n",
        "    conv = GlobalMaxPooling1D()(conv)\n",
        "    conv = Flatten()(conv)\n",
        "    conv_blocks.append(conv)\n",
        "\n",
        "z = Concatenate()(conv_blocks) if len(conv_blocks) > 1 else conv_blocks[0]\n",
        "z = Dropout(drop)(z)\n",
        "model_output = Dense(len(label_idx), activation='softmax')(z)\n",
        "\n",
        "model = Model(model_input, model_output)\n",
        "\n",
        "model.compile(loss='categorical_crossentropy',\n",
        "              optimizer='adam',\n",
        "              metrics=['acc'])"
      ]
    },
    {
      "cell_type": "code",
      "execution_count": null,
      "metadata": {
        "colab": {
          "base_uri": "https://localhost:8080/",
          "height": 697
        },
        "id": "MHKxwHwL1RjB",
        "outputId": "b7f79b0f-d00c-415a-d402-f950c27008c9"
      },
      "outputs": [
        {
          "data": {
            "text/html": [
              "<pre style=\"white-space:pre;overflow-x:auto;line-height:normal;font-family:Menlo,'DejaVu Sans Mono',consolas,'Courier New',monospace\"><span style=\"font-weight: bold\">Model: \"functional\"</span>\n",
              "</pre>\n"
            ],
            "text/plain": [
              "\u001b[1mModel: \"functional\"\u001b[0m\n"
            ]
          },
          "metadata": {},
          "output_type": "display_data"
        },
        {
          "data": {
            "text/html": [
              "<pre style=\"white-space:pre;overflow-x:auto;line-height:normal;font-family:Menlo,'DejaVu Sans Mono',consolas,'Courier New',monospace\">┏━━━━━━━━━━━━━━━━━━━━━━━━━━━┳━━━━━━━━━━━━━━━━━━━━━━━━┳━━━━━━━━━━━━━━━━┳━━━━━━━━━━━━━━━━━━━━━━━━┓\n",
              "┃<span style=\"font-weight: bold\"> Layer (type)              </span>┃<span style=\"font-weight: bold\"> Output Shape           </span>┃<span style=\"font-weight: bold\">        Param # </span>┃<span style=\"font-weight: bold\"> Connected to           </span>┃\n",
              "┡━━━━━━━━━━━━━━━━━━━━━━━━━━━╇━━━━━━━━━━━━━━━━━━━━━━━━╇━━━━━━━━━━━━━━━━╇━━━━━━━━━━━━━━━━━━━━━━━━┩\n",
              "│ input_layer (<span style=\"color: #0087ff; text-decoration-color: #0087ff\">InputLayer</span>)  │ (<span style=\"color: #00d7ff; text-decoration-color: #00d7ff\">None</span>, <span style=\"color: #00af00; text-decoration-color: #00af00\">35</span>)             │              <span style=\"color: #00af00; text-decoration-color: #00af00\">0</span> │ -                      │\n",
              "├───────────────────────────┼────────────────────────┼────────────────┼────────────────────────┤\n",
              "│ embedding (<span style=\"color: #0087ff; text-decoration-color: #0087ff\">Embedding</span>)     │ (<span style=\"color: #00d7ff; text-decoration-color: #00d7ff\">None</span>, <span style=\"color: #00af00; text-decoration-color: #00af00\">35</span>, <span style=\"color: #00af00; text-decoration-color: #00af00\">100</span>)        │        <span style=\"color: #00af00; text-decoration-color: #00af00\">987,000</span> │ input_layer[<span style=\"color: #00af00; text-decoration-color: #00af00\">0</span>][<span style=\"color: #00af00; text-decoration-color: #00af00\">0</span>]      │\n",
              "├───────────────────────────┼────────────────────────┼────────────────┼────────────────────────┤\n",
              "│ conv1d (<span style=\"color: #0087ff; text-decoration-color: #0087ff\">Conv1D</span>)           │ (<span style=\"color: #00d7ff; text-decoration-color: #00d7ff\">None</span>, <span style=\"color: #00af00; text-decoration-color: #00af00\">34</span>, <span style=\"color: #00af00; text-decoration-color: #00af00\">512</span>)        │        <span style=\"color: #00af00; text-decoration-color: #00af00\">102,912</span> │ embedding[<span style=\"color: #00af00; text-decoration-color: #00af00\">0</span>][<span style=\"color: #00af00; text-decoration-color: #00af00\">0</span>]        │\n",
              "├───────────────────────────┼────────────────────────┼────────────────┼────────────────────────┤\n",
              "│ conv1d_1 (<span style=\"color: #0087ff; text-decoration-color: #0087ff\">Conv1D</span>)         │ (<span style=\"color: #00d7ff; text-decoration-color: #00d7ff\">None</span>, <span style=\"color: #00af00; text-decoration-color: #00af00\">33</span>, <span style=\"color: #00af00; text-decoration-color: #00af00\">512</span>)        │        <span style=\"color: #00af00; text-decoration-color: #00af00\">154,112</span> │ embedding[<span style=\"color: #00af00; text-decoration-color: #00af00\">0</span>][<span style=\"color: #00af00; text-decoration-color: #00af00\">0</span>]        │\n",
              "├───────────────────────────┼────────────────────────┼────────────────┼────────────────────────┤\n",
              "│ conv1d_2 (<span style=\"color: #0087ff; text-decoration-color: #0087ff\">Conv1D</span>)         │ (<span style=\"color: #00d7ff; text-decoration-color: #00d7ff\">None</span>, <span style=\"color: #00af00; text-decoration-color: #00af00\">31</span>, <span style=\"color: #00af00; text-decoration-color: #00af00\">512</span>)        │        <span style=\"color: #00af00; text-decoration-color: #00af00\">256,512</span> │ embedding[<span style=\"color: #00af00; text-decoration-color: #00af00\">0</span>][<span style=\"color: #00af00; text-decoration-color: #00af00\">0</span>]        │\n",
              "├───────────────────────────┼────────────────────────┼────────────────┼────────────────────────┤\n",
              "│ global_max_pooling1d      │ (<span style=\"color: #00d7ff; text-decoration-color: #00d7ff\">None</span>, <span style=\"color: #00af00; text-decoration-color: #00af00\">512</span>)            │              <span style=\"color: #00af00; text-decoration-color: #00af00\">0</span> │ conv1d[<span style=\"color: #00af00; text-decoration-color: #00af00\">0</span>][<span style=\"color: #00af00; text-decoration-color: #00af00\">0</span>]           │\n",
              "│ (<span style=\"color: #0087ff; text-decoration-color: #0087ff\">GlobalMaxPooling1D</span>)      │                        │                │                        │\n",
              "├───────────────────────────┼────────────────────────┼────────────────┼────────────────────────┤\n",
              "│ global_max_pooling1d_1    │ (<span style=\"color: #00d7ff; text-decoration-color: #00d7ff\">None</span>, <span style=\"color: #00af00; text-decoration-color: #00af00\">512</span>)            │              <span style=\"color: #00af00; text-decoration-color: #00af00\">0</span> │ conv1d_1[<span style=\"color: #00af00; text-decoration-color: #00af00\">0</span>][<span style=\"color: #00af00; text-decoration-color: #00af00\">0</span>]         │\n",
              "│ (<span style=\"color: #0087ff; text-decoration-color: #0087ff\">GlobalMaxPooling1D</span>)      │                        │                │                        │\n",
              "├───────────────────────────┼────────────────────────┼────────────────┼────────────────────────┤\n",
              "│ global_max_pooling1d_2    │ (<span style=\"color: #00d7ff; text-decoration-color: #00d7ff\">None</span>, <span style=\"color: #00af00; text-decoration-color: #00af00\">512</span>)            │              <span style=\"color: #00af00; text-decoration-color: #00af00\">0</span> │ conv1d_2[<span style=\"color: #00af00; text-decoration-color: #00af00\">0</span>][<span style=\"color: #00af00; text-decoration-color: #00af00\">0</span>]         │\n",
              "│ (<span style=\"color: #0087ff; text-decoration-color: #0087ff\">GlobalMaxPooling1D</span>)      │                        │                │                        │\n",
              "├───────────────────────────┼────────────────────────┼────────────────┼────────────────────────┤\n",
              "│ flatten (<span style=\"color: #0087ff; text-decoration-color: #0087ff\">Flatten</span>)         │ (<span style=\"color: #00d7ff; text-decoration-color: #00d7ff\">None</span>, <span style=\"color: #00af00; text-decoration-color: #00af00\">512</span>)            │              <span style=\"color: #00af00; text-decoration-color: #00af00\">0</span> │ global_max_pooling1d[<span style=\"color: #00af00; text-decoration-color: #00af00\">…</span> │\n",
              "├───────────────────────────┼────────────────────────┼────────────────┼────────────────────────┤\n",
              "│ flatten_1 (<span style=\"color: #0087ff; text-decoration-color: #0087ff\">Flatten</span>)       │ (<span style=\"color: #00d7ff; text-decoration-color: #00d7ff\">None</span>, <span style=\"color: #00af00; text-decoration-color: #00af00\">512</span>)            │              <span style=\"color: #00af00; text-decoration-color: #00af00\">0</span> │ global_max_pooling1d_… │\n",
              "├───────────────────────────┼────────────────────────┼────────────────┼────────────────────────┤\n",
              "│ flatten_2 (<span style=\"color: #0087ff; text-decoration-color: #0087ff\">Flatten</span>)       │ (<span style=\"color: #00d7ff; text-decoration-color: #00d7ff\">None</span>, <span style=\"color: #00af00; text-decoration-color: #00af00\">512</span>)            │              <span style=\"color: #00af00; text-decoration-color: #00af00\">0</span> │ global_max_pooling1d_… │\n",
              "├───────────────────────────┼────────────────────────┼────────────────┼────────────────────────┤\n",
              "│ concatenate (<span style=\"color: #0087ff; text-decoration-color: #0087ff\">Concatenate</span>) │ (<span style=\"color: #00d7ff; text-decoration-color: #00d7ff\">None</span>, <span style=\"color: #00af00; text-decoration-color: #00af00\">1536</span>)           │              <span style=\"color: #00af00; text-decoration-color: #00af00\">0</span> │ flatten[<span style=\"color: #00af00; text-decoration-color: #00af00\">0</span>][<span style=\"color: #00af00; text-decoration-color: #00af00\">0</span>],         │\n",
              "│                           │                        │                │ flatten_1[<span style=\"color: #00af00; text-decoration-color: #00af00\">0</span>][<span style=\"color: #00af00; text-decoration-color: #00af00\">0</span>],       │\n",
              "│                           │                        │                │ flatten_2[<span style=\"color: #00af00; text-decoration-color: #00af00\">0</span>][<span style=\"color: #00af00; text-decoration-color: #00af00\">0</span>]        │\n",
              "├───────────────────────────┼────────────────────────┼────────────────┼────────────────────────┤\n",
              "│ dropout (<span style=\"color: #0087ff; text-decoration-color: #0087ff\">Dropout</span>)         │ (<span style=\"color: #00d7ff; text-decoration-color: #00d7ff\">None</span>, <span style=\"color: #00af00; text-decoration-color: #00af00\">1536</span>)           │              <span style=\"color: #00af00; text-decoration-color: #00af00\">0</span> │ concatenate[<span style=\"color: #00af00; text-decoration-color: #00af00\">0</span>][<span style=\"color: #00af00; text-decoration-color: #00af00\">0</span>]      │\n",
              "├───────────────────────────┼────────────────────────┼────────────────┼────────────────────────┤\n",
              "│ dense (<span style=\"color: #0087ff; text-decoration-color: #0087ff\">Dense</span>)             │ (<span style=\"color: #00d7ff; text-decoration-color: #00d7ff\">None</span>, <span style=\"color: #00af00; text-decoration-color: #00af00\">6</span>)              │          <span style=\"color: #00af00; text-decoration-color: #00af00\">9,222</span> │ dropout[<span style=\"color: #00af00; text-decoration-color: #00af00\">0</span>][<span style=\"color: #00af00; text-decoration-color: #00af00\">0</span>]          │\n",
              "└───────────────────────────┴────────────────────────┴────────────────┴────────────────────────┘\n",
              "</pre>\n"
            ],
            "text/plain": [
              "┏━━━━━━━━━━━━━━━━━━━━━━━━━━━┳━━━━━━━━━━━━━━━━━━━━━━━━┳━━━━━━━━━━━━━━━━┳━━━━━━━━━━━━━━━━━━━━━━━━┓\n",
              "┃\u001b[1m \u001b[0m\u001b[1mLayer (type)             \u001b[0m\u001b[1m \u001b[0m┃\u001b[1m \u001b[0m\u001b[1mOutput Shape          \u001b[0m\u001b[1m \u001b[0m┃\u001b[1m \u001b[0m\u001b[1m       Param #\u001b[0m\u001b[1m \u001b[0m┃\u001b[1m \u001b[0m\u001b[1mConnected to          \u001b[0m\u001b[1m \u001b[0m┃\n",
              "┡━━━━━━━━━━━━━━━━━━━━━━━━━━━╇━━━━━━━━━━━━━━━━━━━━━━━━╇━━━━━━━━━━━━━━━━╇━━━━━━━━━━━━━━━━━━━━━━━━┩\n",
              "│ input_layer (\u001b[38;5;33mInputLayer\u001b[0m)  │ (\u001b[38;5;45mNone\u001b[0m, \u001b[38;5;34m35\u001b[0m)             │              \u001b[38;5;34m0\u001b[0m │ -                      │\n",
              "├───────────────────────────┼────────────────────────┼────────────────┼────────────────────────┤\n",
              "│ embedding (\u001b[38;5;33mEmbedding\u001b[0m)     │ (\u001b[38;5;45mNone\u001b[0m, \u001b[38;5;34m35\u001b[0m, \u001b[38;5;34m100\u001b[0m)        │        \u001b[38;5;34m987,000\u001b[0m │ input_layer[\u001b[38;5;34m0\u001b[0m][\u001b[38;5;34m0\u001b[0m]      │\n",
              "├───────────────────────────┼────────────────────────┼────────────────┼────────────────────────┤\n",
              "│ conv1d (\u001b[38;5;33mConv1D\u001b[0m)           │ (\u001b[38;5;45mNone\u001b[0m, \u001b[38;5;34m34\u001b[0m, \u001b[38;5;34m512\u001b[0m)        │        \u001b[38;5;34m102,912\u001b[0m │ embedding[\u001b[38;5;34m0\u001b[0m][\u001b[38;5;34m0\u001b[0m]        │\n",
              "├───────────────────────────┼────────────────────────┼────────────────┼────────────────────────┤\n",
              "│ conv1d_1 (\u001b[38;5;33mConv1D\u001b[0m)         │ (\u001b[38;5;45mNone\u001b[0m, \u001b[38;5;34m33\u001b[0m, \u001b[38;5;34m512\u001b[0m)        │        \u001b[38;5;34m154,112\u001b[0m │ embedding[\u001b[38;5;34m0\u001b[0m][\u001b[38;5;34m0\u001b[0m]        │\n",
              "├───────────────────────────┼────────────────────────┼────────────────┼────────────────────────┤\n",
              "│ conv1d_2 (\u001b[38;5;33mConv1D\u001b[0m)         │ (\u001b[38;5;45mNone\u001b[0m, \u001b[38;5;34m31\u001b[0m, \u001b[38;5;34m512\u001b[0m)        │        \u001b[38;5;34m256,512\u001b[0m │ embedding[\u001b[38;5;34m0\u001b[0m][\u001b[38;5;34m0\u001b[0m]        │\n",
              "├───────────────────────────┼────────────────────────┼────────────────┼────────────────────────┤\n",
              "│ global_max_pooling1d      │ (\u001b[38;5;45mNone\u001b[0m, \u001b[38;5;34m512\u001b[0m)            │              \u001b[38;5;34m0\u001b[0m │ conv1d[\u001b[38;5;34m0\u001b[0m][\u001b[38;5;34m0\u001b[0m]           │\n",
              "│ (\u001b[38;5;33mGlobalMaxPooling1D\u001b[0m)      │                        │                │                        │\n",
              "├───────────────────────────┼────────────────────────┼────────────────┼────────────────────────┤\n",
              "│ global_max_pooling1d_1    │ (\u001b[38;5;45mNone\u001b[0m, \u001b[38;5;34m512\u001b[0m)            │              \u001b[38;5;34m0\u001b[0m │ conv1d_1[\u001b[38;5;34m0\u001b[0m][\u001b[38;5;34m0\u001b[0m]         │\n",
              "│ (\u001b[38;5;33mGlobalMaxPooling1D\u001b[0m)      │                        │                │                        │\n",
              "├───────────────────────────┼────────────────────────┼────────────────┼────────────────────────┤\n",
              "│ global_max_pooling1d_2    │ (\u001b[38;5;45mNone\u001b[0m, \u001b[38;5;34m512\u001b[0m)            │              \u001b[38;5;34m0\u001b[0m │ conv1d_2[\u001b[38;5;34m0\u001b[0m][\u001b[38;5;34m0\u001b[0m]         │\n",
              "│ (\u001b[38;5;33mGlobalMaxPooling1D\u001b[0m)      │                        │                │                        │\n",
              "├───────────────────────────┼────────────────────────┼────────────────┼────────────────────────┤\n",
              "│ flatten (\u001b[38;5;33mFlatten\u001b[0m)         │ (\u001b[38;5;45mNone\u001b[0m, \u001b[38;5;34m512\u001b[0m)            │              \u001b[38;5;34m0\u001b[0m │ global_max_pooling1d[\u001b[38;5;34m…\u001b[0m │\n",
              "├───────────────────────────┼────────────────────────┼────────────────┼────────────────────────┤\n",
              "│ flatten_1 (\u001b[38;5;33mFlatten\u001b[0m)       │ (\u001b[38;5;45mNone\u001b[0m, \u001b[38;5;34m512\u001b[0m)            │              \u001b[38;5;34m0\u001b[0m │ global_max_pooling1d_… │\n",
              "├───────────────────────────┼────────────────────────┼────────────────┼────────────────────────┤\n",
              "│ flatten_2 (\u001b[38;5;33mFlatten\u001b[0m)       │ (\u001b[38;5;45mNone\u001b[0m, \u001b[38;5;34m512\u001b[0m)            │              \u001b[38;5;34m0\u001b[0m │ global_max_pooling1d_… │\n",
              "├───────────────────────────┼────────────────────────┼────────────────┼────────────────────────┤\n",
              "│ concatenate (\u001b[38;5;33mConcatenate\u001b[0m) │ (\u001b[38;5;45mNone\u001b[0m, \u001b[38;5;34m1536\u001b[0m)           │              \u001b[38;5;34m0\u001b[0m │ flatten[\u001b[38;5;34m0\u001b[0m][\u001b[38;5;34m0\u001b[0m],         │\n",
              "│                           │                        │                │ flatten_1[\u001b[38;5;34m0\u001b[0m][\u001b[38;5;34m0\u001b[0m],       │\n",
              "│                           │                        │                │ flatten_2[\u001b[38;5;34m0\u001b[0m][\u001b[38;5;34m0\u001b[0m]        │\n",
              "├───────────────────────────┼────────────────────────┼────────────────┼────────────────────────┤\n",
              "│ dropout (\u001b[38;5;33mDropout\u001b[0m)         │ (\u001b[38;5;45mNone\u001b[0m, \u001b[38;5;34m1536\u001b[0m)           │              \u001b[38;5;34m0\u001b[0m │ concatenate[\u001b[38;5;34m0\u001b[0m][\u001b[38;5;34m0\u001b[0m]      │\n",
              "├───────────────────────────┼────────────────────────┼────────────────┼────────────────────────┤\n",
              "│ dense (\u001b[38;5;33mDense\u001b[0m)             │ (\u001b[38;5;45mNone\u001b[0m, \u001b[38;5;34m6\u001b[0m)              │          \u001b[38;5;34m9,222\u001b[0m │ dropout[\u001b[38;5;34m0\u001b[0m][\u001b[38;5;34m0\u001b[0m]          │\n",
              "└───────────────────────────┴────────────────────────┴────────────────┴────────────────────────┘\n"
            ]
          },
          "metadata": {},
          "output_type": "display_data"
        },
        {
          "data": {
            "text/html": [
              "<pre style=\"white-space:pre;overflow-x:auto;line-height:normal;font-family:Menlo,'DejaVu Sans Mono',consolas,'Courier New',monospace\"><span style=\"font-weight: bold\"> Total params: </span><span style=\"color: #00af00; text-decoration-color: #00af00\">1,509,758</span> (5.76 MB)\n",
              "</pre>\n"
            ],
            "text/plain": [
              "\u001b[1m Total params: \u001b[0m\u001b[38;5;34m1,509,758\u001b[0m (5.76 MB)\n"
            ]
          },
          "metadata": {},
          "output_type": "display_data"
        },
        {
          "data": {
            "text/html": [
              "<pre style=\"white-space:pre;overflow-x:auto;line-height:normal;font-family:Menlo,'DejaVu Sans Mono',consolas,'Courier New',monospace\"><span style=\"font-weight: bold\"> Trainable params: </span><span style=\"color: #00af00; text-decoration-color: #00af00\">522,758</span> (1.99 MB)\n",
              "</pre>\n"
            ],
            "text/plain": [
              "\u001b[1m Trainable params: \u001b[0m\u001b[38;5;34m522,758\u001b[0m (1.99 MB)\n"
            ]
          },
          "metadata": {},
          "output_type": "display_data"
        },
        {
          "data": {
            "text/html": [
              "<pre style=\"white-space:pre;overflow-x:auto;line-height:normal;font-family:Menlo,'DejaVu Sans Mono',consolas,'Courier New',monospace\"><span style=\"font-weight: bold\"> Non-trainable params: </span><span style=\"color: #00af00; text-decoration-color: #00af00\">987,000</span> (3.77 MB)\n",
              "</pre>\n"
            ],
            "text/plain": [
              "\u001b[1m Non-trainable params: \u001b[0m\u001b[38;5;34m987,000\u001b[0m (3.77 MB)\n"
            ]
          },
          "metadata": {},
          "output_type": "display_data"
        }
      ],
      "source": [
        "model.summary()"
      ]
    },
    {
      "cell_type": "code",
      "execution_count": null,
      "metadata": {
        "colab": {
          "background_save": true,
          "base_uri": "https://localhost:8080/"
        },
        "id": "OOV3j8es1VNy",
        "outputId": "92fd658a-f810-49a3-c209-e2dde51281c5"
      },
      "outputs": [
        {
          "name": "stdout",
          "output_type": "stream",
          "text": [
            "Epoch 1/50\n",
            "\u001b[1m166/166\u001b[0m \u001b[32m━━━━━━━━━━━━━━━━━━━━\u001b[0m\u001b[37m\u001b[0m \u001b[1m28s\u001b[0m 147ms/step - acc: 0.8605 - loss: 0.4221 - val_acc: 0.9771 - val_loss: 0.0686\n",
            "Epoch 2/50\n",
            "\u001b[1m166/166\u001b[0m \u001b[32m━━━━━━━━━━━━━━━━━━━━\u001b[0m\u001b[37m\u001b[0m \u001b[1m43s\u001b[0m 160ms/step - acc: 0.9854 - loss: 0.0562 - val_acc: 0.9830 - val_loss: 0.0519\n",
            "Epoch 3/50\n",
            "\u001b[1m166/166\u001b[0m \u001b[32m━━━━━━━━━━━━━━━━━━━━\u001b[0m\u001b[37m\u001b[0m \u001b[1m37s\u001b[0m 136ms/step - acc: 0.9942 - loss: 0.0254 - val_acc: 0.9839 - val_loss: 0.0505\n",
            "Epoch 4/50\n",
            "\u001b[1m166/166\u001b[0m \u001b[32m━━━━━━━━━━━━━━━━━━━━\u001b[0m\u001b[37m\u001b[0m \u001b[1m46s\u001b[0m 167ms/step - acc: 0.9939 - loss: 0.0204 - val_acc: 0.9847 - val_loss: 0.0507\n",
            "Epoch 5/50\n",
            "\u001b[1m166/166\u001b[0m \u001b[32m━━━━━━━━━━━━━━━━━━━━\u001b[0m\u001b[37m\u001b[0m \u001b[1m24s\u001b[0m 147ms/step - acc: 0.9978 - loss: 0.0109 - val_acc: 0.9864 - val_loss: 0.0555\n",
            "Epoch 6/50\n",
            "\u001b[1m166/166\u001b[0m \u001b[32m━━━━━━━━━━━━━━━━━━━━\u001b[0m\u001b[37m\u001b[0m \u001b[1m44s\u001b[0m 168ms/step - acc: 0.9985 - loss: 0.0087 - val_acc: 0.9830 - val_loss: 0.0580\n",
            "Epoch 7/50\n",
            "\u001b[1m166/166\u001b[0m \u001b[32m━━━━━━━━━━━━━━━━━━━━\u001b[0m\u001b[37m\u001b[0m \u001b[1m38s\u001b[0m 148ms/step - acc: 0.9982 - loss: 0.0076 - val_acc: 0.9856 - val_loss: 0.0517\n",
            "Epoch 8/50\n",
            "\u001b[1m166/166\u001b[0m \u001b[32m━━━━━━━━━━━━━━━━━━━━\u001b[0m\u001b[37m\u001b[0m \u001b[1m44s\u001b[0m 167ms/step - acc: 0.9991 - loss: 0.0048 - val_acc: 0.9839 - val_loss: 0.0599\n",
            "Epoch 9/50\n",
            "\u001b[1m166/166\u001b[0m \u001b[32m━━━━━━━━━━━━━━━━━━━━\u001b[0m\u001b[37m\u001b[0m \u001b[1m38s\u001b[0m 147ms/step - acc: 0.9978 - loss: 0.0088 - val_acc: 0.9847 - val_loss: 0.0592\n",
            "Epoch 10/50\n",
            "\u001b[1m166/166\u001b[0m \u001b[32m━━━━━━━━━━━━━━━━━━━━\u001b[0m\u001b[37m\u001b[0m \u001b[1m40s\u001b[0m 141ms/step - acc: 0.9977 - loss: 0.0073 - val_acc: 0.9847 - val_loss: 0.0600\n",
            "Epoch 11/50\n",
            "\u001b[1m166/166\u001b[0m \u001b[32m━━━━━━━━━━━━━━━━━━━━\u001b[0m\u001b[37m\u001b[0m \u001b[1m23s\u001b[0m 141ms/step - acc: 0.9985 - loss: 0.0056 - val_acc: 0.9847 - val_loss: 0.0677\n",
            "Epoch 12/50\n",
            "\u001b[1m166/166\u001b[0m \u001b[32m━━━━━━━━━━━━━━━━━━━━\u001b[0m\u001b[37m\u001b[0m \u001b[1m26s\u001b[0m 155ms/step - acc: 0.9980 - loss: 0.0041 - val_acc: 0.9856 - val_loss: 0.0599\n",
            "Epoch 13/50\n",
            "\u001b[1m166/166\u001b[0m \u001b[32m━━━━━━━━━━━━━━━━━━━━\u001b[0m\u001b[37m\u001b[0m \u001b[1m38s\u001b[0m 136ms/step - acc: 0.9977 - loss: 0.0064 - val_acc: 0.9864 - val_loss: 0.0670\n",
            "Epoch 14/50\n",
            "\u001b[1m166/166\u001b[0m \u001b[32m━━━━━━━━━━━━━━━━━━━━\u001b[0m\u001b[37m\u001b[0m \u001b[1m45s\u001b[0m 164ms/step - acc: 0.9967 - loss: 0.0127 - val_acc: 0.9864 - val_loss: 0.0821\n",
            "Epoch 15/50\n",
            "\u001b[1m166/166\u001b[0m \u001b[32m━━━━━━━━━━━━━━━━━━━━\u001b[0m\u001b[37m\u001b[0m \u001b[1m30s\u001b[0m 180ms/step - acc: 0.9973 - loss: 0.0075 - val_acc: 0.9864 - val_loss: 0.0643\n",
            "Epoch 16/50\n",
            "\u001b[1m166/166\u001b[0m \u001b[32m━━━━━━━━━━━━━━━━━━━━\u001b[0m\u001b[37m\u001b[0m \u001b[1m24s\u001b[0m 143ms/step - acc: 0.9990 - loss: 0.0039 - val_acc: 0.9873 - val_loss: 0.0632\n",
            "Epoch 17/50\n",
            "\u001b[1m166/166\u001b[0m \u001b[32m━━━━━━━━━━━━━━━━━━━━\u001b[0m\u001b[37m\u001b[0m \u001b[1m43s\u001b[0m 158ms/step - acc: 0.9985 - loss: 0.0048 - val_acc: 0.9839 - val_loss: 0.0891\n",
            "Epoch 18/50\n",
            "\u001b[1m166/166\u001b[0m \u001b[32m━━━━━━━━━━━━━━━━━━━━\u001b[0m\u001b[37m\u001b[0m \u001b[1m28s\u001b[0m 167ms/step - acc: 0.9973 - loss: 0.0085 - val_acc: 0.9830 - val_loss: 0.0820\n",
            "Epoch 19/50\n",
            "\u001b[1m166/166\u001b[0m \u001b[32m━━━━━━━━━━━━━━━━━━━━\u001b[0m\u001b[37m\u001b[0m \u001b[1m25s\u001b[0m 153ms/step - acc: 0.9971 - loss: 0.0087 - val_acc: 0.9864 - val_loss: 0.0948\n",
            "Epoch 20/50\n",
            "\u001b[1m166/166\u001b[0m \u001b[32m━━━━━━━━━━━━━━━━━━━━\u001b[0m\u001b[37m\u001b[0m \u001b[1m23s\u001b[0m 140ms/step - acc: 0.9961 - loss: 0.0111 - val_acc: 0.9813 - val_loss: 0.1034\n",
            "Epoch 21/50\n",
            "\u001b[1m166/166\u001b[0m \u001b[32m━━━━━━━━━━━━━━━━━━━━\u001b[0m\u001b[37m\u001b[0m \u001b[1m45s\u001b[0m 165ms/step - acc: 0.9984 - loss: 0.0055 - val_acc: 0.9839 - val_loss: 0.1033\n",
            "Epoch 22/50\n",
            "\u001b[1m166/166\u001b[0m \u001b[32m━━━━━━━━━━━━━━━━━━━━\u001b[0m\u001b[37m\u001b[0m \u001b[1m37s\u001b[0m 144ms/step - acc: 0.9961 - loss: 0.0113 - val_acc: 0.9847 - val_loss: 0.0918\n",
            "Epoch 23/50\n",
            "\u001b[1m166/166\u001b[0m \u001b[32m━━━━━━━━━━━━━━━━━━━━\u001b[0m\u001b[37m\u001b[0m \u001b[1m43s\u001b[0m 156ms/step - acc: 0.9972 - loss: 0.0069 - val_acc: 0.9864 - val_loss: 0.0948\n",
            "Epoch 24/50\n",
            "\u001b[1m166/166\u001b[0m \u001b[32m━━━━━━━━━━━━━━━━━━━━\u001b[0m\u001b[37m\u001b[0m \u001b[1m43s\u001b[0m 167ms/step - acc: 0.9980 - loss: 0.0050 - val_acc: 0.9839 - val_loss: 0.0969\n",
            "Epoch 25/50\n",
            "\u001b[1m166/166\u001b[0m \u001b[32m━━━━━━━━━━━━━━━━━━━━\u001b[0m\u001b[37m\u001b[0m \u001b[1m36s\u001b[0m 137ms/step - acc: 0.9982 - loss: 0.0050 - val_acc: 0.9864 - val_loss: 0.0981\n",
            "Epoch 26/50\n",
            "\u001b[1m166/166\u001b[0m \u001b[32m━━━━━━━━━━━━━━━━━━━━\u001b[0m\u001b[37m\u001b[0m \u001b[1m48s\u001b[0m 180ms/step - acc: 0.9981 - loss: 0.0058 - val_acc: 0.9881 - val_loss: 0.0904\n",
            "Epoch 27/50\n",
            "\u001b[1m166/166\u001b[0m \u001b[32m━━━━━━━━━━━━━━━━━━━━\u001b[0m\u001b[37m\u001b[0m \u001b[1m27s\u001b[0m 163ms/step - acc: 0.9986 - loss: 0.0046 - val_acc: 0.9873 - val_loss: 0.0987\n",
            "Epoch 28/50\n",
            "\u001b[1m166/166\u001b[0m \u001b[32m━━━━━━━━━━━━━━━━━━━━\u001b[0m\u001b[37m\u001b[0m \u001b[1m44s\u001b[0m 183ms/step - acc: 0.9986 - loss: 0.0038 - val_acc: 0.9881 - val_loss: 0.0890\n",
            "Epoch 29/50\n",
            "\u001b[1m166/166\u001b[0m \u001b[32m━━━━━━━━━━━━━━━━━━━━\u001b[0m\u001b[37m\u001b[0m \u001b[1m28s\u001b[0m 168ms/step - acc: 0.9980 - loss: 0.0042 - val_acc: 0.9890 - val_loss: 0.0940\n",
            "Epoch 30/50\n",
            "\u001b[1m166/166\u001b[0m \u001b[32m━━━━━━━━━━━━━━━━━━━━\u001b[0m\u001b[37m\u001b[0m \u001b[1m44s\u001b[0m 185ms/step - acc: 0.9992 - loss: 0.0028 - val_acc: 0.9873 - val_loss: 0.1008\n",
            "Epoch 31/50\n",
            "\u001b[1m166/166\u001b[0m \u001b[32m━━━━━━━━━━━━━━━━━━━━\u001b[0m\u001b[37m\u001b[0m \u001b[1m37s\u001b[0m 161ms/step - acc: 0.9995 - loss: 0.0014 - val_acc: 0.9847 - val_loss: 0.1286\n",
            "Epoch 32/50\n",
            "\u001b[1m166/166\u001b[0m \u001b[32m━━━━━━━━━━━━━━━━━━━━\u001b[0m\u001b[37m\u001b[0m \u001b[1m40s\u001b[0m 158ms/step - acc: 0.9992 - loss: 0.0026 - val_acc: 0.9873 - val_loss: 0.1043\n",
            "Epoch 33/50\n",
            "\u001b[1m166/166\u001b[0m \u001b[32m━━━━━━━━━━━━━━━━━━━━\u001b[0m\u001b[37m\u001b[0m \u001b[1m45s\u001b[0m 184ms/step - acc: 0.9987 - loss: 0.0026 - val_acc: 0.9847 - val_loss: 0.0999\n",
            "Epoch 34/50\n",
            "\u001b[1m166/166\u001b[0m \u001b[32m━━━━━━━━━━━━━━━━━━━━\u001b[0m\u001b[37m\u001b[0m \u001b[1m38s\u001b[0m 167ms/step - acc: 0.9985 - loss: 0.0036 - val_acc: 0.9813 - val_loss: 0.1338\n",
            "Epoch 35/50\n",
            "\u001b[1m166/166\u001b[0m \u001b[32m━━━━━━━━━━━━━━━━━━━━\u001b[0m\u001b[37m\u001b[0m \u001b[1m31s\u001b[0m 188ms/step - acc: 0.9973 - loss: 0.0088 - val_acc: 0.9779 - val_loss: 0.1813\n",
            "Epoch 36/50\n",
            "\u001b[1m166/166\u001b[0m \u001b[32m━━━━━━━━━━━━━━━━━━━━\u001b[0m\u001b[37m\u001b[0m \u001b[1m39s\u001b[0m 176ms/step - acc: 0.9956 - loss: 0.0143 - val_acc: 0.9864 - val_loss: 0.1177\n",
            "Epoch 37/50\n",
            "\u001b[1m166/166\u001b[0m \u001b[32m━━━━━━━━━━━━━━━━━━━━\u001b[0m\u001b[37m\u001b[0m \u001b[1m37s\u001b[0m 154ms/step - acc: 0.9978 - loss: 0.0121 - val_acc: 0.9847 - val_loss: 0.1269\n",
            "Epoch 38/50\n",
            "\u001b[1m166/166\u001b[0m \u001b[32m━━━━━━━━━━━━━━━━━━━━\u001b[0m\u001b[37m\u001b[0m \u001b[1m42s\u001b[0m 161ms/step - acc: 0.9975 - loss: 0.0106 - val_acc: 0.9847 - val_loss: 0.1341\n",
            "Epoch 39/50\n",
            "\u001b[1m166/166\u001b[0m \u001b[32m━━━━━━━━━━━━━━━━━━━━\u001b[0m\u001b[37m\u001b[0m \u001b[1m26s\u001b[0m 157ms/step - acc: 0.9980 - loss: 0.0055 - val_acc: 0.9847 - val_loss: 0.1412\n",
            "Epoch 40/50\n",
            "\u001b[1m166/166\u001b[0m \u001b[32m━━━━━━━━━━━━━━━━━━━━\u001b[0m\u001b[37m\u001b[0m \u001b[1m47s\u001b[0m 193ms/step - acc: 0.9973 - loss: 0.0101 - val_acc: 0.9847 - val_loss: 0.1440\n",
            "Epoch 41/50\n",
            "\u001b[1m166/166\u001b[0m \u001b[32m━━━━━━━━━━━━━━━━━━━━\u001b[0m\u001b[37m\u001b[0m \u001b[1m39s\u001b[0m 183ms/step - acc: 0.9985 - loss: 0.0069 - val_acc: 0.9856 - val_loss: 0.1458\n",
            "Epoch 42/50\n",
            "\u001b[1m166/166\u001b[0m \u001b[32m━━━━━━━━━━━━━━━━━━━━\u001b[0m\u001b[37m\u001b[0m \u001b[1m38s\u001b[0m 161ms/step - acc: 0.9987 - loss: 0.0038 - val_acc: 0.9856 - val_loss: 0.1504\n",
            "Epoch 43/50\n",
            "\u001b[1m166/166\u001b[0m \u001b[32m━━━━━━━━━━━━━━━━━━━━\u001b[0m\u001b[37m\u001b[0m \u001b[1m38s\u001b[0m 146ms/step - acc: 0.9995 - loss: 0.0027 - val_acc: 0.9873 - val_loss: 0.1426\n",
            "Epoch 44/50\n",
            "\u001b[1m166/166\u001b[0m \u001b[32m━━━━━━━━━━━━━━━━━━━━\u001b[0m\u001b[37m\u001b[0m \u001b[1m25s\u001b[0m 149ms/step - acc: 0.9993 - loss: 0.0025 - val_acc: 0.9830 - val_loss: 0.1590\n",
            "Epoch 45/50\n",
            "\u001b[1m166/166\u001b[0m \u001b[32m━━━━━━━━━━━━━━━━━━━━\u001b[0m\u001b[37m\u001b[0m \u001b[1m29s\u001b[0m 177ms/step - acc: 0.9980 - loss: 0.0057 - val_acc: 0.9873 - val_loss: 0.1401\n",
            "Epoch 46/50\n",
            "\u001b[1m166/166\u001b[0m \u001b[32m━━━━━━━━━━━━━━━━━━━━\u001b[0m\u001b[37m\u001b[0m \u001b[1m36s\u001b[0m 150ms/step - acc: 0.9973 - loss: 0.0105 - val_acc: 0.9890 - val_loss: 0.1461\n",
            "Epoch 47/50\n",
            "\u001b[1m166/166\u001b[0m \u001b[32m━━━━━━━━━━━━━━━━━━━━\u001b[0m\u001b[37m\u001b[0m \u001b[1m42s\u001b[0m 159ms/step - acc: 0.9994 - loss: 0.0019 - val_acc: 0.9873 - val_loss: 0.1427\n",
            "Epoch 48/50\n",
            "\u001b[1m166/166\u001b[0m \u001b[32m━━━━━━━━━━━━━━━━━━━━\u001b[0m\u001b[37m\u001b[0m \u001b[1m45s\u001b[0m 186ms/step - acc: 0.9982 - loss: 0.0067 - val_acc: 0.9890 - val_loss: 0.1474\n",
            "Epoch 49/50\n",
            "\u001b[1m166/166\u001b[0m \u001b[32m━━━━━━━━━━━━━━━━━━━━\u001b[0m\u001b[37m\u001b[0m \u001b[1m29s\u001b[0m 174ms/step - acc: 0.9980 - loss: 0.0085 - val_acc: 0.9873 - val_loss: 0.1550\n",
            "Epoch 50/50\n",
            "\u001b[1m166/166\u001b[0m \u001b[32m━━━━━━━━━━━━━━━━━━━━\u001b[0m\u001b[37m\u001b[0m \u001b[1m26s\u001b[0m 156ms/step - acc: 0.9995 - loss: 0.0026 - val_acc: 0.9881 - val_loss: 0.1374\n"
          ]
        }
      ],
      "source": [
        "history = model.fit(X_train, y_train,\n",
        "          batch_size=64,\n",
        "          epochs=50,\n",
        "          validation_data = (X_val, y_val))"
      ]
    },
    {
      "cell_type": "code",
      "execution_count": null,
      "metadata": {
        "colab": {
          "background_save": true,
          "base_uri": "https://localhost:8080/",
          "height": 927
        },
        "id": "KQ_9Q6Ox1XVv",
        "outputId": "9972b0bd-e75c-4140-ada8-c905737fe72a"
      },
      "outputs": [
        {
          "data": {
            "image/png": "[encoded data removed]",
            "text/plain": [
              "<Figure size 640x480 with 1 Axes>"
            ]
          },
          "metadata": {},
          "output_type": "display_data"
        },
        {
          "data": {
            "image/png": "[encoded data removed]",
            "text/plain": [
              "<Figure size 640x480 with 1 Axes>"
            ]
          },
          "metadata": {},
          "output_type": "display_data"
        }
      ],
      "source": [
        "epochs = range(1, len(history.history['acc']) + 1)\n",
        "plt.plot(epochs, history.history['acc'])\n",
        "plt.plot(epochs, history.history['val_acc'])\n",
        "plt.title('model accuracy')\n",
        "plt.ylabel('accuracy')\n",
        "plt.xlabel('epochs')\n",
        "plt.legend(['train', 'test'], loc='lower right')\n",
        "plt.show()\n",
        "\n",
        "epochs = range(1, len(history.history['loss']) + 1)\n",
        "plt.plot(epochs, history.history['loss'])\n",
        "plt.plot(epochs, history.history['val_loss'])\n",
        "plt.title('model loss')\n",
        "plt.ylabel('loss')\n",
        "plt.xlabel('epochs')\n",
        "plt.legend(['train', 'test'], loc='upper right')\n",
        "plt.show()"
      ]
    },
    {
      "cell_type": "code",
      "execution_count": null,
      "metadata": {
        "colab": {
          "background_save": true
        },
        "id": "iGkFjoP31cAC"
      },
      "outputs": [],
      "source": [
        "X_test = tokenizer.texts_to_sequences(X_test)\n",
        "X_test = pad_sequences(X_test, maxlen=max_len)"
      ]
    },
    {
      "cell_type": "code",
      "execution_count": null,
      "metadata": {
        "colab": {
          "background_save": true,
          "base_uri": "https://localhost:8080/"
        },
        "id": "JP9jzAyN1dRm",
        "outputId": "f02ba3c9-0e5a-442b-9049-33ed47b6c2d0"
      },
      "outputs": [
        {
          "name": "stdout",
          "output_type": "stream",
          "text": [
            "\u001b[1m19/19\u001b[0m \u001b[32m━━━━━━━━━━━━━━━━━━━━\u001b[0m\u001b[37m\u001b[0m \u001b[1m1s\u001b[0m 30ms/step\n"
          ]
        }
      ],
      "source": [
        "y_predicted = model.predict(X_test)\n",
        "y_predicted = y_predicted.argmax(axis=-1) # 예측된 정수 시퀀스로 변환"
      ]
    },
    {
      "cell_type": "code",
      "execution_count": null,
      "metadata": {
        "colab": {
          "background_save": true
        },
        "id": "uFLiT3ef1fq7"
      },
      "outputs": [],
      "source": [
        "y_predicted = idx_encode.inverse_transform(y_predicted)\n",
        "y_test = idx_encode.inverse_transform(y_test)"
      ]
    },
    {
      "cell_type": "code",
      "execution_count": null,
      "metadata": {
        "colab": {
          "background_save": true,
          "base_uri": "https://localhost:8080/"
        },
        "id": "xFBDqOJt1h-i",
        "outputId": "b4fd7880-5d05-44e9-bed1-32ffa8a07163"
      },
      "outputs": [
        {
          "name": "stdout",
          "output_type": "stream",
          "text": [
            "accuracy:  0.985\n",
            "Precision, Recall and F1-Score:\n",
            "\n",
            "                       precision    recall  f1-score   support\n",
            "\n",
            "       AddToPlaylist       1.00      1.00      1.00       100\n",
            "      BookRestaurant       0.99      1.00      1.00       100\n",
            "          GetWeather       0.98      0.98      0.98       100\n",
            "            RateBook       1.00      1.00      1.00       100\n",
            "  SearchCreativeWork       0.95      1.00      0.98       100\n",
            "SearchScreeningEvent       0.99      0.93      0.96       100\n",
            "\n",
            "            accuracy                           0.98       600\n",
            "           macro avg       0.99      0.98      0.98       600\n",
            "        weighted avg       0.99      0.98      0.98       600\n",
            "\n"
          ]
        }
      ],
      "source": [
        "print('accuracy: ', sum(y_predicted == y_test) / len(y_test))\n",
        "print(\"Precision, Recall and F1-Score:\\n\\n\", classification_report(y_test, y_predicted))"
      ]
    },
    {
      "cell_type": "markdown",
      "metadata": {
        "id": "SdLDf6KH289I"
      },
      "source": [
        "# Text Preprocessing"
      ]
    },
    {
      "cell_type": "code",
      "execution_count": null,
      "metadata": {
        "colab": {
          "background_save": true
        },
        "id": "VVhjqD2P2_Sz"
      },
      "outputs": [],
      "source": [
        "import os\n",
        "import json\n",
        "import pandas as pd"
      ]
    },
    {
      "cell_type": "code",
      "execution_count": null,
      "metadata": {
        "colab": {
          "background_save": true
        },
        "id": "8Q7lzVYo3Drs"
      },
      "outputs": [],
      "source": [
        "def counting(path):\n",
        "    cnt = 0\n",
        "    data_dir = path\n",
        "\n",
        "    for path in os.listdir(data_dir):\n",
        "        if os.path.isfile(os.path.join(data_dir, path)):\n",
        "            cnt += 1\n",
        "\n",
        "    print(f'데이터 개수 = {cnt}')\n",
        "    return cnt"
      ]
    },
    {
      "cell_type": "code",
      "execution_count": null,
      "metadata": {
        "colab": {
          "background_save": true
        },
        "id": "Oty87br83F1_"
      },
      "outputs": [],
      "source": [
        "target_path = pd.read_csv(\"/content/drive/MyDrive/AICOSS/knu_dataset_csv.csv\", encoding = \"UTF-8\")"
      ]
    },
    {
      "cell_type": "code",
      "execution_count": null,
      "metadata": {
        "colab": {
          "background_save": true,
          "base_uri": "https://localhost:8080/",
          "height": 424
        },
        "id": "7Exd0nTZ3HQ5",
        "outputId": "7b5df9dc-1d9e-4bbd-e387-9ae1ffbbc718"
      },
      "outputs": [
        {
          "data": {
            "application/vnd.google.colaboratory.intrinsic+json": {
              "summary": "{\n  \"name\": \"target_path\",\n  \"rows\": 195,\n  \"fields\": [\n    {\n      \"column\": \"Question\",\n      \"properties\": {\n        \"dtype\": \"string\",\n        \"num_unique_values\": 195,\n        \"samples\": [\n          \"\\uacbd\\ub300\\ub294 \\ucd1d\\uc7a5\\ub2d8 \\ubc11\\uc5d0 \\ub204\\uac00 \\uc788\\uc5b4?\",\n          \"\\uacbd\\ubd81\\ub300 \\uc11c\\ud3ec\\ud130\\uc988\\uc5d0 \\ub300\\ud574 \\uc54c\\ub824\\uc918\",\n          \"\\uacbd\\ubd81\\ub300\\ud559\\uad50\\uc758 \\uc218\\uc5c5 \\ubc29\\uc2dd\\uc774\\ub098 \\uac15\\uc758 \\uc2a4\\ud0c0\\uc77c\\uc740 \\uc5b4\\ub5a4\\uac00\\uc694?\"\n        ],\n        \"semantic_type\": \"\",\n        \"description\": \"\"\n      }\n    },\n    {\n      \"column\": \"Answer\",\n      \"properties\": {\n        \"dtype\": \"string\",\n        \"num_unique_values\": 166,\n        \"samples\": [\n          \"https://www.knu.ac.kr/wbbs/wbbs/contents/index.action?menu_url=edu/school01&menu_idx=38#02\",\n          \"\\ud559\\uae30 \\uc911\\uc5d0\\ub294 \\ud559\\uc220 \\uc138\\ubbf8\\ub098, \\ubb38\\ud654 \\ud589\\uc0ac, \\ub3d9\\uc544\\ub9ac \\ud65c\\ub3d9, \\uc2a4\\ud3ec\\uce20 \\uacbd\\uae30 \\ub4f1 \\ub2e4\\uc591\\ud55c \\ucea0\\ud37c\\uc2a4 \\ub0b4 \\ud65c\\ub3d9\\uc774 \\uc9c4\\ud589\\ub429\\ub2c8\\ub2e4. \\ud559\\uc0dd\\ud68c\\ub098 \\uac01\\uc885 \\ub3d9\\uc544\\ub9ac\\uc5d0\\uc11c \\uc8fc\\ucd5c\\ud558\\ub294 \\uc774\\ubca4\\ud2b8\\uc5d0 \\ucc38\\uc5ec\\ud560 \\uc218 \\uc788\\uc2b5\\ub2c8\\ub2e4.\",\n          \"1. https://www.knu.ac.kr/wbbs/wbbs/contents/index.action?menu_url=edu/academic03_01_07&menu_idx= 2. \\ubc29\\ubb38(\\ucc3d\\uad6c)\\ubc1c\\uae09 1. \\ubc1c\\uae09\\uc7a5\\uc18c : \\ud559\\uc0ac\\uacfc(\\uc790\\ub3d9\\ubc1c\\uae09\\uae30) 2. \\ubc1c\\uae09\\ubc29\\ubc95 1. \\uc704\\uc784\\uc7a5 \\uc591\\uc2dd\\uc744 \\ub2e4\\uc6b4\\ubc1b\\uc740 \\ud6c4 \\uc791\\uc131 2. \\ucc3d\\uad6c\\ubc1c\\uae09 : \\ud559\\uc0ac\\uacfc \\ubc29\\ubb38 \\u203b\\u203284\\ub144 \\uc774\\uc804 \\uc878\\uc5c5\\uc790\\uc758 \\uc131\\uc801\\uc99d\\uba85 \\ubc0f \\ud559\\uc801\\ubd80 \\uc0ac\\ubcf8 3. \\uc790\\ub3d9\\ubc1c\\uae09\\uae30 \\ubc1c\\uae09: \\ucca8\\uc131\\uc778\\ubbf8\\ub798\\uad00 \\uc785\\uad6c \\uc704\\uce58(24\\uc2dc\\uac04) 3. \\uc18c\\uc694\\uc2dc\\uac04 : \\uc989\\uc2dc \\ubc1c\\uae09 3. \\ud329\\uc2a4\\ubbfc\\uc6d0\\ubc1c\\uae09 1. \\ubc1c\\uae09\\uc7a5\\uc18c : \\uad6d\\ub0b4 \\uc790\\uce58\\ub2e8\\uccb4 \\uae30\\uad00 (\\uc2dc, \\uad70, \\uad6c, \\uc74d, \\uba74, \\ub3d9 \\ud589\\uc815\\ubcf5\\uc9c0\\uc13c\\ud130) 2. \\ubc1c\\uae09\\ubc29\\ubc95 : \\uc704\\uc758 \\ubc1c\\uae09\\uc7a5\\uc18c \\ubc29\\ubb38 \\u2192 \\ud329\\uc2a4 \\ubcf5\\uc0ac\\ubcf8\\uc73c\\ub85c \\uc790\\uce58 \\ub2e8\\uccb4\\uae30\\uad00\\uc7a5 \\uba85\\uc758\\ub85c \\uad50\\ubd80 \\ubc1c1. \\u203b \\ud329\\uc2a4\\ubbfc\\uc6d0 \\uc0ac\\uc804 \\uc2e0\\uccad: \\uc778\\ud130\\ub137(\\uc815\\ubd8024-\\ub300\\ud559 \\uc81c\\uc99d\\uba85 \\uc77c\\uad04 \\uc2e0\\uccad)\\uc5d0\\uc11c \\uc2e0\\uccad \\ud6c4 \\uc704\\uc758 \\ubc1c\\uae09\\uae30\\uad00 \\ubc29\\ubb38 3. \\uc18c\\uc694\\uc2dc\\uac04 : 1\\u223c3\\uc2dc\\uac04 \\uc774\\ub0b44. \\uc6b0\\ud3b8\\ubc1c\\uae091. \\ubc1c\\uae09\\uc7a5\\uc18c : \\uc6b0\\ud3b8\\uc218\\uc2e0\\ucc98, \\uc6b0\\uccb4\\uad6d 2. \\ubc1c\\uae09\\ubc29\\ubc95 1. \\uc6b0\\ud3b8\\uc2e0\\uccad : \\ud559\\uad50\\ud648\\ud398\\uc774\\uc9c0-\\ub300\\ud559\\uc0dd\\ud65c/\\ucde8\\uc5c5-\\uc778\\ud130\\ub137\\uc99d\\uba85\\uae09(https://knu.certpia.com/)-\\uad6d\\ub0b4\\uc6b0\\ud3b8 \\ub610\\ub294 \\ud574\\uc678\\uc6b0\\ud3b8\\u00a0 2. \\ubbfc\\uc6d0\\uc6b0\\ud3b8\\uc2e0\\uccad : \\uc6b0\\uccb4\\uad6d\\ubc29\\ubb38 3. \\uc18c\\uc694\\uc2dc\\uac04 : 2~3\\uc77c \\uc774\\ub0b4 5. \\uc778\\ud130\\ub137\\uc99d\\uba85\\ubc1c\\uae09 1. \\ubc1c\\uae09\\uc7a5\\uc18c : \\uac1c\\uc778PC 2. \\ubc1c\\uae09\\ubc29\\ubc95 : \\ud559\\uad50\\ud648\\ud398\\uc774\\uc9c0-\\ub300\\ud559\\uc0dd\\ud65c/\\ucde8\\uc5c5-\\uc778\\ud130\\ub137\\uc99d\\uba85\\ubc1c\\uae09(https://knu.certpia.com/)-\\uc99d\\uba85\\uc11c\\ubc1c\\uae09  3. \\uc18c\\uc694\\uc2dc\\uac04 : \\uc989\\uc2dc \\ubc1c\\uae09\"\n        ],\n        \"semantic_type\": \"\",\n        \"description\": \"\"\n      }\n    }\n  ]\n}",
              "type": "dataframe",
              "variable_name": "target_path"
            },
            "text/html": [
              "\n",
              "  <div id=\"df-a3299047-7d69-44f6-8337-ce17e6bebdbe\" class=\"colab-df-container\">\n",
              "    <div>\n",
              "<style scoped>\n",
              "    .dataframe tbody tr th:only-of-type {\n",
              "        vertical-align: middle;\n",
              "    }\n",
              "\n",
              "    .dataframe tbody tr th {\n",
              "        vertical-align: top;\n",
              "    }\n",
              "\n",
              "    .dataframe thead th {\n",
              "        text-align: right;\n",
              "    }\n",
              "</style>\n",
              "<table border=\"1\" class=\"dataframe\">\n",
              "  <thead>\n",
              "    <tr style=\"text-align: right;\">\n",
              "      <th></th>\n",
              "      <th>Question</th>\n",
              "      <th>Answer</th>\n",
              "    </tr>\n",
              "  </thead>\n",
              "  <tbody>\n",
              "    <tr>\n",
              "      <th>0</th>\n",
              "      <td>치대 학생인데, 장학금을 받고싶어.</td>\n",
              "      <td>https://dent.knu.ac.kr/</td>\n",
              "    </tr>\n",
              "    <tr>\n",
              "      <th>1</th>\n",
              "      <td>의학과 교육과정을 알려줘</td>\n",
              "      <td>https://med.knu.ac.kr/pages/sub.htm?nav_code=k...</td>\n",
              "    </tr>\n",
              "    <tr>\n",
              "      <th>2</th>\n",
              "      <td>컴학 공지사항 알려줘</td>\n",
              "      <td>https://cse.knu.ac.kr/bbs/board.php?bo_table=s...</td>\n",
              "    </tr>\n",
              "    <tr>\n",
              "      <th>3</th>\n",
              "      <td>AIcoss 학생인데 gpu 서버 사용하고 싶어</td>\n",
              "      <td>https://aicoss.knu.ac.kr/gpu/list.do</td>\n",
              "    </tr>\n",
              "    <tr>\n",
              "      <th>4</th>\n",
              "      <td>인컴 교육과정 알려줘</td>\n",
              "      <td>https://cse.knu.ac.kr/sub3_3_b.php</td>\n",
              "    </tr>\n",
              "    <tr>\n",
              "      <th>...</th>\n",
              "      <td>...</td>\n",
              "      <td>...</td>\n",
              "    </tr>\n",
              "    <tr>\n",
              "      <th>190</th>\n",
              "      <td>봉사활동을 가고 싶은데 어캐해야할까</td>\n",
              "      <td>https://volunteer.knu.ac.kr/</td>\n",
              "    </tr>\n",
              "    <tr>\n",
              "      <th>191</th>\n",
              "      <td>수강 신청 하고 싶어</td>\n",
              "      <td>https://sugang.knu.ac.kr/login.knu</td>\n",
              "    </tr>\n",
              "    <tr>\n",
              "      <th>192</th>\n",
              "      <td>비교과 사이트가 궁금해</td>\n",
              "      <td>https://knucube.knu.ac.kr/knucube_index.jsp</td>\n",
              "    </tr>\n",
              "    <tr>\n",
              "      <th>193</th>\n",
              "      <td>예대에 대해 알고 싶어</td>\n",
              "      <td>https://mvarts.knu.ac.kr/</td>\n",
              "    </tr>\n",
              "    <tr>\n",
              "      <th>194</th>\n",
              "      <td>컴학 홍보단이 뭐야?</td>\n",
              "      <td>https://cse.knu.ac.kr/sub6_2.php</td>\n",
              "    </tr>\n",
              "  </tbody>\n",
              "</table>\n",
              "<p>195 rows × 2 columns</p>\n",
              "</div>\n",
              "    <div class=\"colab-df-buttons\">\n",
              "\n",
              "  <div class=\"colab-df-container\">\n",
              "    <button class=\"colab-df-convert\" onclick=\"convertToInteractive('df-a3299047-7d69-44f6-8337-ce17e6bebdbe')\"\n",
              "            title=\"Convert this dataframe to an interactive table.\"\n",
              "            style=\"display:none;\">\n",
              "\n",
              "  <svg xmlns=\"http://www.w3.org/2000/svg\" height=\"24px\" viewBox=\"0 -960 960 960\">\n",
              "    <path d=\"M120-120v-720h720v720H120Zm60-500h600v-160H180v160Zm220 220h160v-160H400v160Zm0 220h160v-160H400v160ZM180-400h160v-160H180v160Zm440 0h160v-160H620v160ZM180-180h160v-160H180v160Zm440 0h160v-160H620v160Z\"/>\n",
              "  </svg>\n",
              "    </button>\n",
              "\n",
              "  <style>\n",
              "    .colab-df-container {\n",
              "      display:flex;\n",
              "      gap: 12px;\n",
              "    }\n",
              "\n",
              "    .colab-df-convert {\n",
              "      background-color: #E8F0FE;\n",
              "      border: none;\n",
              "      border-radius: 50%;\n",
              "      cursor: pointer;\n",
              "      display: none;\n",
              "      fill: #1967D2;\n",
              "      height: 32px;\n",
              "      padding: 0 0 0 0;\n",
              "      width: 32px;\n",
              "    }\n",
              "\n",
              "    .colab-df-convert:hover {\n",
              "      background-color: #E2EBFA;\n",
              "      box-shadow: 0px 1px 2px rgba(60, 64, 67, 0.3), 0px 1px 3px 1px rgba(60, 64, 67, 0.15);\n",
              "      fill: #174EA6;\n",
              "    }\n",
              "\n",
              "    .colab-df-buttons div {\n",
              "      margin-bottom: 4px;\n",
              "    }\n",
              "\n",
              "    [theme=dark] .colab-df-convert {\n",
              "      background-color: #3B4455;\n",
              "      fill: #D2E3FC;\n",
              "    }\n",
              "\n",
              "    [theme=dark] .colab-df-convert:hover {\n",
              "      background-color: #434B5C;\n",
              "      box-shadow: 0px 1px 3px 1px rgba(0, 0, 0, 0.15);\n",
              "      filter: drop-shadow(0px 1px 2px rgba(0, 0, 0, 0.3));\n",
              "      fill: #FFFFFF;\n",
              "    }\n",
              "  </style>\n",
              "\n",
              "    <script>\n",
              "      const buttonEl =\n",
              "        document.querySelector('#df-a3299047-7d69-44f6-8337-ce17e6bebdbe button.colab-df-convert');\n",
              "      buttonEl.style.display =\n",
              "        google.colab.kernel.accessAllowed ? 'block' : 'none';\n",
              "\n",
              "      async function convertToInteractive(key) {\n",
              "        const element = document.querySelector('#df-a3299047-7d69-44f6-8337-ce17e6bebdbe');\n",
              "        const dataTable =\n",
              "          await google.colab.kernel.invokeFunction('convertToInteractive',\n",
              "                                                    [key], {});\n",
              "        if (!dataTable) return;\n",
              "\n",
              "        const docLinkHtml = 'Like what you see? Visit the ' +\n",
              "          '<a target=\"_blank\" href=https://colab.research.google.com/notebooks/data_table.ipynb>data table notebook</a>'\n",
              "          + ' to learn more about interactive tables.';\n",
              "        element.innerHTML = '';\n",
              "        dataTable['output_type'] = 'display_data';\n",
              "        await google.colab.output.renderOutput(dataTable, element);\n",
              "        const docLink = document.createElement('div');\n",
              "        docLink.innerHTML = docLinkHtml;\n",
              "        element.appendChild(docLink);\n",
              "      }\n",
              "    </script>\n",
              "  </div>\n",
              "\n",
              "\n",
              "<div id=\"df-43d54694-ba89-4ba3-bb1b-f09658849aca\">\n",
              "  <button class=\"colab-df-quickchart\" onclick=\"quickchart('df-43d54694-ba89-4ba3-bb1b-f09658849aca')\"\n",
              "            title=\"Suggest charts\"\n",
              "            style=\"display:none;\">\n",
              "\n",
              "<svg xmlns=\"http://www.w3.org/2000/svg\" height=\"24px\"viewBox=\"0 0 24 24\"\n",
              "     width=\"24px\">\n",
              "    <g>\n",
              "        <path d=\"M19 3H5c-1.1 0-2 .9-2 2v14c0 1.1.9 2 2 2h14c1.1 0 2-.9 2-2V5c0-1.1-.9-2-2-2zM9 17H7v-7h2v7zm4 0h-2V7h2v10zm4 0h-2v-4h2v4z\"/>\n",
              "    </g>\n",
              "</svg>\n",
              "  </button>\n",
              "\n",
              "<style>\n",
              "  .colab-df-quickchart {\n",
              "      --bg-color: #E8F0FE;\n",
              "      --fill-color: #1967D2;\n",
              "      --hover-bg-color: #E2EBFA;\n",
              "      --hover-fill-color: #174EA6;\n",
              "      --disabled-fill-color: #AAA;\n",
              "      --disabled-bg-color: #DDD;\n",
              "  }\n",
              "\n",
              "  [theme=dark] .colab-df-quickchart {\n",
              "      --bg-color: #3B4455;\n",
              "      --fill-color: #D2E3FC;\n",
              "      --hover-bg-color: #434B5C;\n",
              "      --hover-fill-color: #FFFFFF;\n",
              "      --disabled-bg-color: #3B4455;\n",
              "      --disabled-fill-color: #666;\n",
              "  }\n",
              "\n",
              "  .colab-df-quickchart {\n",
              "    background-color: var(--bg-color);\n",
              "    border: none;\n",
              "    border-radius: 50%;\n",
              "    cursor: pointer;\n",
              "    display: none;\n",
              "    fill: var(--fill-color);\n",
              "    height: 32px;\n",
              "    padding: 0;\n",
              "    width: 32px;\n",
              "  }\n",
              "\n",
              "  .colab-df-quickchart:hover {\n",
              "    background-color: var(--hover-bg-color);\n",
              "    box-shadow: 0 1px 2px rgba(60, 64, 67, 0.3), 0 1px 3px 1px rgba(60, 64, 67, 0.15);\n",
              "    fill: var(--button-hover-fill-color);\n",
              "  }\n",
              "\n",
              "  .colab-df-quickchart-complete:disabled,\n",
              "  .colab-df-quickchart-complete:disabled:hover {\n",
              "    background-color: var(--disabled-bg-color);\n",
              "    fill: var(--disabled-fill-color);\n",
              "    box-shadow: none;\n",
              "  }\n",
              "\n",
              "  .colab-df-spinner {\n",
              "    border: 2px solid var(--fill-color);\n",
              "    border-color: transparent;\n",
              "    border-bottom-color: var(--fill-color);\n",
              "    animation:\n",
              "      spin 1s steps(1) infinite;\n",
              "  }\n",
              "\n",
              "  @keyframes spin {\n",
              "    0% {\n",
              "      border-color: transparent;\n",
              "      border-bottom-color: var(--fill-color);\n",
              "      border-left-color: var(--fill-color);\n",
              "    }\n",
              "    20% {\n",
              "      border-color: transparent;\n",
              "      border-left-color: var(--fill-color);\n",
              "      border-top-color: var(--fill-color);\n",
              "    }\n",
              "    30% {\n",
              "      border-color: transparent;\n",
              "      border-left-color: var(--fill-color);\n",
              "      border-top-color: var(--fill-color);\n",
              "      border-right-color: var(--fill-color);\n",
              "    }\n",
              "    40% {\n",
              "      border-color: transparent;\n",
              "      border-right-color: var(--fill-color);\n",
              "      border-top-color: var(--fill-color);\n",
              "    }\n",
              "    60% {\n",
              "      border-color: transparent;\n",
              "      border-right-color: var(--fill-color);\n",
              "    }\n",
              "    80% {\n",
              "      border-color: transparent;\n",
              "      border-right-color: var(--fill-color);\n",
              "      border-bottom-color: var(--fill-color);\n",
              "    }\n",
              "    90% {\n",
              "      border-color: transparent;\n",
              "      border-bottom-color: var(--fill-color);\n",
              "    }\n",
              "  }\n",
              "</style>\n",
              "\n",
              "  <script>\n",
              "    async function quickchart(key) {\n",
              "      const quickchartButtonEl =\n",
              "        document.querySelector('#' + key + ' button');\n",
              "      quickchartButtonEl.disabled = true;  // To prevent multiple clicks.\n",
              "      quickchartButtonEl.classList.add('colab-df-spinner');\n",
              "      try {\n",
              "        const charts = await google.colab.kernel.invokeFunction(\n",
              "            'suggestCharts', [key], {});\n",
              "      } catch (error) {\n",
              "        console.error('Error during call to suggestCharts:', error);\n",
              "      }\n",
              "      quickchartButtonEl.classList.remove('colab-df-spinner');\n",
              "      quickchartButtonEl.classList.add('colab-df-quickchart-complete');\n",
              "    }\n",
              "    (() => {\n",
              "      let quickchartButtonEl =\n",
              "        document.querySelector('#df-43d54694-ba89-4ba3-bb1b-f09658849aca button');\n",
              "      quickchartButtonEl.style.display =\n",
              "        google.colab.kernel.accessAllowed ? 'block' : 'none';\n",
              "    })();\n",
              "  </script>\n",
              "</div>\n",
              "\n",
              "  <div id=\"id_ff02aa98-8405-4035-b330-4bcb761adc6d\">\n",
              "    <style>\n",
              "      .colab-df-generate {\n",
              "        background-color: #E8F0FE;\n",
              "        border: none;\n",
              "        border-radius: 50%;\n",
              "        cursor: pointer;\n",
              "        display: none;\n",
              "        fill: #1967D2;\n",
              "        height: 32px;\n",
              "        padding: 0 0 0 0;\n",
              "        width: 32px;\n",
              "      }\n",
              "\n",
              "      .colab-df-generate:hover {\n",
              "        background-color: #E2EBFA;\n",
              "        box-shadow: 0px 1px 2px rgba(60, 64, 67, 0.3), 0px 1px 3px 1px rgba(60, 64, 67, 0.15);\n",
              "        fill: #174EA6;\n",
              "      }\n",
              "\n",
              "      [theme=dark] .colab-df-generate {\n",
              "        background-color: #3B4455;\n",
              "        fill: #D2E3FC;\n",
              "      }\n",
              "\n",
              "      [theme=dark] .colab-df-generate:hover {\n",
              "        background-color: #434B5C;\n",
              "        box-shadow: 0px 1px 3px 1px rgba(0, 0, 0, 0.15);\n",
              "        filter: drop-shadow(0px 1px 2px rgba(0, 0, 0, 0.3));\n",
              "        fill: #FFFFFF;\n",
              "      }\n",
              "    </style>\n",
              "    <button class=\"colab-df-generate\" onclick=\"generateWithVariable('target_path')\"\n",
              "            title=\"Generate code using this dataframe.\"\n",
              "            style=\"display:none;\">\n",
              "\n",
              "  <svg xmlns=\"http://www.w3.org/2000/svg\" height=\"24px\"viewBox=\"0 0 24 24\"\n",
              "       width=\"24px\">\n",
              "    <path d=\"M7,19H8.4L18.45,9,17,7.55,7,17.6ZM5,21V16.75L18.45,3.32a2,2,0,0,1,2.83,0l1.4,1.43a1.91,1.91,0,0,1,.58,1.4,1.91,1.91,0,0,1-.58,1.4L9.25,21ZM18.45,9,17,7.55Zm-12,3A5.31,5.31,0,0,0,4.9,8.1,5.31,5.31,0,0,0,1,6.5,5.31,5.31,0,0,0,4.9,4.9,5.31,5.31,0,0,0,6.5,1,5.31,5.31,0,0,0,8.1,4.9,5.31,5.31,0,0,0,12,6.5,5.46,5.46,0,0,0,6.5,12Z\"/>\n",
              "  </svg>\n",
              "    </button>\n",
              "    <script>\n",
              "      (() => {\n",
              "      const buttonEl =\n",
              "        document.querySelector('#id_ff02aa98-8405-4035-b330-4bcb761adc6d button.colab-df-generate');\n",
              "      buttonEl.style.display =\n",
              "        google.colab.kernel.accessAllowed ? 'block' : 'none';\n",
              "\n",
              "      buttonEl.onclick = () => {\n",
              "        google.colab.notebook.generateWithVariable('target_path');\n",
              "      }\n",
              "      })();\n",
              "    </script>\n",
              "  </div>\n",
              "\n",
              "    </div>\n",
              "  </div>\n"
            ],
            "text/plain": [
              "                       Question  \\\n",
              "0          치대 학생인데, 장학금을 받고싶어.    \n",
              "1                 의학과 교육과정을 알려줘   \n",
              "2                   컴학 공지사항 알려줘   \n",
              "3    AIcoss 학생인데 gpu 서버 사용하고 싶어   \n",
              "4                   인컴 교육과정 알려줘   \n",
              "..                          ...   \n",
              "190         봉사활동을 가고 싶은데 어캐해야할까   \n",
              "191                 수강 신청 하고 싶어   \n",
              "192                비교과 사이트가 궁금해   \n",
              "193                예대에 대해 알고 싶어   \n",
              "194                 컴학 홍보단이 뭐야?   \n",
              "\n",
              "                                                Answer  \n",
              "0                              https://dent.knu.ac.kr/  \n",
              "1    https://med.knu.ac.kr/pages/sub.htm?nav_code=k...  \n",
              "2    https://cse.knu.ac.kr/bbs/board.php?bo_table=s...  \n",
              "3                 https://aicoss.knu.ac.kr/gpu/list.do  \n",
              "4                   https://cse.knu.ac.kr/sub3_3_b.php  \n",
              "..                                                 ...  \n",
              "190                       https://volunteer.knu.ac.kr/  \n",
              "191                 https://sugang.knu.ac.kr/login.knu  \n",
              "192        https://knucube.knu.ac.kr/knucube_index.jsp  \n",
              "193                          https://mvarts.knu.ac.kr/  \n",
              "194                   https://cse.knu.ac.kr/sub6_2.php  \n",
              "\n",
              "[195 rows x 2 columns]"
            ]
          },
          "execution_count": 37,
          "metadata": {},
          "output_type": "execute_result"
        }
      ],
      "source": [
        "target_path"
      ]
    },
    {
      "cell_type": "code",
      "execution_count": null,
      "metadata": {
        "colab": {
          "background_save": true
        },
        "id": "SxW0YtEt3JLR",
        "outputId": "a1765df8-59a7-4a82-9e13-0a46e614b8cc"
      },
      "outputs": [
        {
          "name": "stdout",
          "output_type": "stream",
          "text": [
            "Collecting konlpy\n",
            "  Downloading konlpy-0.6.0-py2.py3-none-any.whl.metadata (1.9 kB)\n",
            "Collecting JPype1>=0.7.0 (from konlpy)\n",
            "  Downloading JPype1-1.5.0-cp310-cp310-manylinux_2_17_x86_64.manylinux2014_x86_64.whl.metadata (4.9 kB)\n",
            "Requirement already satisfied: lxml>=4.1.0 in /usr/local/lib/python3.10/dist-packages (from konlpy) (4.9.4)\n",
            "Requirement already satisfied: numpy>=1.6 in /usr/local/lib/python3.10/dist-packages (from konlpy) (1.26.4)\n",
            "Requirement already satisfied: packaging in /usr/local/lib/python3.10/dist-packages (from JPype1>=0.7.0->konlpy) (24.1)\n",
            "Downloading konlpy-0.6.0-py2.py3-none-any.whl (19.4 MB)\n",
            "\u001b[2K   \u001b[90m━━━━━━━━━━━━━━━━━━━━━━━━━━━━━━━━━━━━━━━━\u001b[0m \u001b[32m19.4/19.4 MB\u001b[0m \u001b[31m26.6 MB/s\u001b[0m eta \u001b[36m0:00:00\u001b[0m\n",
            "\u001b[?25hDownloading JPype1-1.5.0-cp310-cp310-manylinux_2_17_x86_64.manylinux2014_x86_64.whl (488 kB)\n",
            "\u001b[2K   \u001b[90m━━━━━━━━━━━━━━━━━━━━━━━━━━━━━━━━━━━━━━━━\u001b[0m \u001b[32m488.6/488.6 kB\u001b[0m \u001b[31m23.3 MB/s\u001b[0m eta \u001b[36m0:00:00\u001b[0m\n",
            "\u001b[?25hInstalling collected packages: JPype1, konlpy\n",
            "Successfully installed JPype1-1.5.0 konlpy-0.6.0\n"
          ]
        }
      ],
      "source": [
        "!pip install konlpy"
      ]
    },
    {
      "cell_type": "markdown",
      "metadata": {
        "id": "2yYFIu8E3LLN"
      },
      "source": [
        "### 텍스트 전처리"
      ]
    },
    {
      "cell_type": "code",
      "execution_count": null,
      "metadata": {
        "colab": {
          "background_save": true
        },
        "id": "uI4_P1Aw3N3D",
        "outputId": "319260a1-0c7c-4c51-b839-1dddb52d83a4"
      },
      "outputs": [
        {
          "name": "stdout",
          "output_type": "stream",
          "text": [
            "[('컴', 'NNG'), ('학', 'NNG'), ('공지', 'NNP'), ('사항', 'NNG'), ('알리', 'VV'), ('주', 'VX')]\n",
            "['컴', '학', '공지', '사항', '알리', '주']\n"
          ]
        }
      ],
      "source": [
        "from konlpy.tag import Komoran\n",
        "\n",
        "class Preprocess:\n",
        "    def __init__(self, userdic=None):\n",
        "        self.komoran = Komoran(userdic=userdic)\n",
        "\n",
        "        self.exclusion_tags = [\n",
        "            'JKS', 'JKC', 'JKG', 'JKO', 'JKB', 'JKV', 'JKQ',\n",
        "            'JX', 'JC',\n",
        "            'SF', 'SP', 'SS', 'SE', 'SO',\n",
        "            'EP', 'EF', 'EC', 'ETN', 'ETM',\n",
        "            'XSN', 'XSV', 'XSA'\n",
        "        ]\n",
        "\n",
        "    # pos 메서드 정의\n",
        "    def pos(self, sentence):\n",
        "        return self.komoran.pos(sentence)\n",
        "\n",
        "    # get_keywords 메서드 정의\n",
        "    def get_keywords(self, pos, without_tag=False):\n",
        "        word_list = []\n",
        "        for p in pos:\n",
        "            if p[1] not in self.exclusion_tags:\n",
        "                word_list.append(p if not without_tag else p[0])\n",
        "        return word_list\n",
        "\n",
        "# 코드 실행\n",
        "sent = \"컴학 공지사항을 알려줘\"\n",
        "\n",
        "p = Preprocess(userdic=\"/content/drive/MyDrive/AICOSS/knu_dataset_csv.csv.tsv\")\n",
        "\n",
        "# 형태소 분석 실행\n",
        "pos = p.pos(sent)\n",
        "\n",
        "# 태그 포함 키워드 추출\n",
        "ret = p.get_keywords(pos, without_tag=False)\n",
        "print(ret)\n",
        "\n",
        "# 태그 제외 키워드 추출\n",
        "ret = p.get_keywords(pos, without_tag=True)\n",
        "print(ret)\n"
      ]
    },
    {
      "cell_type": "markdown",
      "metadata": {
        "id": "yJP8Jqu33PGo"
      },
      "source": [
        "### 단어 사전 구축"
      ]
    },
    {
      "cell_type": "code",
      "execution_count": null,
      "metadata": {
        "colab": {
          "background_save": true
        },
        "id": "WvwywJBX3Qum",
        "outputId": "763e9c5b-da6f-4924-c881-de0b231a1997"
      },
      "outputs": [
        {
          "name": "stdout",
          "output_type": "stream",
          "text": [
            "Index(['Question', 'Answer'], dtype='object')\n"
          ]
        }
      ],
      "source": [
        "import pandas as pd\n",
        "\n",
        "# CSV 파일을 불러오고 첫 몇 줄과 열 이름을 확인합니다.\n",
        "topic = pd.read_csv(\"/content/drive/MyDrive/AICOSS/knu_dataset_csv.csv\")\n",
        "\n",
        "# 열 이름 출력\n",
        "print(topic.columns)"
      ]
    },
    {
      "cell_type": "code",
      "execution_count": null,
      "metadata": {
        "colab": {
          "background_save": true
        },
        "id": "YWvNWdPB3SWd",
        "outputId": "994711d5-c640-45ec-82fa-cc1f11c278a8"
      },
      "outputs": [
        {
          "name": "stdout",
          "output_type": "stream",
          "text": [
            "사전에 포함된 단어 수: 439\n"
          ]
        }
      ],
      "source": [
        "import pandas as pd\n",
        "from konlpy.tag import Komoran\n",
        "from tensorflow.keras.preprocessing.text import Tokenizer\n",
        "import pickle\n",
        "\n",
        "topic = pd.read_csv(\"/content/drive/MyDrive/AICOSS/knu_dataset_csv.csv\")\n",
        "\n",
        "topic.dropna(inplace=True)\n",
        "\n",
        "text = list(topic['Question'])\n",
        "\n",
        "corpus_data = text\n",
        "\n",
        "p = Preprocess()\n",
        "dict = []\n",
        "for c in corpus_data:\n",
        "  pos = p.pos(c)\n",
        "  for k in pos:\n",
        "    dict.append(k[0])\n",
        "\n",
        "tokenizer = Tokenizer(oov_token='OOV', num_words=100000)\n",
        "tokenizer.fit_on_texts(dict)\n",
        "word_index = tokenizer.word_index\n",
        "print(f\"사전에 포함된 단어 수: {len(word_index)}\")\n",
        "\n",
        "with open(\"chatbot_dict.bin\", \"wb\") as f:\n",
        "    pickle.dump(word_index, f)"
      ]
    },
    {
      "cell_type": "code",
      "execution_count": null,
      "metadata": {
        "colab": {
          "background_save": true
        },
        "id": "nEvqGIcV3VDe",
        "outputId": "42b783a9-1bc9-4a0c-b76e-4b467a4c235a"
      },
      "outputs": [
        {
          "name": "stdout",
          "output_type": "stream",
          "text": [
            "안녕하세요 1\n",
            "테스트 1\n",
            "코드 1\n",
            "이 11\n",
            "단어 1\n",
            "사전 1\n",
            "만들 401\n",
            "성공 1\n"
          ]
        }
      ],
      "source": [
        "import pickle\n",
        "from tensorflow.keras.preprocessing.text import Tokenizer\n",
        "\n",
        "f = open(\"/content/chatbot_dict.bin\", \"rb\")\n",
        "word_index = pickle.load(f)\n",
        "f.close()\n",
        "\n",
        "sent = \"안녕하세요. 테스트 코드입니다. 단어사전 만들기 성공!\"\n",
        "\n",
        "p = Preprocess(userdic=\"/content/drive/MyDrive/AICOSS/knu_dataset_csv.csv.tsv\")\n",
        "\n",
        "pos = p.pos(sent)\n",
        "\n",
        "keywords = p.get_keywords(pos, without_tag=True)\n",
        "for word in keywords:\n",
        "  try:\n",
        "    print(word, word_index[word])\n",
        "  except KeyError:\n",
        "    print(word, word_index['OOV'])"
      ]
    },
    {
      "cell_type": "code",
      "execution_count": null,
      "metadata": {
        "colab": {
          "background_save": true
        },
        "id": "PCtqWn223atN"
      },
      "outputs": [],
      "source": [
        "from konlpy.tag import Komoran\n",
        "import pickle\n",
        "\n",
        "class Preprocess:\n",
        "  def __init__(self, word2index_dic=\"/content/chatbot_dict.bin\", userdic=\"user_dic.tsv\"):\n",
        "    if(word2index_dic != ''):\n",
        "      f = open(word2index_dic, \"rb\")\n",
        "      self.word_index = pickle.load(f)\n",
        "      f.close()\n",
        "      print(\"success load word_dic\")\n",
        "    else:\n",
        "      self.word_index = None\n",
        "      print(\"fail load word_dic\")\n",
        "\n",
        "    self.komoran = Komoran(userdic=userdic)\n",
        "\n",
        "    self.exclusion_tags = [\n",
        "        'JKS', 'JKC', 'JKG', 'JKO', 'JKB', 'JKV', 'JKQ',\n",
        "        'JX', 'JC',\n",
        "        'SF' 'SP', 'SS', 'SE', 'SO',\n",
        "        'EP', 'EF', 'EC', 'ETN', 'ETM',\n",
        "        'XSN', 'XSV', 'XSA'\n",
        "    ]\n",
        "\n",
        "  def pos(self, sentence):\n",
        "    return self.komoran.pos(sentence)\n",
        "\n",
        "  def get_keywords(self, pos, without_tag=False):\n",
        "    f = lambda x: x in self.exclution_tags\n",
        "    word_list = []\n",
        "    for p in pos:\n",
        "      if f(p[1]) is False:\n",
        "        word_list.append(p if without_tag is False else p[0])\n",
        "    return word_list\n",
        "\n",
        "  def get_wordidx_sequence(self, keywords):\n",
        "    if self.word_index is None:\n",
        "      return []\n",
        "    w2i = []\n",
        "    for word in keywords:\n",
        "      try:\n",
        "        w2i.append(self.word_index[word])\n",
        "      except KeyError:\n",
        "        w2i.append(self.word_index['OOV'])\n",
        "    return w2i"
      ]
    },
    {
      "cell_type": "code",
      "execution_count": null,
      "metadata": {
        "colab": {
          "background_save": true
        },
        "id": "t6uJ01TB3fMw",
        "outputId": "52224ac7-8880-4711-ff2e-077140187a55"
      },
      "outputs": [
        {
          "name": "stdout",
          "output_type": "stream",
          "text": [
            "Word index dictionary loaded successfully.\n",
            "사전에 포함된 단어 수: 439\n",
            "Word index dictionary loaded successfully.\n",
            "[  1   1   1  11   1   1 401   1   0   0   0   0   0   0   0   0   0   0\n",
            "   0   0]\n"
          ]
        }
      ],
      "source": [
        "import os\n",
        "import json\n",
        "import pandas as pd\n",
        "from konlpy.tag import Komoran\n",
        "from tensorflow.keras.preprocessing.text import Tokenizer\n",
        "import pickle\n",
        "from tensorflow.keras.preprocessing.sequence import pad_sequences\n",
        "\n",
        "def preprocess_text(sentence, word_index, max_len):\n",
        "    p = Preprocess()\n",
        "    pos = p.pos(sentence)\n",
        "    keywords = p.get_keywords(pos, without_tag=True)\n",
        "\n",
        "    # 불용어 제거 및 정수 인코딩\n",
        "    sequence = []\n",
        "    for word in keywords:\n",
        "        if word in word_index:\n",
        "            sequence.append(word_index[word])\n",
        "        else:\n",
        "            sequence.append(word_index['OOV'])\n",
        "\n",
        "    # 패딩 적용\n",
        "    padded_sequence = pad_sequences([sequence], maxlen=max_len, padding='post')\n",
        "\n",
        "    return padded_sequence[0]\n",
        "\n",
        "\n",
        "# 단어 집합 생성\n",
        "def create_word_index(corpus_data):\n",
        "    p = Preprocess()\n",
        "    dict = []\n",
        "    for c in corpus_data:\n",
        "        pos = p.pos(c)\n",
        "        for k in pos:\n",
        "            dict.append(k[0])\n",
        "\n",
        "    tokenizer = Tokenizer(oov_token='OOV', num_words=100000)\n",
        "    tokenizer.fit_on_texts(dict)\n",
        "    word_index = tokenizer.word_index\n",
        "    print(f\"사전에 포함된 단어 수: {len(word_index)}\")\n",
        "\n",
        "    with open(\"chatbot_dict.bin\", \"wb\") as f:\n",
        "        pickle.dump(word_index, f)\n",
        "\n",
        "    return word_index\n",
        "\n",
        "# 숫자 시퀀스로 변환\n",
        "def convert_to_sequence(sentence, word_index):\n",
        "    p = Preprocess()\n",
        "    pos = p.pos(sentence)\n",
        "    keywords = p.get_keywords(pos, without_tag=True)\n",
        "\n",
        "    sequence = []\n",
        "    for word in keywords:\n",
        "        try:\n",
        "            sequence.append(word_index[word])\n",
        "        except KeyError:\n",
        "            sequence.append(word_index['OOV'])\n",
        "\n",
        "    return sequence\n",
        "\n",
        "# Preprocess 클래스 정의\n",
        "class Preprocess:\n",
        "    def __init__(self, word2index_dic=\"/content/chatbot_dict.bin\", userdic=\"user_dic.tsv\"):\n",
        "        if word2index_dic != '':\n",
        "            f = open(word2index_dic, \"rb\")\n",
        "            self.word_index = pickle.load(f)\n",
        "            f.close()\n",
        "            print(\"Word index dictionary loaded successfully.\")\n",
        "        else:\n",
        "            self.word_index = None\n",
        "            print(\"Failed to load word index dictionary.\")\n",
        "\n",
        "        self.komoran = Komoran(userdic=userdic)\n",
        "\n",
        "        self.exclusion_tags = [\n",
        "            'JKS', 'JKC', 'JKG', 'JKO', 'JKB', 'JKV', 'JKQ',\n",
        "            'JX', 'JC',\n",
        "            'SF', 'SP', 'SS', 'SE', 'SO',\n",
        "            'EP', 'EF', 'EC', 'ETN', 'ETM',\n",
        "            'XSN', 'XSV', 'XSA'\n",
        "        ]\n",
        "\n",
        "    def pos(self, sentence):\n",
        "        return self.komoran.pos(sentence)\n",
        "\n",
        "    def get_keywords(self, pos, without_tag=False):\n",
        "        word_list = []\n",
        "        for p in pos:\n",
        "            if p[1] not in self.exclusion_tags:\n",
        "                word_list.append(p if not without_tag else p[0])\n",
        "        return word_list\n",
        "\n",
        "    def get_wordidx_sequence(self, keywords):\n",
        "        if self.word_index is None:\n",
        "            return []\n",
        "        w2i = []\n",
        "        for word in keywords:\n",
        "            try:\n",
        "                w2i.append(self.word_index[word])\n",
        "            except KeyError:\n",
        "                w2i.append(self.word_index['OOV'])\n",
        "        return w2i\n",
        "\n",
        "# CSV 파일을 불러와서 데이터 준비\n",
        "topic = pd.read_csv(\"/content/drive/MyDrive/AICOSS/knu_dataset_csv.csv\")\n",
        "topic.dropna(inplace=True)\n",
        "\n",
        "# 단어 집합 생성\n",
        "corpus_data = list(topic['Question'])\n",
        "word_index = create_word_index(corpus_data)\n",
        "\n",
        "# 테스트 문장 변환\n",
        "max_len = 20  # 최대 시퀀스 길이 설정\n",
        "sent = \"안녕하세요. 테스트 코드입니다. 단어사전 만들기 성공!\"\n",
        "sequence = preprocess_text(sent, word_index, max_len)\n",
        "print(sequence)"
      ]
    },
    {
      "cell_type": "markdown",
      "metadata": {
        "id": "-9BUPca68Y9Y"
      },
      "source": [
        "## 의도 분류 모듈 *생성*"
      ]
    },
    {
      "cell_type": "markdown",
      "metadata": {
        "id": "zK3mjM5W90wH"
      },
      "source": [
        "### 데이터 준비"
      ]
    },
    {
      "cell_type": "code",
      "execution_count": null,
      "metadata": {
        "colab": {
          "background_save": true
        },
        "id": "m_WS-j_58cuN",
        "outputId": "98cb25d5-6eb8-45f1-f717-24a57e0ac0be"
      },
      "outputs": [
        {
          "name": "stdout",
          "output_type": "stream",
          "text": [
            "                     Question  \\\n",
            "0        치대 학생인데, 장학금을 받고싶어.    \n",
            "1               의학과 교육과정을 알려줘   \n",
            "2                 컴학 공지사항 알려줘   \n",
            "3  AIcoss 학생인데 gpu 서버 사용하고 싶어   \n",
            "4                 인컴 교육과정 알려줘   \n",
            "\n",
            "                                              Answer  \n",
            "0                            https://dent.knu.ac.kr/  \n",
            "1  https://med.knu.ac.kr/pages/sub.htm?nav_code=k...  \n",
            "2  https://cse.knu.ac.kr/bbs/board.php?bo_table=s...  \n",
            "3               https://aicoss.knu.ac.kr/gpu/list.do  \n",
            "4                 https://cse.knu.ac.kr/sub3_3_b.php  \n"
          ]
        }
      ],
      "source": [
        "import pandas as pd\n",
        "\n",
        "# 업로드된 파일의 경로\n",
        "file_path = '/content/drive/MyDrive/AICOSS/knu_dataset_csv.csv'\n",
        "\n",
        "# 데이터셋 불러오기\n",
        "df = pd.read_csv(file_path)\n",
        "\n",
        "# 데이터 확인\n",
        "print(df.head())\n"
      ]
    },
    {
      "cell_type": "markdown",
      "metadata": {
        "id": "Yw1n1WmW92Y4"
      },
      "source": [
        "### 데이터 전처리"
      ]
    },
    {
      "cell_type": "code",
      "execution_count": null,
      "metadata": {
        "colab": {
          "background_save": true
        },
        "id": "iOEeTqAz8fCW"
      },
      "outputs": [],
      "source": [
        "import tensorflow as tf\n",
        "from tensorflow.keras.preprocessing.text import Tokenizer\n",
        "from tensorflow.keras.preprocessing.sequence import pad_sequences\n",
        "\n",
        "# 입력 텍스트와 레이블 추출\n",
        "texts = df['Question']  # 실제 텍스트가 있는 열 이름으로 변경\n",
        "labels = df['Answer']  # 실제 레이블이 있는 열 이름으로 변경\n",
        "\n",
        "# 텍스트를 시퀀스로 변환\n",
        "tokenizer = Tokenizer(num_words=10000)\n",
        "tokenizer.fit_on_texts(texts)\n",
        "sequences = tokenizer.texts_to_sequences(texts)\n",
        "\n",
        "# 패딩\n",
        "maxlen = 100\n",
        "X = pad_sequences(sequences, maxlen=maxlen)\n",
        "\n",
        "# 레이블 인코딩\n",
        "from sklearn.preprocessing import LabelEncoder\n",
        "\n",
        "encoder = LabelEncoder()\n",
        "y = encoder.fit_transform(labels)\n",
        "\n",
        "# 데이터셋을 훈련과 테스트로 나누기\n",
        "from sklearn.model_selection import train_test_split\n",
        "\n",
        "X_train, X_test, y_train, y_test = train_test_split(X, y, test_size=0.2, random_state=42)\n"
      ]
    },
    {
      "cell_type": "markdown",
      "metadata": {
        "id": "2yO6yxdj-PoG"
      },
      "source": [
        "### 모델 구축"
      ]
    },
    {
      "cell_type": "code",
      "execution_count": null,
      "metadata": {
        "colab": {
          "background_save": true
        },
        "id": "d-Ivqfph-RTp",
        "outputId": "60dcc2bf-8cfd-439b-e113-bffeb9772f6b"
      },
      "outputs": [
        {
          "name": "stderr",
          "output_type": "stream",
          "text": [
            "/usr/local/lib/python3.10/dist-packages/keras/src/layers/core/embedding.py:90: UserWarning: Argument `input_length` is deprecated. Just remove it.\n",
            "  warnings.warn(\n"
          ]
        },
        {
          "data": {
            "text/html": [
              "<pre style=\"white-space:pre;overflow-x:auto;line-height:normal;font-family:Menlo,'DejaVu Sans Mono',consolas,'Courier New',monospace\"><span style=\"font-weight: bold\">Model: \"sequential\"</span>\n",
              "</pre>\n"
            ],
            "text/plain": [
              "\u001b[1mModel: \"sequential\"\u001b[0m\n"
            ]
          },
          "metadata": {},
          "output_type": "display_data"
        },
        {
          "data": {
            "text/html": [
              "<pre style=\"white-space:pre;overflow-x:auto;line-height:normal;font-family:Menlo,'DejaVu Sans Mono',consolas,'Courier New',monospace\">┏━━━━━━━━━━━━━━━━━━━━━━━━━━━━━━━━━━━━━━┳━━━━━━━━━━━━━━━━━━━━━━━━━━━━━┳━━━━━━━━━━━━━━━━━┓\n",
              "┃<span style=\"font-weight: bold\"> Layer (type)                         </span>┃<span style=\"font-weight: bold\"> Output Shape                </span>┃<span style=\"font-weight: bold\">         Param # </span>┃\n",
              "┡━━━━━━━━━━━━━━━━━━━━━━━━━━━━━━━━━━━━━━╇━━━━━━━━━━━━━━━━━━━━━━━━━━━━━╇━━━━━━━━━━━━━━━━━┩\n",
              "│ embedding_1 (<span style=\"color: #0087ff; text-decoration-color: #0087ff\">Embedding</span>)              │ ?                           │     <span style=\"color: #00af00; text-decoration-color: #00af00\">0</span> (unbuilt) │\n",
              "├──────────────────────────────────────┼─────────────────────────────┼─────────────────┤\n",
              "│ lstm (<span style=\"color: #0087ff; text-decoration-color: #0087ff\">LSTM</span>)                          │ ?                           │     <span style=\"color: #00af00; text-decoration-color: #00af00\">0</span> (unbuilt) │\n",
              "├──────────────────────────────────────┼─────────────────────────────┼─────────────────┤\n",
              "│ dense_1 (<span style=\"color: #0087ff; text-decoration-color: #0087ff\">Dense</span>)                      │ ?                           │     <span style=\"color: #00af00; text-decoration-color: #00af00\">0</span> (unbuilt) │\n",
              "├──────────────────────────────────────┼─────────────────────────────┼─────────────────┤\n",
              "│ dropout_1 (<span style=\"color: #0087ff; text-decoration-color: #0087ff\">Dropout</span>)                  │ ?                           │     <span style=\"color: #00af00; text-decoration-color: #00af00\">0</span> (unbuilt) │\n",
              "├──────────────────────────────────────┼─────────────────────────────┼─────────────────┤\n",
              "│ dense_2 (<span style=\"color: #0087ff; text-decoration-color: #0087ff\">Dense</span>)                      │ ?                           │     <span style=\"color: #00af00; text-decoration-color: #00af00\">0</span> (unbuilt) │\n",
              "└──────────────────────────────────────┴─────────────────────────────┴─────────────────┘\n",
              "</pre>\n"
            ],
            "text/plain": [
              "┏━━━━━━━━━━━━━━━━━━━━━━━━━━━━━━━━━━━━━━┳━━━━━━━━━━━━━━━━━━━━━━━━━━━━━┳━━━━━━━━━━━━━━━━━┓\n",
              "┃\u001b[1m \u001b[0m\u001b[1mLayer (type)                        \u001b[0m\u001b[1m \u001b[0m┃\u001b[1m \u001b[0m\u001b[1mOutput Shape               \u001b[0m\u001b[1m \u001b[0m┃\u001b[1m \u001b[0m\u001b[1m        Param #\u001b[0m\u001b[1m \u001b[0m┃\n",
              "┡━━━━━━━━━━━━━━━━━━━━━━━━━━━━━━━━━━━━━━╇━━━━━━━━━━━━━━━━━━━━━━━━━━━━━╇━━━━━━━━━━━━━━━━━┩\n",
              "│ embedding_1 (\u001b[38;5;33mEmbedding\u001b[0m)              │ ?                           │     \u001b[38;5;34m0\u001b[0m (unbuilt) │\n",
              "├──────────────────────────────────────┼─────────────────────────────┼─────────────────┤\n",
              "│ lstm (\u001b[38;5;33mLSTM\u001b[0m)                          │ ?                           │     \u001b[38;5;34m0\u001b[0m (unbuilt) │\n",
              "├──────────────────────────────────────┼─────────────────────────────┼─────────────────┤\n",
              "│ dense_1 (\u001b[38;5;33mDense\u001b[0m)                      │ ?                           │     \u001b[38;5;34m0\u001b[0m (unbuilt) │\n",
              "├──────────────────────────────────────┼─────────────────────────────┼─────────────────┤\n",
              "│ dropout_1 (\u001b[38;5;33mDropout\u001b[0m)                  │ ?                           │     \u001b[38;5;34m0\u001b[0m (unbuilt) │\n",
              "├──────────────────────────────────────┼─────────────────────────────┼─────────────────┤\n",
              "│ dense_2 (\u001b[38;5;33mDense\u001b[0m)                      │ ?                           │     \u001b[38;5;34m0\u001b[0m (unbuilt) │\n",
              "└──────────────────────────────────────┴─────────────────────────────┴─────────────────┘\n"
            ]
          },
          "metadata": {},
          "output_type": "display_data"
        },
        {
          "data": {
            "text/html": [
              "<pre style=\"white-space:pre;overflow-x:auto;line-height:normal;font-family:Menlo,'DejaVu Sans Mono',consolas,'Courier New',monospace\"><span style=\"font-weight: bold\"> Total params: </span><span style=\"color: #00af00; text-decoration-color: #00af00\">0</span> (0.00 B)\n",
              "</pre>\n"
            ],
            "text/plain": [
              "\u001b[1m Total params: \u001b[0m\u001b[38;5;34m0\u001b[0m (0.00 B)\n"
            ]
          },
          "metadata": {},
          "output_type": "display_data"
        },
        {
          "data": {
            "text/html": [
              "<pre style=\"white-space:pre;overflow-x:auto;line-height:normal;font-family:Menlo,'DejaVu Sans Mono',consolas,'Courier New',monospace\"><span style=\"font-weight: bold\"> Trainable params: </span><span style=\"color: #00af00; text-decoration-color: #00af00\">0</span> (0.00 B)\n",
              "</pre>\n"
            ],
            "text/plain": [
              "\u001b[1m Trainable params: \u001b[0m\u001b[38;5;34m0\u001b[0m (0.00 B)\n"
            ]
          },
          "metadata": {},
          "output_type": "display_data"
        },
        {
          "data": {
            "text/html": [
              "<pre style=\"white-space:pre;overflow-x:auto;line-height:normal;font-family:Menlo,'DejaVu Sans Mono',consolas,'Courier New',monospace\"><span style=\"font-weight: bold\"> Non-trainable params: </span><span style=\"color: #00af00; text-decoration-color: #00af00\">0</span> (0.00 B)\n",
              "</pre>\n"
            ],
            "text/plain": [
              "\u001b[1m Non-trainable params: \u001b[0m\u001b[38;5;34m0\u001b[0m (0.00 B)\n"
            ]
          },
          "metadata": {},
          "output_type": "display_data"
        }
      ],
      "source": [
        "from tensorflow.keras.models import Sequential\n",
        "from tensorflow.keras.layers import Embedding, LSTM, Dense, Dropout\n",
        "\n",
        "# 모델 생성\n",
        "model = Sequential()\n",
        "model.add(Embedding(input_dim=10000, output_dim=128, input_length=maxlen))\n",
        "model.add(LSTM(128, dropout=0.2, recurrent_dropout=0.2))\n",
        "model.add(Dense(64, activation='relu'))\n",
        "model.add(Dropout(0.5))\n",
        "model.add(Dense(len(encoder.classes_), activation='softmax'))\n",
        "\n",
        "# 모델 컴파일\n",
        "model.compile(loss='sparse_categorical_crossentropy',\n",
        "              optimizer='adam',\n",
        "              metrics=['accuracy'])\n",
        "\n",
        "# 모델 요약\n",
        "model.summary()\n"
      ]
    },
    {
      "cell_type": "markdown",
      "metadata": {
        "id": "zS93HNLW-TUP"
      },
      "source": [
        "### 모델 학습"
      ]
    },
    {
      "cell_type": "code",
      "execution_count": null,
      "metadata": {
        "colab": {
          "background_save": true
        },
        "id": "gNK17P1J-UcT",
        "outputId": "9fafd50d-3d04-41c2-b793-d37804209f82"
      },
      "outputs": [
        {
          "name": "stdout",
          "output_type": "stream",
          "text": [
            "Epoch 1/10\n",
            "\u001b[1m5/5\u001b[0m \u001b[32m━━━━━━━━━━━━━━━━━━━━\u001b[0m\u001b[37m\u001b[0m \u001b[1m17s\u001b[0m 974ms/step - accuracy: 0.0034 - loss: 5.1127 - val_accuracy: 0.0000e+00 - val_loss: 5.1142\n",
            "Epoch 2/10\n",
            "\u001b[1m5/5\u001b[0m \u001b[32m━━━━━━━━━━━━━━━━━━━━\u001b[0m\u001b[37m\u001b[0m \u001b[1m2s\u001b[0m 424ms/step - accuracy: 0.0000e+00 - loss: 5.1081 - val_accuracy: 0.0256 - val_loss: 5.1188\n",
            "Epoch 3/10\n",
            "\u001b[1m5/5\u001b[0m \u001b[32m━━━━━━━━━━━━━━━━━━━━\u001b[0m\u001b[37m\u001b[0m \u001b[1m3s\u001b[0m 434ms/step - accuracy: 0.0185 - loss: 5.1000 - val_accuracy: 0.0256 - val_loss: 5.1332\n",
            "Epoch 4/10\n",
            "\u001b[1m5/5\u001b[0m \u001b[32m━━━━━━━━━━━━━━━━━━━━\u001b[0m\u001b[37m\u001b[0m \u001b[1m2s\u001b[0m 426ms/step - accuracy: 0.0078 - loss: 5.0900 - val_accuracy: 0.0256 - val_loss: 5.1662\n",
            "Epoch 5/10\n",
            "\u001b[1m5/5\u001b[0m \u001b[32m━━━━━━━━━━━━━━━━━━━━\u001b[0m\u001b[37m\u001b[0m \u001b[1m1s\u001b[0m 194ms/step - accuracy: 0.0078 - loss: 5.0786 - val_accuracy: 0.0256 - val_loss: 5.2139\n",
            "Epoch 6/10\n",
            "\u001b[1m5/5\u001b[0m \u001b[32m━━━━━━━━━━━━━━━━━━━━\u001b[0m\u001b[37m\u001b[0m \u001b[1m1s\u001b[0m 187ms/step - accuracy: 0.0156 - loss: 5.0662 - val_accuracy: 0.0256 - val_loss: 5.2521\n",
            "Epoch 7/10\n",
            "\u001b[1m5/5\u001b[0m \u001b[32m━━━━━━━━━━━━━━━━━━━━\u001b[0m\u001b[37m\u001b[0m \u001b[1m1s\u001b[0m 188ms/step - accuracy: 0.0242 - loss: 5.0001 - val_accuracy: 0.0256 - val_loss: 5.3959\n",
            "Epoch 8/10\n",
            "\u001b[1m5/5\u001b[0m \u001b[32m━━━━━━━━━━━━━━━━━━━━\u001b[0m\u001b[37m\u001b[0m \u001b[1m1s\u001b[0m 216ms/step - accuracy: 0.0078 - loss: 4.9991 - val_accuracy: 0.0256 - val_loss: 5.4619\n",
            "Epoch 9/10\n",
            "\u001b[1m5/5\u001b[0m \u001b[32m━━━━━━━━━━━━━━━━━━━━\u001b[0m\u001b[37m\u001b[0m \u001b[1m1s\u001b[0m 221ms/step - accuracy: 0.0108 - loss: 5.0275 - val_accuracy: 0.0256 - val_loss: 5.4329\n",
            "Epoch 10/10\n",
            "\u001b[1m5/5\u001b[0m \u001b[32m━━━━━━━━━━━━━━━━━━━━\u001b[0m\u001b[37m\u001b[0m \u001b[1m1s\u001b[0m 212ms/step - accuracy: 0.0302 - loss: 4.9810 - val_accuracy: 0.0256 - val_loss: 5.4584\n"
          ]
        }
      ],
      "source": [
        "# 모델 학습\n",
        "history = model.fit(X_train, y_train,\n",
        "                    epochs=10,\n",
        "                    batch_size=32,\n",
        "                    validation_data=(X_test, y_test))\n"
      ]
    },
    {
      "cell_type": "markdown",
      "metadata": {
        "id": "GQNtN28H-W3A"
      },
      "source": [
        "### 모델 평가 및 저장"
      ]
    },
    {
      "cell_type": "code",
      "execution_count": null,
      "metadata": {
        "colab": {
          "background_save": true
        },
        "id": "jpj_ghUj-Yce",
        "outputId": "b0af941c-960a-45a3-8446-c8afb54fec26"
      },
      "outputs": [
        {
          "name": "stdout",
          "output_type": "stream",
          "text": [
            "\u001b[1m2/2\u001b[0m \u001b[32m━━━━━━━━━━━━━━━━━━━━\u001b[0m\u001b[37m\u001b[0m \u001b[1m0s\u001b[0m 22ms/step - accuracy: 0.0275 - loss: 5.4543\n"
          ]
        },
        {
          "name": "stderr",
          "output_type": "stream",
          "text": [
            "WARNING:absl:You are saving your model as an HDF5 file via `model.save()` or `keras.saving.save_model(model)`. This file format is considered legacy. We recommend using instead the native Keras format, e.g. `model.save('my_model.keras')` or `keras.saving.save_model(model, 'my_model.keras')`. \n"
          ]
        },
        {
          "name": "stdout",
          "output_type": "stream",
          "text": [
            "Test Accuracy: 0.0256\n"
          ]
        }
      ],
      "source": [
        "# 테스트 데이터로 모델 평가\n",
        "loss, accuracy = model.evaluate(X_test, y_test)\n",
        "print(f'Test Accuracy: {accuracy:.4f}')\n",
        "\n",
        "# 모델 저장\n",
        "model.save('intent_classification_model.h5')"
      ]
    },
    {
      "cell_type": "markdown",
      "metadata": {
        "id": "eMLCUa7a-dLO"
      },
      "source": [
        "### 모델 사용"
      ]
    },
    {
      "cell_type": "code",
      "execution_count": null,
      "metadata": {
        "colab": {
          "background_save": true
        },
        "id": "B05DFQn5BIwW",
        "outputId": "c81ce20f-b021-473f-f61a-21a094e5229b"
      },
      "outputs": [
        {
          "name": "stdout",
          "output_type": "stream",
          "text": [
            "\u001b[1m1/1\u001b[0m \u001b[32m━━━━━━━━━━━━━━━━━━━━\u001b[0m\u001b[37m\u001b[0m \u001b[1m0s\u001b[0m 268ms/step\n",
            "https://knucube.knu.ac.kr/knucube_index.jsp\n"
          ]
        }
      ],
      "source": [
        "# 새로운 문장 예측\n",
        "def predict_intent(text):\n",
        "    sequence = tokenizer.texts_to_sequences([text])\n",
        "    padded_sequence = pad_sequences(sequence, maxlen=maxlen)\n",
        "    prediction = model.predict(padded_sequence)\n",
        "    predicted_class = encoder.inverse_transform([tf.argmax(prediction[0])])\n",
        "    return predicted_class[0]\n",
        "\n",
        "# 예시 예측\n",
        "new_text = \"기미코가 최초로 은퇴 선언을 한 게 언제야?\"\n",
        "print(predict_intent(new_text))\n"
      ]
    },
    {
      "cell_type": "markdown",
      "metadata": {
        "id": "BPJbKEUtrItQ"
      },
      "source": [
        "# Flask로 배포"
      ]
    },
    {
      "cell_type": "code",
      "execution_count": null,
      "metadata": {
        "colab": {
          "background_save": true
        },
        "id": "C-HX3XNqGXLw",
        "outputId": "76c7a0ab-5cb1-4770-dd78-1c630748ab83"
      },
      "outputs": [
        {
          "ename": "ModuleNotFoundError",
          "evalue": "No module named 'pyngrok'",
          "output_type": "error",
          "traceback": [
            "\u001b[0;31m---------------------------------------------------------------------------\u001b[0m",
            "\u001b[0;31mModuleNotFoundError\u001b[0m                       Traceback (most recent call last)",
            "\u001b[0;32m<ipython-input-51-c866cf217a57>\u001b[0m in \u001b[0;36m<cell line: 2>\u001b[0;34m()\u001b[0m\n\u001b[1;32m      1\u001b[0m \u001b[0;32mfrom\u001b[0m \u001b[0mflask\u001b[0m \u001b[0;32mimport\u001b[0m \u001b[0mFlask\u001b[0m\u001b[0;34m\u001b[0m\u001b[0;34m\u001b[0m\u001b[0m\n\u001b[0;32m----> 2\u001b[0;31m \u001b[0;32mfrom\u001b[0m \u001b[0mpyngrok\u001b[0m \u001b[0;32mimport\u001b[0m \u001b[0mngrok\u001b[0m\u001b[0;34m\u001b[0m\u001b[0;34m\u001b[0m\u001b[0m\n\u001b[0m",
            "\u001b[0;31mModuleNotFoundError\u001b[0m: No module named 'pyngrok'",
            "",
            "\u001b[0;31m---------------------------------------------------------------------------\u001b[0;32m\nNOTE: If your import is failing due to a missing package, you can\nmanually install dependencies using either !pip or !apt.\n\nTo view examples of installing some common dependencies, click the\n\"Open Examples\" button below.\n\u001b[0;31m---------------------------------------------------------------------------\u001b[0m\n"
          ]
        }
      ],
      "source": [
        "from flask import Flask\n",
        "from pyngrok import ngrok"
      ]
    },
    {
      "cell_type": "code",
      "execution_count": null,
      "metadata": {
        "colab": {
          "background_save": true
        },
        "id": "XYb9ICT4FyTt"
      },
      "outputs": [],
      "source": [
        "!ngrok authtoken \"2lVi0ceqGg8GCrZztz45bXOOEUe_Apk5DaPGbPY44jAm2GTi\""
      ]
    },
    {
      "cell_type": "code",
      "execution_count": null,
      "metadata": {
        "colab": {
          "background_save": true
        },
        "id": "SpQ_hi2KF4PH"
      },
      "outputs": [],
      "source": [
        "!pip install colab-ssh --upgrade"
      ]
    },
    {
      "cell_type": "code",
      "execution_count": null,
      "metadata": {
        "colab": {
          "background_save": true
        },
        "id": "8F5MVAWYO4Yy"
      },
      "outputs": [],
      "source": [
        "!curl -s https://ngrok-agent.s3.amazonaws.com/ngrok.asc | tee /etc/apt/trusted.gpg.d/ngrok.asc > /dev/null && \\\n",
        "    echo \"deb https://ngrok-agent.s3.amazonaws.com buster main\" | tee /etc/apt/sources.list.d/ngrok.list && \\\n",
        "    apt-get update && apt-get install ngrok\n"
      ]
    },
    {
      "cell_type": "code",
      "execution_count": null,
      "metadata": {
        "colab": {
          "background_save": true
        },
        "id": "bNtbl_hDQdWR"
      },
      "outputs": [],
      "source": [
        "!pip install ngrok"
      ]
    },
    {
      "cell_type": "code",
      "execution_count": null,
      "metadata": {
        "colab": {
          "background_save": true
        },
        "id": "Ok7UcyKvP09o"
      },
      "outputs": [],
      "source": [
        "!ngrok config upgrade"
      ]
    },
    {
      "cell_type": "code",
      "execution_count": null,
      "metadata": {
        "id": "qnv5mwhIQc24"
      },
      "outputs": [],
      "source": [
        "import os\n",
        "\n",
        "# 설정 파일 경로\n",
        "config_path = '/root/.ngrok2/ngrok.yml'\n",
        "\n",
        "# 설정 파일이 존재하는지 확인\n",
        "if os.path.exists(config_path):\n",
        "    print(f\"설정 파일이 존재합니다: {config_path}\")\n",
        "    # 설정 파일 내용 읽기\n",
        "    with open(config_path, 'r') as file:\n",
        "        config_content = file.read()\n",
        "    print(\"설정 파일 내용:\")\n",
        "    print(config_content)\n",
        "else:\n",
        "    print(f\"설정 파일이 존재하지 않습니다: {config_path}\")\n"
      ]
    },
    {
      "cell_type": "code",
      "execution_count": null,
      "metadata": {
        "colab": {
          "background_save": true
        },
        "id": "-shaAmYHQkEx"
      },
      "outputs": [],
      "source": [
        "# 새로운 설정 파일 내용 (여기서 YOUR_AUTH_TOKEN을 실제 토큰으로 교체)\n",
        "new_config_content = \"\"\"\n",
        "authtoken: YOUR_AUTH_TOKEN\n",
        "\"\"\"\n",
        "\n",
        "# 설정 파일 작성\n",
        "with open(config_path, 'w') as file:\n",
        "    file.write(new_config_content)\n",
        "print(f\"새로운 설정 파일이 생성되었습니다: {config_path}\")\n"
      ]
    },
    {
      "cell_type": "code",
      "execution_count": null,
      "metadata": {
        "colab": {
          "background_save": true
        },
        "id": "OBXbKFVDQlrq"
      },
      "outputs": [],
      "source": [
        "!ngrok version\n",
        "!ngrok http 5000\n"
      ]
    },
    {
      "cell_type": "code",
      "execution_count": null,
      "metadata": {
        "colab": {
          "background_save": true
        },
        "id": "850aLZwmPJNi"
      },
      "outputs": [],
      "source": [
        "!ngrok http 5000"
      ]
    },
    {
      "cell_type": "code",
      "execution_count": null,
      "metadata": {
        "colab": {
          "background_save": true
        },
        "id": "NdhMcVUcPE3v"
      },
      "outputs": [],
      "source": [
        "from flask import Flask, request, jsonify\n",
        "from pyngrok import ngrok\n",
        "\n",
        "app = Flask(__name__)\n",
        "\n",
        "# Ngrok 터널을 열고 URL을 출력\n",
        "public_url = ngrok.connect(5000)\n",
        "print(f\" * ngrok URL: {public_url}\")\n",
        "\n",
        "@app.route('/predict', methods=['POST'])\n",
        "def predict():\n",
        "    data = request.json\n",
        "    prompt = data['prompt']\n",
        "    response = f\"AI응답: {prompt[::-1]}\"\n",
        "    return jsonify({'response': response})\n",
        "\n",
        "if __name__ == '__main__':\n",
        "    app.run(port=5000)\n"
      ]
    },
    {
      "cell_type": "code",
      "execution_count": null,
      "metadata": {
        "id": "omQI9VmlF6ht"
      },
      "outputs": [],
      "source": [
        "import numpy as np\n",
        "from flask import Flask, request, jsonify\n",
        "import transformers\n",
        "from transformers import pipeline\n",
        "from flask_ngrok import run_with_ngrok  # ngrok 추가\n",
        "import torch\n",
        "import gc\n",
        "\n",
        "\n",
        "app = Flask(__name__)\n",
        "run_with_ngrok(app)\n",
        "\n",
        "\n",
        "\n",
        "## main code\n",
        "\n",
        "\n",
        "\n",
        "@app.route('/generate', methods=['POST'])\n",
        "\n",
        "## example code\n",
        "def generate():\n",
        "    data = request.json\n",
        "    instruction = data.get(\"instruction\", \"\")\n",
        "    if not instruction:\n",
        "        return jsonify({\"error\": \"No instruction provided\"}), 400\n",
        "\n",
        "    generated_text = generate_text(instruction)\n",
        "    return jsonify({\"generated_text\": generated_text})\n",
        "\n",
        "\n",
        "# ngrok을 사용하여 5000번 포트에 대한 터널 열기\n",
        "public_url = ngrok.connect(4040)\n",
        "print(\"Public URL:\", public_url)\n",
        "\n",
        "\n",
        "if __name__ == '__main__':\n",
        "    app.run()"
      ]
    },
    {
      "cell_type": "code",
      "execution_count": null,
      "metadata": {
        "id": "-4_ipvkErKvV"
      },
      "outputs": [],
      "source": [
        "\n",
        "app = Flask(__name__)\n",
        "\n",
        "# Ngrok 터널을 열고 URL을 출력\n",
        "public_url = ngrok.connect(5000)\n",
        "print(\" * ngrok URL:\", public_url)\n",
        "\n",
        "@app.route(\"/\")\n",
        "def hello():\n",
        "    return \"Colab 로컬호스트 실행!\"\n",
        "\n",
        "app.run()"
      ]
    },
    {
      "cell_type": "code",
      "execution_count": null,
      "metadata": {
        "id": "fhEdsqRrD7rK"
      },
      "outputs": [],
      "source": [
        "from flask import Flask, request, jsonify\n",
        "from flask_ngrok import run_with_ngrok\n",
        "\n",
        "app = Flask(__name__)\n",
        "run_with_ngrok(app)\n",
        "\n",
        "@app.route('/predict', methods=['POST'])\n",
        "def predict():\n",
        "  data = request.json\n",
        "  prompt = data['prompt']\n",
        "\n",
        "  response = f\"AI응답: {prompt[::-1]}\"\n",
        "  return jsonify({'response': response})\n",
        "\n",
        "if __name__ == '__main__':\n",
        "  app.run()"
      ]
    },
    {
      "cell_type": "code",
      "execution_count": null,
      "metadata": {
        "id": "YblI--5oEZxk"
      },
      "outputs": [],
      "source": []
    }
  ],
  "metadata": {
    "colab": {
      "provenance": [],
      "mount_file_id": "1W1RAWFrCwQeDwp4pzLmD4MyrxWrNQ9pt",
      "authorship_tag": "ABX9TyPH4o5Ayp8GoiAgnkoZmWQA",
      "include_colab_link": true
    },
    "kernelspec": {
      "display_name": "Python 3",
      "name": "python3"
    },
    "language_info": {
      "name": "python"
    }
  },
  "nbformat": 4,
  "nbformat_minor": 0
}